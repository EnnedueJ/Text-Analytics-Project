{
 "cells": [
  {
   "cell_type": "markdown",
   "id": "f7806f26",
   "metadata": {
    "papermill": {
     "duration": 0.023037,
     "end_time": "2021-12-16T19:48:17.369017",
     "exception": false,
     "start_time": "2021-12-16T19:48:17.345980",
     "status": "completed"
    },
    "tags": []
   },
   "source": [
    "## Dataframe and libraries Import"
   ]
  },
  {
   "cell_type": "code",
   "execution_count": 1,
   "id": "7fca9a0f",
   "metadata": {
    "execution": {
     "iopub.execute_input": "2021-12-16T19:48:17.422178Z",
     "iopub.status.busy": "2021-12-16T19:48:17.420653Z",
     "iopub.status.idle": "2021-12-16T19:48:23.489339Z",
     "shell.execute_reply": "2021-12-16T19:48:23.488631Z",
     "shell.execute_reply.started": "2021-12-16T19:28:08.103719Z"
    },
    "papermill": {
     "duration": 6.096376,
     "end_time": "2021-12-16T19:48:23.489474",
     "exception": false,
     "start_time": "2021-12-16T19:48:17.393098",
     "status": "completed"
    },
    "tags": []
   },
   "outputs": [
    {
     "name": "stdout",
     "output_type": "stream",
     "text": [
      "1 Physical GPUs, 1 Logical GPU\n"
     ]
    },
    {
     "name": "stderr",
     "output_type": "stream",
     "text": [
      "2021-12-16 19:48:21.557322: I tensorflow/stream_executor/cuda/cuda_gpu_executor.cc:937] successful NUMA node read from SysFS had negative value (-1), but there must be at least one NUMA node, so returning NUMA node zero\n",
      "2021-12-16 19:48:21.647863: I tensorflow/stream_executor/cuda/cuda_gpu_executor.cc:937] successful NUMA node read from SysFS had negative value (-1), but there must be at least one NUMA node, so returning NUMA node zero\n",
      "2021-12-16 19:48:21.648554: I tensorflow/stream_executor/cuda/cuda_gpu_executor.cc:937] successful NUMA node read from SysFS had negative value (-1), but there must be at least one NUMA node, so returning NUMA node zero\n",
      "2021-12-16 19:48:21.651062: I tensorflow/core/platform/cpu_feature_guard.cc:142] This TensorFlow binary is optimized with oneAPI Deep Neural Network Library (oneDNN) to use the following CPU instructions in performance-critical operations:  AVX2 AVX512F FMA\n",
      "To enable them in other operations, rebuild TensorFlow with the appropriate compiler flags.\n",
      "2021-12-16 19:48:21.652111: I tensorflow/stream_executor/cuda/cuda_gpu_executor.cc:937] successful NUMA node read from SysFS had negative value (-1), but there must be at least one NUMA node, so returning NUMA node zero\n",
      "2021-12-16 19:48:21.652828: I tensorflow/stream_executor/cuda/cuda_gpu_executor.cc:937] successful NUMA node read from SysFS had negative value (-1), but there must be at least one NUMA node, so returning NUMA node zero\n",
      "2021-12-16 19:48:21.653413: I tensorflow/stream_executor/cuda/cuda_gpu_executor.cc:937] successful NUMA node read from SysFS had negative value (-1), but there must be at least one NUMA node, so returning NUMA node zero\n",
      "2021-12-16 19:48:23.472786: I tensorflow/stream_executor/cuda/cuda_gpu_executor.cc:937] successful NUMA node read from SysFS had negative value (-1), but there must be at least one NUMA node, so returning NUMA node zero\n",
      "2021-12-16 19:48:23.473676: I tensorflow/stream_executor/cuda/cuda_gpu_executor.cc:937] successful NUMA node read from SysFS had negative value (-1), but there must be at least one NUMA node, so returning NUMA node zero\n",
      "2021-12-16 19:48:23.474354: I tensorflow/stream_executor/cuda/cuda_gpu_executor.cc:937] successful NUMA node read from SysFS had negative value (-1), but there must be at least one NUMA node, so returning NUMA node zero\n",
      "2021-12-16 19:48:23.474985: I tensorflow/core/common_runtime/gpu/gpu_device.cc:1510] Created device /job:localhost/replica:0/task:0/device:GPU:0 with 15403 MB memory:  -> device: 0, name: Tesla P100-PCIE-16GB, pci bus id: 0000:00:04.0, compute capability: 6.0\n"
     ]
    }
   ],
   "source": [
    "import numpy as np\n",
    "import tensorflow as tf\n",
    "\n",
    "from tensorflow.python.client import device_lib\n",
    "\n",
    "\n",
    "gpus = tf.config.list_physical_devices('GPU')\n",
    "if gpus:\n",
    "  # Restrict TensorFlow to only use the first GPU\n",
    "  try:\n",
    "    tf.config.set_visible_devices(gpus[0], 'GPU')\n",
    "    logical_gpus = tf.config.list_logical_devices('GPU')\n",
    "    print(len(gpus), \"Physical GPUs,\", len(logical_gpus), \"Logical GPU\")\n",
    "  except RuntimeError as e:\n",
    "    # Visible devices must be set before GPUs have been initialized\n",
    "    print(e)"
   ]
  },
  {
   "cell_type": "code",
   "execution_count": 2,
   "id": "abcedb38",
   "metadata": {
    "execution": {
     "iopub.execute_input": "2021-12-16T19:48:23.541833Z",
     "iopub.status.busy": "2021-12-16T19:48:23.541232Z",
     "iopub.status.idle": "2021-12-16T19:48:26.349526Z",
     "shell.execute_reply": "2021-12-16T19:48:26.349031Z",
     "shell.execute_reply.started": "2021-12-16T19:35:27.397771Z"
    },
    "papermill": {
     "duration": 2.836653,
     "end_time": "2021-12-16T19:48:26.349667",
     "exception": false,
     "start_time": "2021-12-16T19:48:23.513014",
     "status": "completed"
    },
    "tags": []
   },
   "outputs": [],
   "source": [
    "import pandas as pd\n",
    "\n",
    "df = pd.read_csv('../input/movie-classification/movie_dataset_classification.csv',index_col=0)\n",
    "df.dropna(subset=['Plot'], inplace=True)\n",
    "df.drop_duplicates(subset=['Title','Plot'], inplace=True)\n",
    "#removing low frequency genres\n",
    "counts = df.Genre.value_counts()\n",
    "counts = list(counts[counts < 150].index)\n",
    "df = df[~df['Genre'].isin(counts)]"
   ]
  },
  {
   "cell_type": "markdown",
   "id": "154fd97d",
   "metadata": {
    "papermill": {
     "duration": 0.022412,
     "end_time": "2021-12-16T19:48:26.395049",
     "exception": false,
     "start_time": "2021-12-16T19:48:26.372637",
     "status": "completed"
    },
    "tags": []
   },
   "source": [
    "## Preprocessing"
   ]
  },
  {
   "cell_type": "code",
   "execution_count": 3,
   "id": "fa313001",
   "metadata": {
    "execution": {
     "iopub.execute_input": "2021-12-16T19:48:26.467290Z",
     "iopub.status.busy": "2021-12-16T19:48:26.466759Z",
     "iopub.status.idle": "2021-12-16T19:48:26.472368Z",
     "shell.execute_reply": "2021-12-16T19:48:26.472799Z",
     "shell.execute_reply.started": "2021-12-16T19:35:28.671627Z"
    },
    "papermill": {
     "duration": 0.045975,
     "end_time": "2021-12-16T19:48:26.472931",
     "exception": false,
     "start_time": "2021-12-16T19:48:26.426956",
     "status": "completed"
    },
    "tags": []
   },
   "outputs": [
    {
     "data": {
      "text/plain": [
       "drama              8098\n",
       "comedy             6501\n",
       "adventure          2818\n",
       "science fiction    2719\n",
       "western            2660\n",
       "thriller           2516\n",
       "action             2116\n",
       "musical            1827\n",
       "noir               1713\n",
       "horror             1355\n",
       "romance            1332\n",
       "fantasy             827\n",
       "animation           811\n",
       "war                 534\n",
       "sport               409\n",
       "documentary         354\n",
       "family              319\n",
       "historical          253\n",
       "biography           219\n",
       "Name: Genre, dtype: int64"
      ]
     },
     "execution_count": 3,
     "metadata": {},
     "output_type": "execute_result"
    }
   ],
   "source": [
    "df['Genre'].value_counts()"
   ]
  },
  {
   "cell_type": "code",
   "execution_count": 4,
   "id": "bfe86f78",
   "metadata": {
    "execution": {
     "iopub.execute_input": "2021-12-16T19:48:26.530530Z",
     "iopub.status.busy": "2021-12-16T19:48:26.527415Z",
     "iopub.status.idle": "2021-12-16T19:48:26.532626Z",
     "shell.execute_reply": "2021-12-16T19:48:26.533097Z",
     "shell.execute_reply.started": "2021-12-16T19:35:28.685539Z"
    },
    "papermill": {
     "duration": 0.034952,
     "end_time": "2021-12-16T19:48:26.533226",
     "exception": false,
     "start_time": "2021-12-16T19:48:26.498274",
     "status": "completed"
    },
    "tags": []
   },
   "outputs": [],
   "source": [
    "def transform_genres(genre):\n",
    "    if genre in ['action', 'adventure']:\n",
    "        return 'action & adventure'\n",
    "        \n",
    "    elif genre == 'biography':\n",
    "        return 'documentary'\n",
    "\n",
    "    elif genre in ['science fiction', 'fantasy']:\n",
    "        return 'sci-fi & fantasy'\n",
    "        \n",
    "    elif genre == 'noir':\n",
    "        return 'thriller'\n",
    "    \n",
    "    return genre"
   ]
  },
  {
   "cell_type": "code",
   "execution_count": 5,
   "id": "d372151c",
   "metadata": {
    "execution": {
     "iopub.execute_input": "2021-12-16T19:48:26.588266Z",
     "iopub.status.busy": "2021-12-16T19:48:26.587411Z",
     "iopub.status.idle": "2021-12-16T19:48:26.602307Z",
     "shell.execute_reply": "2021-12-16T19:48:26.602884Z",
     "shell.execute_reply.started": "2021-12-16T19:35:28.693446Z"
    },
    "papermill": {
     "duration": 0.044696,
     "end_time": "2021-12-16T19:48:26.603007",
     "exception": false,
     "start_time": "2021-12-16T19:48:26.558311",
     "status": "completed"
    },
    "tags": []
   },
   "outputs": [],
   "source": [
    "df['Genre'] = df['Genre'].apply(transform_genres)"
   ]
  },
  {
   "cell_type": "code",
   "execution_count": 6,
   "id": "4a4a32f4",
   "metadata": {
    "execution": {
     "iopub.execute_input": "2021-12-16T19:48:26.658315Z",
     "iopub.status.busy": "2021-12-16T19:48:26.657625Z",
     "iopub.status.idle": "2021-12-16T19:48:26.672022Z",
     "shell.execute_reply": "2021-12-16T19:48:26.671601Z",
     "shell.execute_reply.started": "2021-12-16T19:35:28.715069Z"
    },
    "papermill": {
     "duration": 0.044547,
     "end_time": "2021-12-16T19:48:26.672131",
     "exception": false,
     "start_time": "2021-12-16T19:48:26.627584",
     "status": "completed"
    },
    "tags": []
   },
   "outputs": [],
   "source": [
    "ids = df[df['Genre'].isin(['drama', 'comedy', 'thriller'])]['Genre'].sample(frac=0.2, random_state=2).index\n",
    "df_1 = df[~df['Genre'].isin(['drama', 'comedy', 'thriller'])]\n",
    "df_2 = df.loc[ids,:]"
   ]
  },
  {
   "cell_type": "code",
   "execution_count": 7,
   "id": "a1b63fad",
   "metadata": {
    "execution": {
     "iopub.execute_input": "2021-12-16T19:48:26.723775Z",
     "iopub.status.busy": "2021-12-16T19:48:26.722992Z",
     "iopub.status.idle": "2021-12-16T19:48:26.738262Z",
     "shell.execute_reply": "2021-12-16T19:48:26.737864Z",
     "shell.execute_reply.started": "2021-12-16T19:35:28.735774Z"
    },
    "papermill": {
     "duration": 0.042803,
     "end_time": "2021-12-16T19:48:26.738367",
     "exception": false,
     "start_time": "2021-12-16T19:48:26.695564",
     "status": "completed"
    },
    "tags": []
   },
   "outputs": [
    {
     "data": {
      "text/plain": [
       "action & adventure    4934\n",
       "sci-fi & fantasy      3546\n",
       "western               2660\n",
       "musical               1827\n",
       "drama                 1630\n",
       "horror                1355\n",
       "romance               1332\n",
       "comedy                1287\n",
       "thriller               849\n",
       "animation              811\n",
       "documentary            573\n",
       "war                    534\n",
       "sport                  409\n",
       "family                 319\n",
       "historical             253\n",
       "Name: Genre, dtype: int64"
      ]
     },
     "execution_count": 7,
     "metadata": {},
     "output_type": "execute_result"
    }
   ],
   "source": [
    "df = pd.concat([df_1,df_2],axis=0)\n",
    "df['Genre'].value_counts()"
   ]
  },
  {
   "cell_type": "markdown",
   "id": "72354311",
   "metadata": {
    "papermill": {
     "duration": 0.024674,
     "end_time": "2021-12-16T19:48:26.787453",
     "exception": false,
     "start_time": "2021-12-16T19:48:26.762779",
     "status": "completed"
    },
    "tags": []
   },
   "source": [
    "## Tokenization"
   ]
  },
  {
   "cell_type": "code",
   "execution_count": 8,
   "id": "853f5eb4",
   "metadata": {
    "execution": {
     "iopub.execute_input": "2021-12-16T19:48:26.841329Z",
     "iopub.status.busy": "2021-12-16T19:48:26.840423Z",
     "iopub.status.idle": "2021-12-16T19:48:27.530082Z",
     "shell.execute_reply": "2021-12-16T19:48:27.529128Z",
     "shell.execute_reply.started": "2021-12-16T19:41:20.875533Z"
    },
    "papermill": {
     "duration": 0.718106,
     "end_time": "2021-12-16T19:48:27.530219",
     "exception": false,
     "start_time": "2021-12-16T19:48:26.812113",
     "status": "completed"
    },
    "tags": []
   },
   "outputs": [],
   "source": [
    "from keras.preprocessing import sequence\n",
    "from keras.models import Sequential\n",
    "from keras.layers import Dense, Embedding, SpatialDropout1D\n",
    "from keras.layers import LSTM\n",
    "from keras.preprocessing.text import Tokenizer\n",
    "from keras.preprocessing.sequence import pad_sequences\n",
    "\n",
    "max_features = 8000\n",
    "maxlen = 300\n",
    "embedding_dims = 300\n",
    "hidden_dims = 20\n",
    "\n",
    "X = df['Plot'].values"
   ]
  },
  {
   "cell_type": "markdown",
   "id": "aebe9a6c",
   "metadata": {
    "papermill": {
     "duration": 0.02323,
     "end_time": "2021-12-16T19:48:27.577248",
     "exception": false,
     "start_time": "2021-12-16T19:48:27.554018",
     "status": "completed"
    },
    "tags": []
   },
   "source": [
    "Building vocabulary with nltk"
   ]
  },
  {
   "cell_type": "code",
   "execution_count": 9,
   "id": "1be15ba0",
   "metadata": {
    "execution": {
     "iopub.execute_input": "2021-12-16T19:48:27.637304Z",
     "iopub.status.busy": "2021-12-16T19:48:27.632344Z",
     "iopub.status.idle": "2021-12-16T19:48:44.462229Z",
     "shell.execute_reply": "2021-12-16T19:48:44.461302Z",
     "shell.execute_reply.started": "2021-12-16T19:41:21.268043Z"
    },
    "papermill": {
     "duration": 16.861291,
     "end_time": "2021-12-16T19:48:44.462372",
     "exception": false,
     "start_time": "2021-12-16T19:48:27.601081",
     "status": "completed"
    },
    "tags": []
   },
   "outputs": [],
   "source": [
    "tokenizer = Tokenizer(num_words=max_features)\n",
    "tokenizer.fit_on_texts(X)\n",
    "\n",
    "X = tokenizer.texts_to_sequences(X)\n",
    "X = pad_sequences(X, maxlen, truncating='post')"
   ]
  },
  {
   "cell_type": "code",
   "execution_count": 10,
   "id": "374ef92c",
   "metadata": {
    "execution": {
     "iopub.execute_input": "2021-12-16T19:48:44.515463Z",
     "iopub.status.busy": "2021-12-16T19:48:44.514846Z",
     "iopub.status.idle": "2021-12-16T19:48:44.517546Z",
     "shell.execute_reply": "2021-12-16T19:48:44.517995Z",
     "shell.execute_reply.started": "2021-12-16T19:41:37.420886Z"
    },
    "papermill": {
     "duration": 0.032045,
     "end_time": "2021-12-16T19:48:44.518134",
     "exception": false,
     "start_time": "2021-12-16T19:48:44.486089",
     "status": "completed"
    },
    "tags": []
   },
   "outputs": [
    {
     "data": {
      "text/plain": [
       "133705"
      ]
     },
     "execution_count": 10,
     "metadata": {},
     "output_type": "execute_result"
    }
   ],
   "source": [
    "len(tokenizer.word_index)"
   ]
  },
  {
   "cell_type": "code",
   "execution_count": 11,
   "id": "b606dc0e",
   "metadata": {
    "execution": {
     "iopub.execute_input": "2021-12-16T19:48:44.729914Z",
     "iopub.status.busy": "2021-12-16T19:48:44.611552Z",
     "iopub.status.idle": "2021-12-16T19:48:44.732249Z",
     "shell.execute_reply": "2021-12-16T19:48:44.731830Z",
     "shell.execute_reply.started": "2021-12-16T19:41:37.430476Z"
    },
    "papermill": {
     "duration": 0.190548,
     "end_time": "2021-12-16T19:48:44.732372",
     "exception": false,
     "start_time": "2021-12-16T19:48:44.541824",
     "status": "completed"
    },
    "tags": []
   },
   "outputs": [],
   "source": [
    "from collections import OrderedDict\n",
    "dictionary = dict(OrderedDict(sorted(tokenizer.word_counts.items(), key=lambda x: x[1], reverse=True)))"
   ]
  },
  {
   "cell_type": "code",
   "execution_count": 12,
   "id": "7eb058ea",
   "metadata": {
    "execution": {
     "iopub.execute_input": "2021-12-16T19:48:44.801976Z",
     "iopub.status.busy": "2021-12-16T19:48:44.785267Z",
     "iopub.status.idle": "2021-12-16T19:48:44.804365Z",
     "shell.execute_reply": "2021-12-16T19:48:44.803935Z",
     "shell.execute_reply.started": "2021-12-16T19:41:37.676197Z"
    },
    "papermill": {
     "duration": 0.047279,
     "end_time": "2021-12-16T19:48:44.804499",
     "exception": false,
     "start_time": "2021-12-16T19:48:44.757220",
     "status": "completed"
    },
    "tags": []
   },
   "outputs": [],
   "source": [
    "vocab = {x:y for i,(x, y) in enumerate(dictionary.items()) if i < max_features }"
   ]
  },
  {
   "cell_type": "code",
   "execution_count": 13,
   "id": "7ef3e327",
   "metadata": {
    "execution": {
     "iopub.execute_input": "2021-12-16T19:48:44.856869Z",
     "iopub.status.busy": "2021-12-16T19:48:44.856184Z",
     "iopub.status.idle": "2021-12-16T19:48:44.858836Z",
     "shell.execute_reply": "2021-12-16T19:48:44.859360Z",
     "shell.execute_reply.started": "2021-12-16T19:41:37.719620Z"
    },
    "papermill": {
     "duration": 0.031062,
     "end_time": "2021-12-16T19:48:44.859487",
     "exception": false,
     "start_time": "2021-12-16T19:48:44.828425",
     "status": "completed"
    },
    "tags": []
   },
   "outputs": [
    {
     "data": {
      "text/plain": [
       "8000"
      ]
     },
     "execution_count": 13,
     "metadata": {},
     "output_type": "execute_result"
    }
   ],
   "source": [
    "len(vocab)"
   ]
  },
  {
   "cell_type": "markdown",
   "id": "0255bcb4",
   "metadata": {
    "papermill": {
     "duration": 0.023669,
     "end_time": "2021-12-16T19:48:44.906877",
     "exception": false,
     "start_time": "2021-12-16T19:48:44.883208",
     "status": "completed"
    },
    "tags": []
   },
   "source": [
    "## Embedding"
   ]
  },
  {
   "cell_type": "code",
   "execution_count": 14,
   "id": "bd242551",
   "metadata": {
    "execution": {
     "iopub.execute_input": "2021-12-16T19:48:44.958293Z",
     "iopub.status.busy": "2021-12-16T19:48:44.957541Z",
     "iopub.status.idle": "2021-12-16T19:48:44.960118Z",
     "shell.execute_reply": "2021-12-16T19:48:44.959594Z",
     "shell.execute_reply.started": "2021-12-16T19:41:37.732477Z"
    },
    "papermill": {
     "duration": 0.02985,
     "end_time": "2021-12-16T19:48:44.960233",
     "exception": false,
     "start_time": "2021-12-16T19:48:44.930383",
     "status": "completed"
    },
    "tags": []
   },
   "outputs": [],
   "source": [
    "glove_emb_link = \"https://huggingface.co/stanfordnlp/glove/resolve/main/glove.6B.zip\""
   ]
  },
  {
   "cell_type": "code",
   "execution_count": 15,
   "id": "e6d14add",
   "metadata": {
    "execution": {
     "iopub.execute_input": "2021-12-16T19:48:45.011856Z",
     "iopub.status.busy": "2021-12-16T19:48:45.011074Z",
     "iopub.status.idle": "2021-12-16T19:48:49.123868Z",
     "shell.execute_reply": "2021-12-16T19:48:49.124572Z",
     "shell.execute_reply.started": "2021-12-16T19:41:37.741502Z"
    },
    "papermill": {
     "duration": 4.139998,
     "end_time": "2021-12-16T19:48:49.124808",
     "exception": false,
     "start_time": "2021-12-16T19:48:44.984810",
     "status": "completed"
    },
    "tags": []
   },
   "outputs": [],
   "source": [
    "from io import StringIO, BytesIO, TextIOWrapper\n",
    "from zipfile import ZipFile\n",
    "from urllib.request import urlopen\n",
    "import requests\n",
    "\n",
    "resp = requests.get(glove_emb_link)"
   ]
  },
  {
   "cell_type": "code",
   "execution_count": 16,
   "id": "96aeac8c",
   "metadata": {
    "execution": {
     "iopub.execute_input": "2021-12-16T19:48:49.188753Z",
     "iopub.status.busy": "2021-12-16T19:48:49.188174Z",
     "iopub.status.idle": "2021-12-16T19:49:40.008292Z",
     "shell.execute_reply": "2021-12-16T19:49:40.008902Z",
     "shell.execute_reply.started": "2021-12-16T19:42:07.426235Z"
    },
    "papermill": {
     "duration": 50.853506,
     "end_time": "2021-12-16T19:49:40.009094",
     "exception": false,
     "start_time": "2021-12-16T19:48:49.155588",
     "status": "completed"
    },
    "tags": []
   },
   "outputs": [
    {
     "name": "stdout",
     "output_type": "stream",
     "text": [
      "Loaded 400001 word vectors.\n"
     ]
    }
   ],
   "source": [
    "embeddings_index = dict()\n",
    "\n",
    "with ZipFile(BytesIO(resp.content),'r') as zipfile:\n",
    "    with TextIOWrapper(zipfile.open(\"glove.6B.300d.txt\"), encoding=\"utf-8\") as file:\n",
    "        for line in file:\n",
    "            values = line.split()\n",
    "            word = values[0]\n",
    "            coefs = np.asarray(values[1:], dtype='float32')\n",
    "            embeddings_index[word] = coefs\n",
    "\n",
    "print('Loaded %s word vectors.' % len(embeddings_index))"
   ]
  },
  {
   "cell_type": "code",
   "execution_count": 17,
   "id": "9c5e73ef",
   "metadata": {
    "execution": {
     "iopub.execute_input": "2021-12-16T19:49:40.063203Z",
     "iopub.status.busy": "2021-12-16T19:49:40.060074Z",
     "iopub.status.idle": "2021-12-16T19:49:40.094548Z",
     "shell.execute_reply": "2021-12-16T19:49:40.094933Z",
     "shell.execute_reply.started": "2021-12-16T19:42:59.394243Z"
    },
    "papermill": {
     "duration": 0.060768,
     "end_time": "2021-12-16T19:49:40.095075",
     "exception": false,
     "start_time": "2021-12-16T19:49:40.034307",
     "status": "completed"
    },
    "tags": []
   },
   "outputs": [],
   "source": [
    "# create a weight matrix for words in training docs\n",
    "embedding_matrix = np.zeros((max_features, embedding_dims))\n",
    "try:\n",
    "    for word in vocab.keys():\n",
    "        i = tokenizer.word_index[word]\n",
    "        embedding_vector = embeddings_index.get(word)\n",
    "        if embedding_vector is not None:\n",
    "            embedding_matrix[i] = embedding_vector\n",
    "except:\n",
    "    pass"
   ]
  },
  {
   "cell_type": "code",
   "execution_count": 18,
   "id": "5946a639",
   "metadata": {
    "execution": {
     "iopub.execute_input": "2021-12-16T19:49:40.147875Z",
     "iopub.status.busy": "2021-12-16T19:49:40.147113Z",
     "iopub.status.idle": "2021-12-16T19:49:40.150005Z",
     "shell.execute_reply": "2021-12-16T19:49:40.150405Z",
     "shell.execute_reply.started": "2021-12-16T19:42:59.427416Z"
    },
    "papermill": {
     "duration": 0.030888,
     "end_time": "2021-12-16T19:49:40.150572",
     "exception": false,
     "start_time": "2021-12-16T19:49:40.119684",
     "status": "completed"
    },
    "tags": []
   },
   "outputs": [
    {
     "data": {
      "text/plain": [
       "8000"
      ]
     },
     "execution_count": 18,
     "metadata": {},
     "output_type": "execute_result"
    }
   ],
   "source": [
    "len(embedding_matrix)"
   ]
  },
  {
   "cell_type": "code",
   "execution_count": 19,
   "id": "059711cc",
   "metadata": {
    "execution": {
     "iopub.execute_input": "2021-12-16T19:49:40.202830Z",
     "iopub.status.busy": "2021-12-16T19:49:40.202118Z",
     "iopub.status.idle": "2021-12-16T19:49:40.204411Z",
     "shell.execute_reply": "2021-12-16T19:49:40.203999Z",
     "shell.execute_reply.started": "2021-12-16T19:42:59.435027Z"
    },
    "papermill": {
     "duration": 0.029662,
     "end_time": "2021-12-16T19:49:40.204536",
     "exception": false,
     "start_time": "2021-12-16T19:49:40.174874",
     "status": "completed"
    },
    "tags": []
   },
   "outputs": [],
   "source": [
    "resp = None"
   ]
  },
  {
   "cell_type": "markdown",
   "id": "e5d58f93",
   "metadata": {
    "papermill": {
     "duration": 0.025117,
     "end_time": "2021-12-16T19:49:40.253666",
     "exception": false,
     "start_time": "2021-12-16T19:49:40.228549",
     "status": "completed"
    },
    "tags": []
   },
   "source": [
    "## Classification"
   ]
  },
  {
   "cell_type": "code",
   "execution_count": 20,
   "id": "5816b2c0",
   "metadata": {
    "execution": {
     "iopub.execute_input": "2021-12-16T19:49:40.308059Z",
     "iopub.status.busy": "2021-12-16T19:49:40.307388Z",
     "iopub.status.idle": "2021-12-16T19:49:41.597551Z",
     "shell.execute_reply": "2021-12-16T19:49:41.597010Z",
     "shell.execute_reply.started": "2021-12-16T19:43:02.082359Z"
    },
    "papermill": {
     "duration": 1.319577,
     "end_time": "2021-12-16T19:49:41.597684",
     "exception": false,
     "start_time": "2021-12-16T19:49:40.278107",
     "status": "completed"
    },
    "tags": []
   },
   "outputs": [],
   "source": [
    "from sklearn.preprocessing import LabelEncoder\n",
    "from sklearn.model_selection import train_test_split\n",
    "from tensorflow.keras.utils import to_categorical\n",
    "\n",
    "y = np.array(df['Genre'].values)\n",
    "n_labels = len(set(y))\n",
    "\n",
    "label_encoder = LabelEncoder()\n",
    "y = np.array(label_encoder.fit_transform(y))\n",
    "\n",
    "cat_y = to_categorical(y, num_classes=n_labels)\n",
    "\n",
    "X_train, X_test, y_train, y_test = train_test_split(X, cat_y, test_size=0.20, stratify=cat_y)"
   ]
  },
  {
   "cell_type": "markdown",
   "id": "878b4ff2",
   "metadata": {
    "papermill": {
     "duration": 0.024023,
     "end_time": "2021-12-16T19:49:41.646787",
     "exception": false,
     "start_time": "2021-12-16T19:49:41.622764",
     "status": "completed"
    },
    "tags": []
   },
   "source": [
    "import numpy as np \n",
    "\n",
    "sample_idx = 0\n",
    "y_train_bin = np.asarray(y_train)==y_train[sample_idx]\n",
    "y_test_bin = np.asarray(y_test)==y_train[sample_idx]\n",
    "y_train_bin,y_test_bin"
   ]
  },
  {
   "cell_type": "markdown",
   "id": "c8cb5c63",
   "metadata": {
    "papermill": {
     "duration": 0.023978,
     "end_time": "2021-12-16T19:49:41.695242",
     "exception": false,
     "start_time": "2021-12-16T19:49:41.671264",
     "status": "completed"
    },
    "tags": []
   },
   "source": [
    "#### Class weights"
   ]
  },
  {
   "cell_type": "code",
   "execution_count": 21,
   "id": "49a1cee1",
   "metadata": {
    "execution": {
     "iopub.execute_input": "2021-12-16T19:49:41.756249Z",
     "iopub.status.busy": "2021-12-16T19:49:41.755575Z",
     "iopub.status.idle": "2021-12-16T19:49:41.758226Z",
     "shell.execute_reply": "2021-12-16T19:49:41.758644Z",
     "shell.execute_reply.started": "2021-12-16T19:43:04.021398Z"
    },
    "papermill": {
     "duration": 0.039331,
     "end_time": "2021-12-16T19:49:41.758766",
     "exception": false,
     "start_time": "2021-12-16T19:49:41.719435",
     "status": "completed"
    },
    "tags": []
   },
   "outputs": [
    {
     "data": {
      "text/plain": [
       "{0: 0.30156735576273475,\n",
       " 1: 1.8346896835182902,\n",
       " 2: 1.1561253561253562,\n",
       " 3: 2.59674229203025,\n",
       " 4: 0.9128425357873211,\n",
       " 5: 4.664367816091954,\n",
       " 6: 5.881159420289855,\n",
       " 7: 1.0981057810578105,\n",
       " 8: 0.8144134282065316,\n",
       " 9: 1.117067067067067,\n",
       " 10: 0.41960894905057344,\n",
       " 11: 3.6379788101059494,\n",
       " 12: 1.7525716529250097,\n",
       " 13: 2.7863920099875155,\n",
       " 14: 0.5593734335839599}"
      ]
     },
     "execution_count": 21,
     "metadata": {},
     "output_type": "execute_result"
    }
   ],
   "source": [
    "n_classes = len(label_encoder.classes_)\n",
    "n_samples = X.shape[0]\n",
    "value_counts = df['Genre'].value_counts().sort_index().items()\n",
    "\n",
    "class_weights = { i: n_samples / (n_classes * freq ) for i,(_,freq) in enumerate(value_counts) }\n",
    "class_weights"
   ]
  },
  {
   "cell_type": "markdown",
   "id": "63756775",
   "metadata": {
    "papermill": {
     "duration": 0.024372,
     "end_time": "2021-12-16T19:49:41.807754",
     "exception": false,
     "start_time": "2021-12-16T19:49:41.783382",
     "status": "completed"
    },
    "tags": []
   },
   "source": [
    "### LSTM"
   ]
  },
  {
   "cell_type": "code",
   "execution_count": 22,
   "id": "ff583281",
   "metadata": {
    "execution": {
     "iopub.execute_input": "2021-12-16T19:49:41.863941Z",
     "iopub.status.busy": "2021-12-16T19:49:41.863292Z",
     "iopub.status.idle": "2021-12-16T19:49:42.487945Z",
     "shell.execute_reply": "2021-12-16T19:49:42.487443Z",
     "shell.execute_reply.started": "2021-12-16T19:45:47.498752Z"
    },
    "papermill": {
     "duration": 0.655514,
     "end_time": "2021-12-16T19:49:42.488081",
     "exception": false,
     "start_time": "2021-12-16T19:49:41.832567",
     "status": "completed"
    },
    "tags": []
   },
   "outputs": [
    {
     "name": "stdout",
     "output_type": "stream",
     "text": [
      "Model: \"sequential\"\n",
      "_________________________________________________________________\n",
      "Layer (type)                 Output Shape              Param #   \n",
      "=================================================================\n",
      "embedding (Embedding)        (None, 300, 300)          2400000   \n",
      "_________________________________________________________________\n",
      "spatial_dropout1d (SpatialDr (None, 300, 300)          0         \n",
      "_________________________________________________________________\n",
      "lstm (LSTM)                  (None, 20)                25680     \n",
      "_________________________________________________________________\n",
      "dense (Dense)                (None, 15)                315       \n",
      "=================================================================\n",
      "Total params: 2,425,995\n",
      "Trainable params: 25,995\n",
      "Non-trainable params: 2,400,000\n",
      "_________________________________________________________________\n"
     ]
    }
   ],
   "source": [
    "from tensorflow.keras.optimizers import Adam, schedules\n",
    "\n",
    "e = Embedding(max_features,\n",
    "              embedding_dims, \n",
    "              weights=[embedding_matrix], \n",
    "              input_length=maxlen, \n",
    "              trainable=False)\n",
    "\n",
    "model = Sequential()\n",
    "model.add(e)\n",
    "model.add(SpatialDropout1D(0.3))\n",
    "model.add(LSTM(hidden_dims, dropout=0.3))\n",
    "model.add(Dense(n_labels, activation='softmax'))\n",
    "\n",
    "opt = Adam(learning_rate=0.01)\n",
    "\n",
    "# try using different optimizers and different optimizer configs\n",
    "model.compile(loss='categorical_crossentropy',\n",
    "              optimizer=opt,\n",
    "              metrics=['accuracy'])\n",
    "\n",
    "model.summary()"
   ]
  },
  {
   "cell_type": "code",
   "execution_count": 23,
   "id": "382d6653",
   "metadata": {
    "execution": {
     "iopub.execute_input": "2021-12-16T19:49:42.543062Z",
     "iopub.status.busy": "2021-12-16T19:49:42.542302Z",
     "iopub.status.idle": "2021-12-16T19:50:37.113226Z",
     "shell.execute_reply": "2021-12-16T19:50:37.113676Z",
     "shell.execute_reply.started": "2021-12-16T19:45:47.742477Z"
    },
    "papermill": {
     "duration": 54.600247,
     "end_time": "2021-12-16T19:50:37.113835",
     "exception": false,
     "start_time": "2021-12-16T19:49:42.513588",
     "status": "completed"
    },
    "scrolled": true,
    "tags": []
   },
   "outputs": [
    {
     "name": "stdout",
     "output_type": "stream",
     "text": [
      "Train...\n",
      "Epoch 1/50\n"
     ]
    },
    {
     "name": "stderr",
     "output_type": "stream",
     "text": [
      "2021-12-16 19:49:42.598233: I tensorflow/compiler/mlir/mlir_graph_optimization_pass.cc:185] None of the MLIR Optimization Passes are enabled (registered 2)\n",
      "2021-12-16 19:49:44.941650: I tensorflow/stream_executor/cuda/cuda_dnn.cc:369] Loaded cuDNN version 8005\n"
     ]
    },
    {
     "name": "stdout",
     "output_type": "stream",
     "text": [
      "30/30 [==============================] - 5s 51ms/step - loss: 2.4054 - accuracy: 0.2169 - val_loss: 2.3296 - val_accuracy: 0.2445\n",
      "Epoch 2/50\n",
      "30/30 [==============================] - 1s 36ms/step - loss: 2.1281 - accuracy: 0.3168 - val_loss: 1.9318 - val_accuracy: 0.3860\n",
      "Epoch 3/50\n",
      "30/30 [==============================] - 1s 33ms/step - loss: 1.7754 - accuracy: 0.4436 - val_loss: 1.6318 - val_accuracy: 0.4879\n",
      "Epoch 4/50\n",
      "30/30 [==============================] - 1s 34ms/step - loss: 1.5953 - accuracy: 0.4939 - val_loss: 1.5306 - val_accuracy: 0.5136\n",
      "Epoch 5/50\n",
      "30/30 [==============================] - 1s 34ms/step - loss: 1.5130 - accuracy: 0.5166 - val_loss: 1.4787 - val_accuracy: 0.5248\n",
      "Epoch 6/50\n",
      "30/30 [==============================] - 1s 34ms/step - loss: 1.4777 - accuracy: 0.5287 - val_loss: 1.4694 - val_accuracy: 0.5312\n",
      "Epoch 7/50\n",
      "30/30 [==============================] - 1s 34ms/step - loss: 1.4422 - accuracy: 0.5405 - val_loss: 1.4439 - val_accuracy: 0.5420\n",
      "Epoch 8/50\n",
      "30/30 [==============================] - 1s 34ms/step - loss: 1.4140 - accuracy: 0.5486 - val_loss: 1.4210 - val_accuracy: 0.5472\n",
      "Epoch 9/50\n",
      "30/30 [==============================] - 1s 34ms/step - loss: 1.3919 - accuracy: 0.5515 - val_loss: 1.4195 - val_accuracy: 0.5454\n",
      "Epoch 10/50\n",
      "30/30 [==============================] - 1s 34ms/step - loss: 1.3828 - accuracy: 0.5557 - val_loss: 1.4060 - val_accuracy: 0.5513\n",
      "Epoch 11/50\n",
      "30/30 [==============================] - 1s 35ms/step - loss: 1.3633 - accuracy: 0.5630 - val_loss: 1.3992 - val_accuracy: 0.5480\n",
      "Epoch 12/50\n",
      "30/30 [==============================] - 1s 34ms/step - loss: 1.3511 - accuracy: 0.5639 - val_loss: 1.3890 - val_accuracy: 0.5528\n",
      "Epoch 13/50\n",
      "30/30 [==============================] - 1s 34ms/step - loss: 1.3396 - accuracy: 0.5680 - val_loss: 1.3853 - val_accuracy: 0.5532\n",
      "Epoch 14/50\n",
      "30/30 [==============================] - 1s 34ms/step - loss: 1.3292 - accuracy: 0.5681 - val_loss: 1.3786 - val_accuracy: 0.5543\n",
      "Epoch 15/50\n",
      "30/30 [==============================] - 1s 34ms/step - loss: 1.3195 - accuracy: 0.5718 - val_loss: 1.3856 - val_accuracy: 0.5528\n",
      "Epoch 16/50\n",
      "30/30 [==============================] - 1s 33ms/step - loss: 1.3076 - accuracy: 0.5747 - val_loss: 1.3904 - val_accuracy: 0.5465\n",
      "Epoch 17/50\n",
      "30/30 [==============================] - 1s 33ms/step - loss: 1.3172 - accuracy: 0.5738 - val_loss: 1.3750 - val_accuracy: 0.5524\n",
      "Epoch 18/50\n",
      "30/30 [==============================] - 1s 33ms/step - loss: 1.2969 - accuracy: 0.5830 - val_loss: 1.3747 - val_accuracy: 0.5521\n",
      "Epoch 19/50\n",
      "30/30 [==============================] - 1s 33ms/step - loss: 1.3110 - accuracy: 0.5737 - val_loss: 1.3743 - val_accuracy: 0.5532\n",
      "Epoch 20/50\n",
      "30/30 [==============================] - 1s 33ms/step - loss: 1.3075 - accuracy: 0.5748 - val_loss: 1.3823 - val_accuracy: 0.5517\n",
      "Epoch 21/50\n",
      "30/30 [==============================] - 1s 33ms/step - loss: 1.2927 - accuracy: 0.5810 - val_loss: 1.3831 - val_accuracy: 0.5543\n",
      "Epoch 22/50\n",
      "30/30 [==============================] - 1s 34ms/step - loss: 1.2884 - accuracy: 0.5817 - val_loss: 1.3850 - val_accuracy: 0.5483\n",
      "Epoch 23/50\n",
      "30/30 [==============================] - 1s 33ms/step - loss: 1.2885 - accuracy: 0.5834 - val_loss: 1.3838 - val_accuracy: 0.5573\n",
      "Epoch 24/50\n",
      "30/30 [==============================] - 1s 33ms/step - loss: 1.2810 - accuracy: 0.5820 - val_loss: 1.3831 - val_accuracy: 0.5454\n",
      "Epoch 25/50\n",
      "30/30 [==============================] - 1s 33ms/step - loss: 1.2844 - accuracy: 0.5792 - val_loss: 1.3809 - val_accuracy: 0.5543\n",
      "Epoch 26/50\n",
      "30/30 [==============================] - 1s 33ms/step - loss: 1.2713 - accuracy: 0.5886 - val_loss: 1.3784 - val_accuracy: 0.5554\n",
      "Epoch 27/50\n",
      "30/30 [==============================] - 1s 33ms/step - loss: 1.2686 - accuracy: 0.5868 - val_loss: 1.3746 - val_accuracy: 0.5573\n",
      "Epoch 28/50\n",
      "30/30 [==============================] - 1s 33ms/step - loss: 1.2655 - accuracy: 0.5852 - val_loss: 1.3674 - val_accuracy: 0.5584\n",
      "Epoch 29/50\n",
      "30/30 [==============================] - 1s 33ms/step - loss: 1.2644 - accuracy: 0.5884 - val_loss: 1.3711 - val_accuracy: 0.5547\n",
      "Epoch 30/50\n",
      "30/30 [==============================] - 1s 33ms/step - loss: 1.2637 - accuracy: 0.5895 - val_loss: 1.3739 - val_accuracy: 0.5566\n",
      "Epoch 31/50\n",
      "30/30 [==============================] - 1s 33ms/step - loss: 1.2572 - accuracy: 0.5894 - val_loss: 1.3822 - val_accuracy: 0.5592\n",
      "Epoch 32/50\n",
      "30/30 [==============================] - 1s 33ms/step - loss: 1.2563 - accuracy: 0.5899 - val_loss: 1.3766 - val_accuracy: 0.5513\n",
      "Epoch 33/50\n",
      "30/30 [==============================] - 1s 35ms/step - loss: 1.2518 - accuracy: 0.5890 - val_loss: 1.3857 - val_accuracy: 0.5592\n",
      "Epoch 34/50\n",
      "30/30 [==============================] - 1s 34ms/step - loss: 1.2537 - accuracy: 0.5886 - val_loss: 1.3815 - val_accuracy: 0.5543\n",
      "Epoch 35/50\n",
      "30/30 [==============================] - 1s 35ms/step - loss: 1.2522 - accuracy: 0.5898 - val_loss: 1.3702 - val_accuracy: 0.5599\n",
      "Epoch 36/50\n",
      "30/30 [==============================] - 1s 33ms/step - loss: 1.2467 - accuracy: 0.5880 - val_loss: 1.3666 - val_accuracy: 0.5547\n",
      "Epoch 37/50\n",
      "30/30 [==============================] - 1s 34ms/step - loss: 1.2576 - accuracy: 0.5904 - val_loss: 1.3665 - val_accuracy: 0.5580\n",
      "Epoch 38/50\n",
      "30/30 [==============================] - 1s 34ms/step - loss: 1.2442 - accuracy: 0.5889 - val_loss: 1.3674 - val_accuracy: 0.5580\n",
      "Epoch 39/50\n",
      "30/30 [==============================] - 1s 34ms/step - loss: 1.2392 - accuracy: 0.5924 - val_loss: 1.3752 - val_accuracy: 0.5566\n",
      "Epoch 40/50\n",
      "30/30 [==============================] - 1s 34ms/step - loss: 1.2363 - accuracy: 0.5951 - val_loss: 1.3998 - val_accuracy: 0.5427\n",
      "Epoch 41/50\n",
      "30/30 [==============================] - 1s 33ms/step - loss: 1.2337 - accuracy: 0.5897 - val_loss: 1.3731 - val_accuracy: 0.5543\n",
      "Epoch 42/50\n",
      "30/30 [==============================] - 1s 34ms/step - loss: 1.2352 - accuracy: 0.5942 - val_loss: 1.3805 - val_accuracy: 0.5513\n",
      "Epoch 43/50\n",
      "30/30 [==============================] - 1s 33ms/step - loss: 1.2373 - accuracy: 0.5925 - val_loss: 1.3760 - val_accuracy: 0.5517\n",
      "Epoch 44/50\n",
      "30/30 [==============================] - 1s 34ms/step - loss: 1.2448 - accuracy: 0.5903 - val_loss: 1.3634 - val_accuracy: 0.5610\n",
      "Epoch 45/50\n",
      "30/30 [==============================] - 1s 33ms/step - loss: 1.2385 - accuracy: 0.5941 - val_loss: 1.3691 - val_accuracy: 0.5618\n",
      "Epoch 46/50\n",
      "30/30 [==============================] - 1s 34ms/step - loss: 1.2301 - accuracy: 0.5957 - val_loss: 1.3738 - val_accuracy: 0.5566\n",
      "Epoch 47/50\n",
      "30/30 [==============================] - 1s 33ms/step - loss: 1.2348 - accuracy: 0.5961 - val_loss: 1.3826 - val_accuracy: 0.5577\n",
      "Epoch 48/50\n",
      "30/30 [==============================] - 1s 33ms/step - loss: 1.2338 - accuracy: 0.5940 - val_loss: 1.3814 - val_accuracy: 0.5599\n",
      "Epoch 49/50\n",
      "30/30 [==============================] - 1s 34ms/step - loss: 1.2394 - accuracy: 0.5945 - val_loss: 1.3800 - val_accuracy: 0.5547\n",
      "Epoch 50/50\n",
      "30/30 [==============================] - 1s 34ms/step - loss: 1.2223 - accuracy: 0.5992 - val_loss: 1.3761 - val_accuracy: 0.5551\n"
     ]
    },
    {
     "data": {
      "text/plain": [
       "<keras.callbacks.History at 0x7ff2e52d2e90>"
      ]
     },
     "execution_count": 23,
     "metadata": {},
     "output_type": "execute_result"
    }
   ],
   "source": [
    "batch_size = 512\n",
    "epochs = 50\n",
    "print('Train...')\n",
    "model.fit(X_train, y_train,\n",
    "          batch_size=batch_size,\n",
    "          epochs=epochs,\n",
    "          shuffle=True,\n",
    "          validation_split=0.15)\n",
    "          #class_weight=class_weights)"
   ]
  },
  {
   "cell_type": "code",
   "execution_count": 24,
   "id": "8f3c4b30",
   "metadata": {
    "execution": {
     "iopub.execute_input": "2021-12-16T19:50:37.595010Z",
     "iopub.status.busy": "2021-12-16T19:50:37.594176Z",
     "iopub.status.idle": "2021-12-16T19:50:38.499270Z",
     "shell.execute_reply": "2021-12-16T19:50:38.499679Z",
     "shell.execute_reply.started": "2021-12-16T17:45:06.594515Z"
    },
    "papermill": {
     "duration": 1.146778,
     "end_time": "2021-12-16T19:50:38.499832",
     "exception": false,
     "start_time": "2021-12-16T19:50:37.353054",
     "status": "completed"
    },
    "tags": []
   },
   "outputs": [
    {
     "data": {
      "text/plain": [
       "0.5770609318996416"
      ]
     },
     "execution_count": 24,
     "metadata": {},
     "output_type": "execute_result"
    }
   ],
   "source": [
    "from sklearn.metrics import accuracy_score, confusion_matrix, ConfusionMatrixDisplay\n",
    "y_preds = model.predict(X_test)\n",
    "prediction = np.argmax(y_preds,axis=1)\n",
    "ground_truth = np.argmax(y_test, axis=1)\n",
    "accuracy_score(ground_truth,prediction)"
   ]
  },
  {
   "cell_type": "code",
   "execution_count": 25,
   "id": "4843571f",
   "metadata": {
    "execution": {
     "iopub.execute_input": "2021-12-16T19:50:38.979622Z",
     "iopub.status.busy": "2021-12-16T19:50:38.978820Z",
     "iopub.status.idle": "2021-12-16T19:50:39.918936Z",
     "shell.execute_reply": "2021-12-16T19:50:39.919353Z",
     "shell.execute_reply.started": "2021-12-16T17:45:08.728645Z"
    },
    "papermill": {
     "duration": 1.183369,
     "end_time": "2021-12-16T19:50:39.919512",
     "exception": false,
     "start_time": "2021-12-16T19:50:38.736143",
     "status": "completed"
    },
    "tags": []
   },
   "outputs": [
    {
     "data": {
      "image/png": "[encoded data removed]",
      "text/plain": [
       "<Figure size 1080x720 with 2 Axes>"
      ]
     },
     "metadata": {
      "needs_background": "light"
     },
     "output_type": "display_data"
    }
   ],
   "source": [
    "import matplotlib.pyplot as plt\n",
    "\n",
    "fig, ax = plt.subplots(1,1,figsize=(15, 10))\n",
    "cm = confusion_matrix(ground_truth, prediction, labels=list(set(ground_truth)))\n",
    "disp = ConfusionMatrixDisplay(confusion_matrix=cm,\n",
    "                              display_labels=label_encoder.classes_)\n",
    "disp.plot(ax=ax, xticks_rotation='vertical')\n",
    "plt.show()"
   ]
  },
  {
   "cell_type": "markdown",
   "id": "e7cc4372",
   "metadata": {
    "papermill": {
     "duration": 0.237469,
     "end_time": "2021-12-16T19:50:40.395547",
     "exception": false,
     "start_time": "2021-12-16T19:50:40.158078",
     "status": "completed"
    },
    "tags": []
   },
   "source": [
    "## IMDB dataset"
   ]
  },
  {
   "cell_type": "code",
   "execution_count": 26,
   "id": "42468de3",
   "metadata": {
    "execution": {
     "iopub.execute_input": "2021-12-16T19:50:40.875159Z",
     "iopub.status.busy": "2021-12-16T19:50:40.874634Z",
     "iopub.status.idle": "2021-12-16T19:50:42.907106Z",
     "shell.execute_reply": "2021-12-16T19:50:42.907505Z",
     "shell.execute_reply.started": "2021-12-16T18:11:06.819928Z"
    },
    "papermill": {
     "duration": 2.272894,
     "end_time": "2021-12-16T19:50:42.907669",
     "exception": false,
     "start_time": "2021-12-16T19:50:40.634775",
     "status": "completed"
    },
    "tags": []
   },
   "outputs": [
    {
     "data": {
      "text/html": [
       "<div>\n",
       "<style scoped>\n",
       "    .dataframe tbody tr th:only-of-type {\n",
       "        vertical-align: middle;\n",
       "    }\n",
       "\n",
       "    .dataframe tbody tr th {\n",
       "        vertical-align: top;\n",
       "    }\n",
       "\n",
       "    .dataframe thead th {\n",
       "        text-align: right;\n",
       "    }\n",
       "</style>\n",
       "<table border=\"1\" class=\"dataframe\">\n",
       "  <thead>\n",
       "    <tr style=\"text-align: right;\">\n",
       "      <th></th>\n",
       "      <th>title</th>\n",
       "      <th>genres</th>\n",
       "    </tr>\n",
       "  </thead>\n",
       "  <tbody>\n",
       "    <tr>\n",
       "      <th>0</th>\n",
       "      <td>Carmencita</td>\n",
       "      <td>Documentary,Short</td>\n",
       "    </tr>\n",
       "    <tr>\n",
       "      <th>1</th>\n",
       "      <td>The Clown and His Dogs</td>\n",
       "      <td>Animation,Short</td>\n",
       "    </tr>\n",
       "    <tr>\n",
       "      <th>2</th>\n",
       "      <td>Blacksmithing Scene</td>\n",
       "      <td>Comedy,Short</td>\n",
       "    </tr>\n",
       "    <tr>\n",
       "      <th>3</th>\n",
       "      <td>Chinese Opium Den</td>\n",
       "      <td>Short</td>\n",
       "    </tr>\n",
       "    <tr>\n",
       "      <th>4</th>\n",
       "      <td>Corbett and Courtney Before the Kinetograph</td>\n",
       "      <td>Short,Sport</td>\n",
       "    </tr>\n",
       "    <tr>\n",
       "      <th>...</th>\n",
       "      <td>...</td>\n",
       "      <td>...</td>\n",
       "    </tr>\n",
       "    <tr>\n",
       "      <th>1200371</th>\n",
       "      <td>The Copeland Case</td>\n",
       "      <td>Drama</td>\n",
       "    </tr>\n",
       "    <tr>\n",
       "      <th>1200372</th>\n",
       "      <td>Loving London: The Playground</td>\n",
       "      <td>Drama,Short</td>\n",
       "    </tr>\n",
       "    <tr>\n",
       "      <th>1200373</th>\n",
       "      <td>The Demonic Nun</td>\n",
       "      <td>Comedy,Horror,Mystery</td>\n",
       "    </tr>\n",
       "    <tr>\n",
       "      <th>1200374</th>\n",
       "      <td>Pretty Pretty Black Girl</td>\n",
       "      <td>Short</td>\n",
       "    </tr>\n",
       "    <tr>\n",
       "      <th>1200375</th>\n",
       "      <td>38</td>\n",
       "      <td>Short</td>\n",
       "    </tr>\n",
       "  </tbody>\n",
       "</table>\n",
       "<p>1200376 rows × 2 columns</p>\n",
       "</div>"
      ],
      "text/plain": [
       "                                               title                 genres\n",
       "0                                         Carmencita      Documentary,Short\n",
       "1                             The Clown and His Dogs        Animation,Short\n",
       "2                                Blacksmithing Scene           Comedy,Short\n",
       "3                                  Chinese Opium Den                  Short\n",
       "4        Corbett and Courtney Before the Kinetograph            Short,Sport\n",
       "...                                              ...                    ...\n",
       "1200371                            The Copeland Case                  Drama\n",
       "1200372                Loving London: The Playground            Drama,Short\n",
       "1200373                              The Demonic Nun  Comedy,Horror,Mystery\n",
       "1200374                     Pretty Pretty Black Girl                  Short\n",
       "1200375                                           38                  Short\n",
       "\n",
       "[1200376 rows x 2 columns]"
      ]
     },
     "execution_count": 26,
     "metadata": {},
     "output_type": "execute_result"
    }
   ],
   "source": [
    "df_imdb = pd.read_csv('../input/imdb-movies-genres/imdb_dataset.csv',usecols=['title','genres'])\n",
    "df_imdb"
   ]
  },
  {
   "cell_type": "code",
   "execution_count": null,
   "id": "5aff304e",
   "metadata": {
    "papermill": {
     "duration": 0.238805,
     "end_time": "2021-12-16T19:50:43.389744",
     "exception": false,
     "start_time": "2021-12-16T19:50:43.150939",
     "status": "completed"
    },
    "tags": []
   },
   "outputs": [],
   "source": []
  }
 ],
 "metadata": {
  "kernelspec": {
   "display_name": "Python 3",
   "language": "python",
   "name": "python3"
  },
  "language_info": {
   "codemirror_mode": {
    "name": "ipython",
    "version": 3
   },
   "file_extension": ".py",
   "mimetype": "text/x-python",
   "name": "python",
   "nbconvert_exporter": "python",
   "pygments_lexer": "ipython3",
   "version": "3.7.12"
  },
  "papermill": {
   "default_parameters": {},
   "duration": 158.421703,
   "end_time": "2021-12-16T19:50:47.171309",
   "environment_variables": {},
   "exception": null,
   "input_path": "__notebook__.ipynb",
   "output_path": "__notebook__.ipynb",
   "parameters": {},
   "start_time": "2021-12-16T19:48:08.749606",
   "version": "2.3.3"
  }
 },
 "nbformat": 4,
 "nbformat_minor": 5
}
