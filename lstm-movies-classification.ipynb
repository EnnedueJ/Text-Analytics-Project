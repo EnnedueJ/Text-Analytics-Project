{
 "cells": [
  {
   "cell_type": "markdown",
   "id": "50f362e1",
   "metadata": {
    "papermill": {
     "duration": 0.045641,
     "end_time": "2021-12-16T18:17:30.385092",
     "exception": false,
     "start_time": "2021-12-16T18:17:30.339451",
     "status": "completed"
    },
    "tags": []
   },
   "source": [
    "## Dataframe and libraries Import"
   ]
  },
  {
   "cell_type": "code",
   "execution_count": 1,
   "id": "2fa2be53",
   "metadata": {
    "execution": {
     "iopub.execute_input": "2021-12-16T18:17:30.498768Z",
     "iopub.status.busy": "2021-12-16T18:17:30.497832Z",
     "iopub.status.idle": "2021-12-16T18:17:37.051752Z",
     "shell.execute_reply": "2021-12-16T18:17:37.051110Z",
     "shell.execute_reply.started": "2021-12-16T17:11:11.381678Z"
    },
    "papermill": {
     "duration": 6.620183,
     "end_time": "2021-12-16T18:17:37.051919",
     "exception": false,
     "start_time": "2021-12-16T18:17:30.431736",
     "status": "completed"
    },
    "tags": []
   },
   "outputs": [
    {
     "name": "stdout",
     "output_type": "stream",
     "text": [
      "1 Physical GPUs, 1 Logical GPU\n"
     ]
    },
    {
     "name": "stderr",
     "output_type": "stream",
     "text": [
      "2021-12-16 18:17:35.167052: I tensorflow/stream_executor/cuda/cuda_gpu_executor.cc:937] successful NUMA node read from SysFS had negative value (-1), but there must be at least one NUMA node, so returning NUMA node zero\n",
      "2021-12-16 18:17:35.260815: I tensorflow/stream_executor/cuda/cuda_gpu_executor.cc:937] successful NUMA node read from SysFS had negative value (-1), but there must be at least one NUMA node, so returning NUMA node zero\n",
      "2021-12-16 18:17:35.261657: I tensorflow/stream_executor/cuda/cuda_gpu_executor.cc:937] successful NUMA node read from SysFS had negative value (-1), but there must be at least one NUMA node, so returning NUMA node zero\n",
      "2021-12-16 18:17:35.264586: I tensorflow/core/platform/cpu_feature_guard.cc:142] This TensorFlow binary is optimized with oneAPI Deep Neural Network Library (oneDNN) to use the following CPU instructions in performance-critical operations:  AVX2 AVX512F FMA\n",
      "To enable them in other operations, rebuild TensorFlow with the appropriate compiler flags.\n",
      "2021-12-16 18:17:35.265920: I tensorflow/stream_executor/cuda/cuda_gpu_executor.cc:937] successful NUMA node read from SysFS had negative value (-1), but there must be at least one NUMA node, so returning NUMA node zero\n",
      "2021-12-16 18:17:35.266783: I tensorflow/stream_executor/cuda/cuda_gpu_executor.cc:937] successful NUMA node read from SysFS had negative value (-1), but there must be at least one NUMA node, so returning NUMA node zero\n",
      "2021-12-16 18:17:35.267504: I tensorflow/stream_executor/cuda/cuda_gpu_executor.cc:937] successful NUMA node read from SysFS had negative value (-1), but there must be at least one NUMA node, so returning NUMA node zero\n",
      "2021-12-16 18:17:37.032343: I tensorflow/stream_executor/cuda/cuda_gpu_executor.cc:937] successful NUMA node read from SysFS had negative value (-1), but there must be at least one NUMA node, so returning NUMA node zero\n",
      "2021-12-16 18:17:37.033405: I tensorflow/stream_executor/cuda/cuda_gpu_executor.cc:937] successful NUMA node read from SysFS had negative value (-1), but there must be at least one NUMA node, so returning NUMA node zero\n",
      "2021-12-16 18:17:37.034257: I tensorflow/stream_executor/cuda/cuda_gpu_executor.cc:937] successful NUMA node read from SysFS had negative value (-1), but there must be at least one NUMA node, so returning NUMA node zero\n",
      "2021-12-16 18:17:37.034956: I tensorflow/core/common_runtime/gpu/gpu_device.cc:1510] Created device /job:localhost/replica:0/task:0/device:GPU:0 with 15403 MB memory:  -> device: 0, name: Tesla P100-PCIE-16GB, pci bus id: 0000:00:04.0, compute capability: 6.0\n"
     ]
    }
   ],
   "source": [
    "import numpy as np\n",
    "import tensorflow as tf\n",
    "\n",
    "from tensorflow.python.client import device_lib\n",
    "\n",
    "\n",
    "gpus = tf.config.list_physical_devices('GPU')\n",
    "if gpus:\n",
    "  # Restrict TensorFlow to only use the first GPU\n",
    "  try:\n",
    "    tf.config.set_visible_devices(gpus[0], 'GPU')\n",
    "    logical_gpus = tf.config.list_logical_devices('GPU')\n",
    "    print(len(gpus), \"Physical GPUs,\", len(logical_gpus), \"Logical GPU\")\n",
    "  except RuntimeError as e:\n",
    "    # Visible devices must be set before GPUs have been initialized\n",
    "    print(e)"
   ]
  },
  {
   "cell_type": "code",
   "execution_count": 2,
   "id": "6345b4e6",
   "metadata": {
    "execution": {
     "iopub.execute_input": "2021-12-16T18:17:37.115083Z",
     "iopub.status.busy": "2021-12-16T18:17:37.114427Z",
     "iopub.status.idle": "2021-12-16T18:17:39.434417Z",
     "shell.execute_reply": "2021-12-16T18:17:39.433833Z",
     "shell.execute_reply.started": "2021-12-16T17:37:52.768980Z"
    },
    "papermill": {
     "duration": 2.354456,
     "end_time": "2021-12-16T18:17:39.434564",
     "exception": false,
     "start_time": "2021-12-16T18:17:37.080108",
     "status": "completed"
    },
    "tags": []
   },
   "outputs": [],
   "source": [
    "import pandas as pd\n",
    "\n",
    "df = pd.read_csv('../input/movie-classification/movie_dataset_classification.csv',index_col=0)\n",
    "df.dropna(subset=['Plot'], inplace=True)\n",
    "df.drop_duplicates(subset=['Title','Plot'], inplace=True)\n",
    "#removing low frequency genres\n",
    "counts = df.Genre.value_counts()\n",
    "counts = list(counts[counts < 150].index)\n",
    "df = df[~df['Genre'].isin(counts)]"
   ]
  },
  {
   "cell_type": "markdown",
   "id": "6c46b6d1",
   "metadata": {
    "papermill": {
     "duration": 0.028225,
     "end_time": "2021-12-16T18:17:39.491462",
     "exception": false,
     "start_time": "2021-12-16T18:17:39.463237",
     "status": "completed"
    },
    "tags": []
   },
   "source": [
    "## Preprocessing"
   ]
  },
  {
   "cell_type": "code",
   "execution_count": 3,
   "id": "fc530742",
   "metadata": {
    "execution": {
     "iopub.execute_input": "2021-12-16T18:17:39.566892Z",
     "iopub.status.busy": "2021-12-16T18:17:39.564946Z",
     "iopub.status.idle": "2021-12-16T18:17:39.569993Z",
     "shell.execute_reply": "2021-12-16T18:17:39.569439Z",
     "shell.execute_reply.started": "2021-12-16T17:37:54.054735Z"
    },
    "papermill": {
     "duration": 0.050412,
     "end_time": "2021-12-16T18:17:39.570140",
     "exception": false,
     "start_time": "2021-12-16T18:17:39.519728",
     "status": "completed"
    },
    "tags": []
   },
   "outputs": [
    {
     "data": {
      "text/plain": [
       "drama              8098\n",
       "comedy             6501\n",
       "adventure          2818\n",
       "science fiction    2719\n",
       "western            2660\n",
       "thriller           2516\n",
       "action             2116\n",
       "musical            1827\n",
       "noir               1713\n",
       "horror             1355\n",
       "romance            1332\n",
       "fantasy             827\n",
       "animation           811\n",
       "war                 534\n",
       "sport               409\n",
       "documentary         354\n",
       "family              319\n",
       "historical          253\n",
       "biography           219\n",
       "Name: Genre, dtype: int64"
      ]
     },
     "execution_count": 3,
     "metadata": {},
     "output_type": "execute_result"
    }
   ],
   "source": [
    "df['Genre'].value_counts()"
   ]
  },
  {
   "cell_type": "code",
   "execution_count": 4,
   "id": "599351ef",
   "metadata": {
    "execution": {
     "iopub.execute_input": "2021-12-16T18:17:39.637422Z",
     "iopub.status.busy": "2021-12-16T18:17:39.636279Z",
     "iopub.status.idle": "2021-12-16T18:17:39.638282Z",
     "shell.execute_reply": "2021-12-16T18:17:39.638743Z",
     "shell.execute_reply.started": "2021-12-16T17:37:54.089804Z"
    },
    "papermill": {
     "duration": 0.039585,
     "end_time": "2021-12-16T18:17:39.638916",
     "exception": false,
     "start_time": "2021-12-16T18:17:39.599331",
     "status": "completed"
    },
    "tags": []
   },
   "outputs": [],
   "source": [
    "def transform_genres(genre):\n",
    "    if genre in ['action', 'adventure']:\n",
    "        return 'action & adventure'\n",
    "        \n",
    "    elif genre == 'biography':\n",
    "        return 'documentary'\n",
    "\n",
    "    elif genre in ['science fiction', 'fantasy']:\n",
    "        return 'sci-fi & fantasy'\n",
    "        \n",
    "    elif genre == 'noir':\n",
    "        return 'thriller'\n",
    "    \n",
    "    return genre"
   ]
  },
  {
   "cell_type": "code",
   "execution_count": 5,
   "id": "0c0352e4",
   "metadata": {
    "execution": {
     "iopub.execute_input": "2021-12-16T18:17:39.702837Z",
     "iopub.status.busy": "2021-12-16T18:17:39.699428Z",
     "iopub.status.idle": "2021-12-16T18:17:39.717899Z",
     "shell.execute_reply": "2021-12-16T18:17:39.718372Z",
     "shell.execute_reply.started": "2021-12-16T17:37:54.097915Z"
    },
    "papermill": {
     "duration": 0.051067,
     "end_time": "2021-12-16T18:17:39.718549",
     "exception": false,
     "start_time": "2021-12-16T18:17:39.667482",
     "status": "completed"
    },
    "tags": []
   },
   "outputs": [],
   "source": [
    "df['Genre'] = df['Genre'].apply(transform_genres)"
   ]
  },
  {
   "cell_type": "code",
   "execution_count": 6,
   "id": "49bca5d2",
   "metadata": {
    "execution": {
     "iopub.execute_input": "2021-12-16T18:17:39.783663Z",
     "iopub.status.busy": "2021-12-16T18:17:39.782978Z",
     "iopub.status.idle": "2021-12-16T18:17:39.802072Z",
     "shell.execute_reply": "2021-12-16T18:17:39.801456Z",
     "shell.execute_reply.started": "2021-12-16T17:37:54.125039Z"
    },
    "papermill": {
     "duration": 0.055659,
     "end_time": "2021-12-16T18:17:39.802227",
     "exception": false,
     "start_time": "2021-12-16T18:17:39.746568",
     "status": "completed"
    },
    "tags": []
   },
   "outputs": [],
   "source": [
    "ids = df[df['Genre'].isin(['drama', 'comedy', 'thriller'])]['Genre'].sample(frac=0.2, random_state=2).index\n",
    "df_1 = df[~df['Genre'].isin(['drama', 'comedy', 'thriller'])]\n",
    "df_2 = df.loc[ids,:]"
   ]
  },
  {
   "cell_type": "code",
   "execution_count": 7,
   "id": "28085323",
   "metadata": {
    "execution": {
     "iopub.execute_input": "2021-12-16T18:17:39.866520Z",
     "iopub.status.busy": "2021-12-16T18:17:39.865477Z",
     "iopub.status.idle": "2021-12-16T18:17:39.884477Z",
     "shell.execute_reply": "2021-12-16T18:17:39.885027Z",
     "shell.execute_reply.started": "2021-12-16T17:37:54.308488Z"
    },
    "papermill": {
     "duration": 0.055397,
     "end_time": "2021-12-16T18:17:39.885212",
     "exception": false,
     "start_time": "2021-12-16T18:17:39.829815",
     "status": "completed"
    },
    "tags": []
   },
   "outputs": [
    {
     "data": {
      "text/plain": [
       "action & adventure    4934\n",
       "sci-fi & fantasy      3546\n",
       "western               2660\n",
       "musical               1827\n",
       "drama                 1630\n",
       "horror                1355\n",
       "romance               1332\n",
       "comedy                1287\n",
       "thriller               849\n",
       "animation              811\n",
       "documentary            573\n",
       "war                    534\n",
       "sport                  409\n",
       "family                 319\n",
       "historical             253\n",
       "Name: Genre, dtype: int64"
      ]
     },
     "execution_count": 7,
     "metadata": {},
     "output_type": "execute_result"
    }
   ],
   "source": [
    "df = pd.concat([df_1,df_2],axis=0)\n",
    "df['Genre'].value_counts()"
   ]
  },
  {
   "cell_type": "markdown",
   "id": "20b08655",
   "metadata": {
    "papermill": {
     "duration": 0.028,
     "end_time": "2021-12-16T18:17:39.941839",
     "exception": false,
     "start_time": "2021-12-16T18:17:39.913839",
     "status": "completed"
    },
    "tags": []
   },
   "source": [
    "## Tokenization"
   ]
  },
  {
   "cell_type": "code",
   "execution_count": 8,
   "id": "cc8d1371",
   "metadata": {
    "execution": {
     "iopub.execute_input": "2021-12-16T18:17:40.005054Z",
     "iopub.status.busy": "2021-12-16T18:17:40.004340Z",
     "iopub.status.idle": "2021-12-16T18:17:40.844460Z",
     "shell.execute_reply": "2021-12-16T18:17:40.843459Z",
     "shell.execute_reply.started": "2021-12-16T17:38:20.998631Z"
    },
    "papermill": {
     "duration": 0.874359,
     "end_time": "2021-12-16T18:17:40.844615",
     "exception": false,
     "start_time": "2021-12-16T18:17:39.970256",
     "status": "completed"
    },
    "tags": []
   },
   "outputs": [],
   "source": [
    "from keras.preprocessing import sequence\n",
    "from keras.models import Sequential\n",
    "from keras.layers import Dense, Embedding, SpatialDropout1D\n",
    "from keras.layers import LSTM\n",
    "from keras.preprocessing.text import Tokenizer\n",
    "from keras.preprocessing.sequence import pad_sequences\n",
    "\n",
    "max_features = 5000\n",
    "maxlen = 300\n",
    "embedding_dims = 300\n",
    "hidden_dims = 20\n",
    "\n",
    "X = df['Plot'].values"
   ]
  },
  {
   "cell_type": "markdown",
   "id": "491c0d00",
   "metadata": {
    "papermill": {
     "duration": 0.028055,
     "end_time": "2021-12-16T18:17:40.901545",
     "exception": false,
     "start_time": "2021-12-16T18:17:40.873490",
     "status": "completed"
    },
    "tags": []
   },
   "source": [
    "Building vocabulary with nltk"
   ]
  },
  {
   "cell_type": "code",
   "execution_count": 9,
   "id": "6ee4e7a4",
   "metadata": {
    "execution": {
     "iopub.execute_input": "2021-12-16T18:17:41.023506Z",
     "iopub.status.busy": "2021-12-16T18:17:41.003293Z",
     "iopub.status.idle": "2021-12-16T18:18:01.042021Z",
     "shell.execute_reply": "2021-12-16T18:18:01.041453Z",
     "shell.execute_reply.started": "2021-12-16T17:38:21.734157Z"
    },
    "papermill": {
     "duration": 20.111797,
     "end_time": "2021-12-16T18:18:01.042173",
     "exception": false,
     "start_time": "2021-12-16T18:17:40.930376",
     "status": "completed"
    },
    "tags": []
   },
   "outputs": [],
   "source": [
    "tokenizer = Tokenizer(num_words=max_features)\n",
    "tokenizer.fit_on_texts(X)\n",
    "\n",
    "X = tokenizer.texts_to_sequences(X)\n",
    "X = pad_sequences(X, maxlen)"
   ]
  },
  {
   "cell_type": "code",
   "execution_count": 10,
   "id": "dae3fbd5",
   "metadata": {
    "execution": {
     "iopub.execute_input": "2021-12-16T18:18:01.105843Z",
     "iopub.status.busy": "2021-12-16T18:18:01.105072Z",
     "iopub.status.idle": "2021-12-16T18:18:02.256107Z",
     "shell.execute_reply": "2021-12-16T18:18:02.255321Z",
     "shell.execute_reply.started": "2021-12-16T17:38:38.833714Z"
    },
    "papermill": {
     "duration": 1.185294,
     "end_time": "2021-12-16T18:18:02.256310",
     "exception": false,
     "start_time": "2021-12-16T18:18:01.071016",
     "status": "completed"
    },
    "tags": []
   },
   "outputs": [],
   "source": [
    "import nltk\n",
    "from nltk.corpus import stopwords\n",
    "stop = stopwords.words('english')"
   ]
  },
  {
   "cell_type": "code",
   "execution_count": 11,
   "id": "a3abe0b8",
   "metadata": {
    "execution": {
     "iopub.execute_input": "2021-12-16T18:18:02.319507Z",
     "iopub.status.busy": "2021-12-16T18:18:02.318786Z",
     "iopub.status.idle": "2021-12-16T18:18:02.321676Z",
     "shell.execute_reply": "2021-12-16T18:18:02.322138Z",
     "shell.execute_reply.started": "2021-12-16T17:38:38.840469Z"
    },
    "papermill": {
     "duration": 0.036322,
     "end_time": "2021-12-16T18:18:02.322288",
     "exception": false,
     "start_time": "2021-12-16T18:18:02.285966",
     "status": "completed"
    },
    "tags": []
   },
   "outputs": [
    {
     "data": {
      "text/plain": [
       "133705"
      ]
     },
     "execution_count": 11,
     "metadata": {},
     "output_type": "execute_result"
    }
   ],
   "source": [
    "len(tokenizer.word_index)"
   ]
  },
  {
   "cell_type": "code",
   "execution_count": 12,
   "id": "9c05035b",
   "metadata": {
    "execution": {
     "iopub.execute_input": "2021-12-16T18:18:02.537848Z",
     "iopub.status.busy": "2021-12-16T18:18:02.460281Z",
     "iopub.status.idle": "2021-12-16T18:18:02.610730Z",
     "shell.execute_reply": "2021-12-16T18:18:02.610186Z",
     "shell.execute_reply.started": "2021-12-16T17:38:38.852837Z"
    },
    "papermill": {
     "duration": 0.260134,
     "end_time": "2021-12-16T18:18:02.610895",
     "exception": false,
     "start_time": "2021-12-16T18:18:02.350761",
     "status": "completed"
    },
    "tags": []
   },
   "outputs": [],
   "source": [
    "from collections import OrderedDict\n",
    "dictionary = dict(OrderedDict(sorted(tokenizer.word_counts.items(), key=lambda x: x[1], reverse=True)))"
   ]
  },
  {
   "cell_type": "code",
   "execution_count": 13,
   "id": "10651f2b",
   "metadata": {
    "execution": {
     "iopub.execute_input": "2021-12-16T18:18:02.700848Z",
     "iopub.status.busy": "2021-12-16T18:18:02.692009Z",
     "iopub.status.idle": "2021-12-16T18:18:02.703918Z",
     "shell.execute_reply": "2021-12-16T18:18:02.703366Z",
     "shell.execute_reply.started": "2021-12-16T17:38:40.755555Z"
    },
    "papermill": {
     "duration": 0.064225,
     "end_time": "2021-12-16T18:18:02.704070",
     "exception": false,
     "start_time": "2021-12-16T18:18:02.639845",
     "status": "completed"
    },
    "tags": []
   },
   "outputs": [],
   "source": [
    "vocab = {x:y for i,(x, y) in enumerate(dictionary.items()) if i < max_features }"
   ]
  },
  {
   "cell_type": "code",
   "execution_count": 14,
   "id": "f2f5b963",
   "metadata": {
    "execution": {
     "iopub.execute_input": "2021-12-16T18:18:02.766994Z",
     "iopub.status.busy": "2021-12-16T18:18:02.766201Z",
     "iopub.status.idle": "2021-12-16T18:18:02.769307Z",
     "shell.execute_reply": "2021-12-16T18:18:02.769759Z",
     "shell.execute_reply.started": "2021-12-16T17:38:41.520123Z"
    },
    "papermill": {
     "duration": 0.037047,
     "end_time": "2021-12-16T18:18:02.769946",
     "exception": false,
     "start_time": "2021-12-16T18:18:02.732899",
     "status": "completed"
    },
    "tags": []
   },
   "outputs": [
    {
     "data": {
      "text/plain": [
       "5000"
      ]
     },
     "execution_count": 14,
     "metadata": {},
     "output_type": "execute_result"
    }
   ],
   "source": [
    "len(vocab)"
   ]
  },
  {
   "cell_type": "markdown",
   "id": "3a0ab42e",
   "metadata": {
    "papermill": {
     "duration": 0.028142,
     "end_time": "2021-12-16T18:18:02.826646",
     "exception": false,
     "start_time": "2021-12-16T18:18:02.798504",
     "status": "completed"
    },
    "tags": []
   },
   "source": [
    "## Embedding"
   ]
  },
  {
   "cell_type": "code",
   "execution_count": 15,
   "id": "94f7c38b",
   "metadata": {
    "execution": {
     "iopub.execute_input": "2021-12-16T18:18:02.890294Z",
     "iopub.status.busy": "2021-12-16T18:18:02.889209Z",
     "iopub.status.idle": "2021-12-16T18:18:02.891200Z",
     "shell.execute_reply": "2021-12-16T18:18:02.891838Z",
     "shell.execute_reply.started": "2021-12-16T17:38:44.099516Z"
    },
    "papermill": {
     "duration": 0.036524,
     "end_time": "2021-12-16T18:18:02.892024",
     "exception": false,
     "start_time": "2021-12-16T18:18:02.855500",
     "status": "completed"
    },
    "tags": []
   },
   "outputs": [],
   "source": [
    "glove_emb_link = \"https://huggingface.co/stanfordnlp/glove/resolve/main/glove.6B.zip\""
   ]
  },
  {
   "cell_type": "code",
   "execution_count": 16,
   "id": "a8c8f6fc",
   "metadata": {
    "execution": {
     "iopub.execute_input": "2021-12-16T18:18:02.959378Z",
     "iopub.status.busy": "2021-12-16T18:18:02.955295Z",
     "iopub.status.idle": "2021-12-16T18:18:18.252707Z",
     "shell.execute_reply": "2021-12-16T18:18:18.254207Z",
     "shell.execute_reply.started": "2021-12-16T17:38:45.627824Z"
    },
    "papermill": {
     "duration": 15.333613,
     "end_time": "2021-12-16T18:18:18.254451",
     "exception": false,
     "start_time": "2021-12-16T18:18:02.920838",
     "status": "completed"
    },
    "tags": []
   },
   "outputs": [],
   "source": [
    "from io import StringIO, BytesIO, TextIOWrapper\n",
    "from zipfile import ZipFile\n",
    "from urllib.request import urlopen\n",
    "import requests\n",
    "\n",
    "resp = requests.get(glove_emb_link)"
   ]
  },
  {
   "cell_type": "code",
   "execution_count": 17,
   "id": "e7019c3c",
   "metadata": {
    "execution": {
     "iopub.execute_input": "2021-12-16T18:18:18.348291Z",
     "iopub.status.busy": "2021-12-16T18:18:18.347015Z",
     "iopub.status.idle": "2021-12-16T18:19:17.387723Z",
     "shell.execute_reply": "2021-12-16T18:19:17.388274Z",
     "shell.execute_reply.started": "2021-12-16T17:39:02.893142Z"
    },
    "papermill": {
     "duration": 59.080166,
     "end_time": "2021-12-16T18:19:17.388462",
     "exception": false,
     "start_time": "2021-12-16T18:18:18.308296",
     "status": "completed"
    },
    "tags": []
   },
   "outputs": [
    {
     "name": "stdout",
     "output_type": "stream",
     "text": [
      "Loaded 400001 word vectors.\n"
     ]
    }
   ],
   "source": [
    "embeddings_index = dict()\n",
    "\n",
    "with ZipFile(BytesIO(resp.content),'r') as zipfile:\n",
    "    with TextIOWrapper(zipfile.open(\"glove.6B.300d.txt\"), encoding=\"utf-8\") as file:\n",
    "        for line in file:\n",
    "            values = line.split()\n",
    "            word = values[0]\n",
    "            coefs = np.asarray(values[1:], dtype='float32')\n",
    "            embeddings_index[word] = coefs\n",
    "\n",
    "print('Loaded %s word vectors.' % len(embeddings_index))"
   ]
  },
  {
   "cell_type": "code",
   "execution_count": 18,
   "id": "ae1e3523",
   "metadata": {
    "execution": {
     "iopub.execute_input": "2021-12-16T18:19:17.454306Z",
     "iopub.status.busy": "2021-12-16T18:19:17.453306Z",
     "iopub.status.idle": "2021-12-16T18:19:17.477698Z",
     "shell.execute_reply": "2021-12-16T18:19:17.477079Z",
     "shell.execute_reply.started": "2021-12-16T17:41:34.300361Z"
    },
    "papermill": {
     "duration": 0.05984,
     "end_time": "2021-12-16T18:19:17.477835",
     "exception": false,
     "start_time": "2021-12-16T18:19:17.417995",
     "status": "completed"
    },
    "tags": []
   },
   "outputs": [],
   "source": [
    "# create a weight matrix for words in training docs\n",
    "embedding_matrix = np.zeros((max_features, embedding_dims))\n",
    "try:\n",
    "    for word in vocab.keys():\n",
    "        i = tokenizer.word_index[word]\n",
    "        embedding_vector = embeddings_index.get(word)\n",
    "        if embedding_vector is not None:\n",
    "            embedding_matrix[i] = embedding_vector\n",
    "except:\n",
    "    pass"
   ]
  },
  {
   "cell_type": "code",
   "execution_count": 19,
   "id": "9cb778fb",
   "metadata": {
    "execution": {
     "iopub.execute_input": "2021-12-16T18:19:17.542322Z",
     "iopub.status.busy": "2021-12-16T18:19:17.541553Z",
     "iopub.status.idle": "2021-12-16T18:19:17.544715Z",
     "shell.execute_reply": "2021-12-16T18:19:17.545175Z",
     "shell.execute_reply.started": "2021-12-16T17:41:35.725663Z"
    },
    "papermill": {
     "duration": 0.038299,
     "end_time": "2021-12-16T18:19:17.545337",
     "exception": false,
     "start_time": "2021-12-16T18:19:17.507038",
     "status": "completed"
    },
    "tags": []
   },
   "outputs": [
    {
     "data": {
      "text/plain": [
       "5000"
      ]
     },
     "execution_count": 19,
     "metadata": {},
     "output_type": "execute_result"
    }
   ],
   "source": [
    "len(embedding_matrix)"
   ]
  },
  {
   "cell_type": "code",
   "execution_count": 20,
   "id": "bb5a72e5",
   "metadata": {
    "execution": {
     "iopub.execute_input": "2021-12-16T18:19:17.608803Z",
     "iopub.status.busy": "2021-12-16T18:19:17.608113Z",
     "iopub.status.idle": "2021-12-16T18:19:17.610914Z",
     "shell.execute_reply": "2021-12-16T18:19:17.611347Z",
     "shell.execute_reply.started": "2021-12-16T17:41:37.133390Z"
    },
    "papermill": {
     "duration": 0.036705,
     "end_time": "2021-12-16T18:19:17.611502",
     "exception": false,
     "start_time": "2021-12-16T18:19:17.574797",
     "status": "completed"
    },
    "tags": []
   },
   "outputs": [],
   "source": [
    "resp = None"
   ]
  },
  {
   "cell_type": "markdown",
   "id": "09b653d3",
   "metadata": {
    "papermill": {
     "duration": 0.029231,
     "end_time": "2021-12-16T18:19:17.670968",
     "exception": false,
     "start_time": "2021-12-16T18:19:17.641737",
     "status": "completed"
    },
    "tags": []
   },
   "source": [
    "## Classification"
   ]
  },
  {
   "cell_type": "code",
   "execution_count": 21,
   "id": "1a3ddabd",
   "metadata": {
    "execution": {
     "iopub.execute_input": "2021-12-16T18:19:17.737169Z",
     "iopub.status.busy": "2021-12-16T18:19:17.736262Z",
     "iopub.status.idle": "2021-12-16T18:19:18.125287Z",
     "shell.execute_reply": "2021-12-16T18:19:18.124680Z",
     "shell.execute_reply.started": "2021-12-16T17:41:37.599991Z"
    },
    "papermill": {
     "duration": 0.424826,
     "end_time": "2021-12-16T18:19:18.125432",
     "exception": false,
     "start_time": "2021-12-16T18:19:17.700606",
     "status": "completed"
    },
    "tags": []
   },
   "outputs": [],
   "source": [
    "from sklearn.preprocessing import LabelEncoder\n",
    "from sklearn.model_selection import train_test_split\n",
    "from tensorflow.keras.utils import to_categorical\n",
    "\n",
    "y = np.array(df['Genre'].values)\n",
    "n_labels = len(set(y))\n",
    "\n",
    "label_encoder = LabelEncoder()\n",
    "y = np.array(label_encoder.fit_transform(y))\n",
    "\n",
    "cat_y = to_categorical(y, num_classes=n_labels)\n",
    "\n",
    "X_train, X_test, y_train, y_test = train_test_split(X, cat_y, test_size=0.20, stratify=y)"
   ]
  },
  {
   "cell_type": "markdown",
   "id": "5b69c7cf",
   "metadata": {
    "papermill": {
     "duration": 0.029647,
     "end_time": "2021-12-16T18:19:18.185093",
     "exception": false,
     "start_time": "2021-12-16T18:19:18.155446",
     "status": "completed"
    },
    "tags": []
   },
   "source": [
    "import numpy as np \n",
    "\n",
    "sample_idx = 0\n",
    "y_train_bin = np.asarray(y_train)==y_train[sample_idx]\n",
    "y_test_bin = np.asarray(y_test)==y_train[sample_idx]\n",
    "y_train_bin,y_test_bin"
   ]
  },
  {
   "cell_type": "markdown",
   "id": "541f57c7",
   "metadata": {
    "papermill": {
     "duration": 0.036416,
     "end_time": "2021-12-16T18:19:18.250931",
     "exception": false,
     "start_time": "2021-12-16T18:19:18.214515",
     "status": "completed"
    },
    "tags": []
   },
   "source": [
    "#### Class weights"
   ]
  },
  {
   "cell_type": "code",
   "execution_count": 22,
   "id": "fbd26fc2",
   "metadata": {
    "execution": {
     "iopub.execute_input": "2021-12-16T18:19:18.350601Z",
     "iopub.status.busy": "2021-12-16T18:19:18.348022Z",
     "iopub.status.idle": "2021-12-16T18:19:18.354429Z",
     "shell.execute_reply": "2021-12-16T18:19:18.353852Z",
     "shell.execute_reply.started": "2021-12-16T17:41:51.995509Z"
    },
    "papermill": {
     "duration": 0.049218,
     "end_time": "2021-12-16T18:19:18.354564",
     "exception": false,
     "start_time": "2021-12-16T18:19:18.305346",
     "status": "completed"
    },
    "tags": []
   },
   "outputs": [
    {
     "data": {
      "text/plain": [
       "{0: 0.30156735576273475,\n",
       " 1: 1.8346896835182902,\n",
       " 2: 1.1561253561253562,\n",
       " 3: 2.59674229203025,\n",
       " 4: 0.9128425357873211,\n",
       " 5: 4.664367816091954,\n",
       " 6: 5.881159420289855,\n",
       " 7: 1.0981057810578105,\n",
       " 8: 0.8144134282065316,\n",
       " 9: 1.117067067067067,\n",
       " 10: 0.41960894905057344,\n",
       " 11: 3.6379788101059494,\n",
       " 12: 1.7525716529250097,\n",
       " 13: 2.7863920099875155,\n",
       " 14: 0.5593734335839599}"
      ]
     },
     "execution_count": 22,
     "metadata": {},
     "output_type": "execute_result"
    }
   ],
   "source": [
    "n_classes = len(label_encoder.classes_)\n",
    "n_samples = X.shape[0]\n",
    "value_counts = df['Genre'].value_counts().sort_index().items()\n",
    "\n",
    "class_weights = { i: n_samples / (n_classes * freq ) for i,(_,freq) in enumerate(value_counts) }\n",
    "class_weights"
   ]
  },
  {
   "cell_type": "markdown",
   "id": "3154f0fd",
   "metadata": {
    "papermill": {
     "duration": 0.031851,
     "end_time": "2021-12-16T18:19:18.416852",
     "exception": false,
     "start_time": "2021-12-16T18:19:18.385001",
     "status": "completed"
    },
    "tags": []
   },
   "source": [
    "### LSTM"
   ]
  },
  {
   "cell_type": "code",
   "execution_count": 23,
   "id": "29950911",
   "metadata": {
    "execution": {
     "iopub.execute_input": "2021-12-16T18:19:18.487238Z",
     "iopub.status.busy": "2021-12-16T18:19:18.486508Z",
     "iopub.status.idle": "2021-12-16T18:19:19.209474Z",
     "shell.execute_reply": "2021-12-16T18:19:19.210005Z",
     "shell.execute_reply.started": "2021-12-16T17:41:53.862756Z"
    },
    "papermill": {
     "duration": 0.76186,
     "end_time": "2021-12-16T18:19:19.210172",
     "exception": false,
     "start_time": "2021-12-16T18:19:18.448312",
     "status": "completed"
    },
    "tags": []
   },
   "outputs": [
    {
     "name": "stdout",
     "output_type": "stream",
     "text": [
      "Model: \"sequential\"\n",
      "_________________________________________________________________\n",
      "Layer (type)                 Output Shape              Param #   \n",
      "=================================================================\n",
      "embedding (Embedding)        (None, 300, 300)          1500000   \n",
      "_________________________________________________________________\n",
      "spatial_dropout1d (SpatialDr (None, 300, 300)          0         \n",
      "_________________________________________________________________\n",
      "lstm (LSTM)                  (None, 20)                25680     \n",
      "_________________________________________________________________\n",
      "dense (Dense)                (None, 15)                315       \n",
      "=================================================================\n",
      "Total params: 1,525,995\n",
      "Trainable params: 25,995\n",
      "Non-trainable params: 1,500,000\n",
      "_________________________________________________________________\n"
     ]
    }
   ],
   "source": [
    "from tensorflow.keras.optimizers import Adam, schedules\n",
    "\n",
    "e = Embedding(max_features,\n",
    "              embedding_dims, \n",
    "              weights=[embedding_matrix], \n",
    "              input_length=maxlen, \n",
    "              trainable=False)\n",
    "\n",
    "model = Sequential()\n",
    "model.add(e)\n",
    "model.add(SpatialDropout1D(0.4))\n",
    "model.add(LSTM(hidden_dims, dropout=0.4))\n",
    "model.add(Dense(n_labels, activation='softmax'))\n",
    "\n",
    "opt = Adam(learning_rate=0.01)\n",
    "\n",
    "# try using different optimizers and different optimizer configs\n",
    "model.compile(loss='categorical_crossentropy',\n",
    "              optimizer=opt,\n",
    "              metrics=['accuracy'])\n",
    "\n",
    "model.summary()"
   ]
  },
  {
   "cell_type": "code",
   "execution_count": 24,
   "id": "c3d5e057",
   "metadata": {
    "execution": {
     "iopub.execute_input": "2021-12-16T18:19:19.279957Z",
     "iopub.status.busy": "2021-12-16T18:19:19.278964Z",
     "iopub.status.idle": "2021-12-16T18:21:09.762526Z",
     "shell.execute_reply": "2021-12-16T18:21:09.762035Z",
     "shell.execute_reply.started": "2021-12-16T17:41:56.884927Z"
    },
    "papermill": {
     "duration": 110.51987,
     "end_time": "2021-12-16T18:21:09.762676",
     "exception": false,
     "start_time": "2021-12-16T18:19:19.242806",
     "status": "completed"
    },
    "scrolled": true,
    "tags": []
   },
   "outputs": [
    {
     "name": "stdout",
     "output_type": "stream",
     "text": [
      "Train...\n"
     ]
    },
    {
     "name": "stderr",
     "output_type": "stream",
     "text": [
      "2021-12-16 18:19:19.552598: I tensorflow/compiler/mlir/mlir_graph_optimization_pass.cc:185] None of the MLIR Optimization Passes are enabled (registered 2)\n"
     ]
    },
    {
     "name": "stdout",
     "output_type": "stream",
     "text": [
      "Epoch 1/100\n"
     ]
    },
    {
     "name": "stderr",
     "output_type": "stream",
     "text": [
      "2021-12-16 18:19:22.381503: I tensorflow/stream_executor/cuda/cuda_dnn.cc:369] Loaded cuDNN version 8005\n"
     ]
    },
    {
     "name": "stdout",
     "output_type": "stream",
     "text": [
      "30/30 [==============================] - 5s 52ms/step - loss: 2.4135 - accuracy: 0.2155 - val_loss: 2.3271 - val_accuracy: 0.2367\n",
      "Epoch 2/100\n",
      "30/30 [==============================] - 1s 35ms/step - loss: 2.2123 - accuracy: 0.2894 - val_loss: 1.9404 - val_accuracy: 0.4065\n",
      "Epoch 3/100\n",
      "30/30 [==============================] - 1s 35ms/step - loss: 1.9126 - accuracy: 0.3983 - val_loss: 1.7215 - val_accuracy: 0.4662\n",
      "Epoch 4/100\n",
      "30/30 [==============================] - 1s 35ms/step - loss: 1.7687 - accuracy: 0.4438 - val_loss: 1.6274 - val_accuracy: 0.4875\n",
      "Epoch 5/100\n",
      "30/30 [==============================] - 1s 34ms/step - loss: 1.6680 - accuracy: 0.4711 - val_loss: 1.5361 - val_accuracy: 0.5181\n",
      "Epoch 6/100\n",
      "30/30 [==============================] - 1s 34ms/step - loss: 1.5944 - accuracy: 0.4926 - val_loss: 1.5035 - val_accuracy: 0.5226\n",
      "Epoch 7/100\n",
      "30/30 [==============================] - 1s 36ms/step - loss: 1.5568 - accuracy: 0.4988 - val_loss: 1.4464 - val_accuracy: 0.5319\n",
      "Epoch 8/100\n",
      "30/30 [==============================] - 1s 35ms/step - loss: 1.5340 - accuracy: 0.5096 - val_loss: 1.4411 - val_accuracy: 0.5338\n",
      "Epoch 9/100\n",
      "30/30 [==============================] - 1s 34ms/step - loss: 1.4986 - accuracy: 0.5189 - val_loss: 1.4306 - val_accuracy: 0.5394\n",
      "Epoch 10/100\n",
      "30/30 [==============================] - 1s 34ms/step - loss: 1.4839 - accuracy: 0.5206 - val_loss: 1.4098 - val_accuracy: 0.5510\n",
      "Epoch 11/100\n",
      "30/30 [==============================] - 1s 35ms/step - loss: 1.4641 - accuracy: 0.5273 - val_loss: 1.4105 - val_accuracy: 0.5465\n",
      "Epoch 12/100\n",
      "30/30 [==============================] - 1s 34ms/step - loss: 1.4660 - accuracy: 0.5278 - val_loss: 1.3922 - val_accuracy: 0.5573\n",
      "Epoch 13/100\n",
      "30/30 [==============================] - 1s 35ms/step - loss: 1.4541 - accuracy: 0.5284 - val_loss: 1.3944 - val_accuracy: 0.5524\n",
      "Epoch 14/100\n",
      "30/30 [==============================] - 1s 35ms/step - loss: 1.4447 - accuracy: 0.5300 - val_loss: 1.4155 - val_accuracy: 0.5502\n",
      "Epoch 15/100\n",
      "30/30 [==============================] - 1s 35ms/step - loss: 1.4358 - accuracy: 0.5362 - val_loss: 1.4126 - val_accuracy: 0.5450\n",
      "Epoch 16/100\n",
      "30/30 [==============================] - 1s 37ms/step - loss: 1.4374 - accuracy: 0.5322 - val_loss: 1.4244 - val_accuracy: 0.5427\n",
      "Epoch 17/100\n",
      "30/30 [==============================] - 1s 35ms/step - loss: 1.4245 - accuracy: 0.5407 - val_loss: 1.3962 - val_accuracy: 0.5487\n",
      "Epoch 18/100\n",
      "30/30 [==============================] - 1s 37ms/step - loss: 1.4153 - accuracy: 0.5447 - val_loss: 1.3931 - val_accuracy: 0.5521\n",
      "Epoch 19/100\n",
      "30/30 [==============================] - 1s 35ms/step - loss: 1.4149 - accuracy: 0.5403 - val_loss: 1.3954 - val_accuracy: 0.5483\n",
      "Epoch 20/100\n",
      "30/30 [==============================] - 1s 35ms/step - loss: 1.4086 - accuracy: 0.5438 - val_loss: 1.4381 - val_accuracy: 0.5405\n",
      "Epoch 21/100\n",
      "30/30 [==============================] - 1s 36ms/step - loss: 1.4180 - accuracy: 0.5403 - val_loss: 1.4013 - val_accuracy: 0.5517\n",
      "Epoch 22/100\n",
      "30/30 [==============================] - 1s 39ms/step - loss: 1.4030 - accuracy: 0.5443 - val_loss: 1.4059 - val_accuracy: 0.5506\n",
      "Epoch 23/100\n",
      "30/30 [==============================] - 1s 35ms/step - loss: 1.4054 - accuracy: 0.5389 - val_loss: 1.4027 - val_accuracy: 0.5502\n",
      "Epoch 24/100\n",
      "30/30 [==============================] - 1s 36ms/step - loss: 1.3948 - accuracy: 0.5473 - val_loss: 1.4001 - val_accuracy: 0.5539\n",
      "Epoch 25/100\n",
      "30/30 [==============================] - 1s 35ms/step - loss: 1.3818 - accuracy: 0.5517 - val_loss: 1.4220 - val_accuracy: 0.5401\n",
      "Epoch 26/100\n",
      "30/30 [==============================] - 1s 35ms/step - loss: 1.3939 - accuracy: 0.5476 - val_loss: 1.4350 - val_accuracy: 0.5431\n",
      "Epoch 27/100\n",
      "30/30 [==============================] - 1s 35ms/step - loss: 1.3890 - accuracy: 0.5497 - val_loss: 1.4140 - val_accuracy: 0.5450\n",
      "Epoch 28/100\n",
      "30/30 [==============================] - 1s 37ms/step - loss: 1.3969 - accuracy: 0.5460 - val_loss: 1.3993 - val_accuracy: 0.5476\n",
      "Epoch 29/100\n",
      "30/30 [==============================] - 1s 35ms/step - loss: 1.3855 - accuracy: 0.5521 - val_loss: 1.4352 - val_accuracy: 0.5364\n",
      "Epoch 30/100\n",
      "30/30 [==============================] - 1s 38ms/step - loss: 1.3855 - accuracy: 0.5486 - val_loss: 1.4017 - val_accuracy: 0.5457\n",
      "Epoch 31/100\n",
      "30/30 [==============================] - 1s 35ms/step - loss: 1.3811 - accuracy: 0.5499 - val_loss: 1.4124 - val_accuracy: 0.5401\n",
      "Epoch 32/100\n",
      "30/30 [==============================] - 1s 35ms/step - loss: 1.3739 - accuracy: 0.5499 - val_loss: 1.4229 - val_accuracy: 0.5465\n",
      "Epoch 33/100\n",
      "30/30 [==============================] - 1s 35ms/step - loss: 1.3803 - accuracy: 0.5492 - val_loss: 1.4271 - val_accuracy: 0.5476\n",
      "Epoch 34/100\n",
      "30/30 [==============================] - 1s 35ms/step - loss: 1.3780 - accuracy: 0.5516 - val_loss: 1.4072 - val_accuracy: 0.5510\n",
      "Epoch 35/100\n",
      "30/30 [==============================] - 1s 35ms/step - loss: 1.3787 - accuracy: 0.5461 - val_loss: 1.3967 - val_accuracy: 0.5491\n",
      "Epoch 36/100\n",
      "30/30 [==============================] - 1s 35ms/step - loss: 1.3841 - accuracy: 0.5518 - val_loss: 1.3917 - val_accuracy: 0.5524\n",
      "Epoch 37/100\n",
      "30/30 [==============================] - 1s 35ms/step - loss: 1.3697 - accuracy: 0.5486 - val_loss: 1.4052 - val_accuracy: 0.5491\n",
      "Epoch 38/100\n",
      "30/30 [==============================] - 1s 35ms/step - loss: 1.3667 - accuracy: 0.5545 - val_loss: 1.4072 - val_accuracy: 0.5495\n",
      "Epoch 39/100\n",
      "30/30 [==============================] - 1s 36ms/step - loss: 1.3610 - accuracy: 0.5532 - val_loss: 1.4013 - val_accuracy: 0.5446\n",
      "Epoch 40/100\n",
      "30/30 [==============================] - 1s 34ms/step - loss: 1.3656 - accuracy: 0.5520 - val_loss: 1.4001 - val_accuracy: 0.5439\n",
      "Epoch 41/100\n",
      "30/30 [==============================] - 1s 35ms/step - loss: 1.3661 - accuracy: 0.5564 - val_loss: 1.4024 - val_accuracy: 0.5472\n",
      "Epoch 42/100\n",
      "30/30 [==============================] - 1s 34ms/step - loss: 1.3628 - accuracy: 0.5563 - val_loss: 1.4115 - val_accuracy: 0.5450\n",
      "Epoch 43/100\n",
      "30/30 [==============================] - 1s 35ms/step - loss: 1.3617 - accuracy: 0.5548 - val_loss: 1.4016 - val_accuracy: 0.5480\n",
      "Epoch 44/100\n",
      "30/30 [==============================] - 1s 34ms/step - loss: 1.3658 - accuracy: 0.5565 - val_loss: 1.3893 - val_accuracy: 0.5498\n",
      "Epoch 45/100\n",
      "30/30 [==============================] - 1s 35ms/step - loss: 1.3631 - accuracy: 0.5501 - val_loss: 1.3913 - val_accuracy: 0.5442\n",
      "Epoch 46/100\n",
      "30/30 [==============================] - 1s 35ms/step - loss: 1.3680 - accuracy: 0.5491 - val_loss: 1.4145 - val_accuracy: 0.5446\n",
      "Epoch 47/100\n",
      "30/30 [==============================] - 1s 35ms/step - loss: 1.3599 - accuracy: 0.5535 - val_loss: 1.4019 - val_accuracy: 0.5521\n",
      "Epoch 48/100\n",
      "30/30 [==============================] - 1s 35ms/step - loss: 1.3606 - accuracy: 0.5551 - val_loss: 1.4101 - val_accuracy: 0.5461\n",
      "Epoch 49/100\n",
      "30/30 [==============================] - 1s 36ms/step - loss: 1.3634 - accuracy: 0.5512 - val_loss: 1.4148 - val_accuracy: 0.5465\n",
      "Epoch 50/100\n",
      "30/30 [==============================] - 1s 35ms/step - loss: 1.3531 - accuracy: 0.5553 - val_loss: 1.4045 - val_accuracy: 0.5446\n",
      "Epoch 51/100\n",
      "30/30 [==============================] - 1s 35ms/step - loss: 1.3489 - accuracy: 0.5575 - val_loss: 1.4096 - val_accuracy: 0.5476\n",
      "Epoch 52/100\n",
      "30/30 [==============================] - 1s 35ms/step - loss: 1.3540 - accuracy: 0.5559 - val_loss: 1.4036 - val_accuracy: 0.5483\n",
      "Epoch 53/100\n",
      "30/30 [==============================] - 1s 42ms/step - loss: 1.3479 - accuracy: 0.5603 - val_loss: 1.4254 - val_accuracy: 0.5480\n",
      "Epoch 54/100\n",
      "30/30 [==============================] - 1s 35ms/step - loss: 1.3536 - accuracy: 0.5589 - val_loss: 1.4131 - val_accuracy: 0.5439\n",
      "Epoch 55/100\n",
      "30/30 [==============================] - 1s 35ms/step - loss: 1.3539 - accuracy: 0.5573 - val_loss: 1.4132 - val_accuracy: 0.5420\n",
      "Epoch 56/100\n",
      "30/30 [==============================] - 1s 35ms/step - loss: 1.3507 - accuracy: 0.5550 - val_loss: 1.4169 - val_accuracy: 0.5506\n",
      "Epoch 57/100\n",
      "30/30 [==============================] - 1s 35ms/step - loss: 1.3593 - accuracy: 0.5582 - val_loss: 1.4366 - val_accuracy: 0.5420\n",
      "Epoch 58/100\n",
      "30/30 [==============================] - 1s 35ms/step - loss: 1.3545 - accuracy: 0.5582 - val_loss: 1.4063 - val_accuracy: 0.5454\n",
      "Epoch 59/100\n",
      "30/30 [==============================] - 1s 37ms/step - loss: 1.3426 - accuracy: 0.5540 - val_loss: 1.4293 - val_accuracy: 0.5398\n",
      "Epoch 60/100\n",
      "30/30 [==============================] - 1s 38ms/step - loss: 1.3453 - accuracy: 0.5575 - val_loss: 1.4132 - val_accuracy: 0.5491\n",
      "Epoch 61/100\n",
      "30/30 [==============================] - 1s 35ms/step - loss: 1.3548 - accuracy: 0.5549 - val_loss: 1.3943 - val_accuracy: 0.5547\n",
      "Epoch 62/100\n",
      "30/30 [==============================] - 1s 35ms/step - loss: 1.3408 - accuracy: 0.5605 - val_loss: 1.4259 - val_accuracy: 0.5375\n",
      "Epoch 63/100\n",
      "30/30 [==============================] - 1s 35ms/step - loss: 1.3545 - accuracy: 0.5559 - val_loss: 1.3914 - val_accuracy: 0.5528\n",
      "Epoch 64/100\n",
      "30/30 [==============================] - 1s 35ms/step - loss: 1.3490 - accuracy: 0.5607 - val_loss: 1.4301 - val_accuracy: 0.5371\n",
      "Epoch 65/100\n",
      "30/30 [==============================] - 1s 35ms/step - loss: 1.3437 - accuracy: 0.5607 - val_loss: 1.4159 - val_accuracy: 0.5427\n",
      "Epoch 66/100\n",
      "30/30 [==============================] - 1s 35ms/step - loss: 1.3446 - accuracy: 0.5588 - val_loss: 1.4023 - val_accuracy: 0.5495\n",
      "Epoch 67/100\n",
      "30/30 [==============================] - 1s 38ms/step - loss: 1.3431 - accuracy: 0.5596 - val_loss: 1.3908 - val_accuracy: 0.5450\n",
      "Epoch 68/100\n",
      "30/30 [==============================] - 1s 35ms/step - loss: 1.3448 - accuracy: 0.5561 - val_loss: 1.3983 - val_accuracy: 0.5457\n",
      "Epoch 69/100\n",
      "30/30 [==============================] - 1s 35ms/step - loss: 1.3497 - accuracy: 0.5572 - val_loss: 1.3781 - val_accuracy: 0.5539\n",
      "Epoch 70/100\n",
      "30/30 [==============================] - 1s 37ms/step - loss: 1.3459 - accuracy: 0.5586 - val_loss: 1.3899 - val_accuracy: 0.5480\n",
      "Epoch 71/100\n",
      "30/30 [==============================] - 1s 36ms/step - loss: 1.3448 - accuracy: 0.5606 - val_loss: 1.3786 - val_accuracy: 0.5603\n",
      "Epoch 72/100\n",
      "30/30 [==============================] - 1s 35ms/step - loss: 1.3390 - accuracy: 0.5606 - val_loss: 1.4023 - val_accuracy: 0.5532\n",
      "Epoch 73/100\n",
      "30/30 [==============================] - 1s 35ms/step - loss: 1.3483 - accuracy: 0.5617 - val_loss: 1.4091 - val_accuracy: 0.5457\n",
      "Epoch 74/100\n",
      "30/30 [==============================] - 1s 35ms/step - loss: 1.3476 - accuracy: 0.5564 - val_loss: 1.3904 - val_accuracy: 0.5573\n",
      "Epoch 75/100\n",
      "30/30 [==============================] - 1s 35ms/step - loss: 1.3380 - accuracy: 0.5635 - val_loss: 1.4275 - val_accuracy: 0.5420\n",
      "Epoch 76/100\n",
      "30/30 [==============================] - 1s 35ms/step - loss: 1.3425 - accuracy: 0.5626 - val_loss: 1.3884 - val_accuracy: 0.5554\n",
      "Epoch 77/100\n",
      "30/30 [==============================] - 1s 35ms/step - loss: 1.3382 - accuracy: 0.5651 - val_loss: 1.4180 - val_accuracy: 0.5427\n",
      "Epoch 78/100\n",
      "30/30 [==============================] - 1s 35ms/step - loss: 1.3396 - accuracy: 0.5587 - val_loss: 1.3911 - val_accuracy: 0.5580\n",
      "Epoch 79/100\n",
      "30/30 [==============================] - 1s 35ms/step - loss: 1.3477 - accuracy: 0.5519 - val_loss: 1.4001 - val_accuracy: 0.5468\n",
      "Epoch 80/100\n",
      "30/30 [==============================] - 1s 36ms/step - loss: 1.3399 - accuracy: 0.5622 - val_loss: 1.4105 - val_accuracy: 0.5424\n",
      "Epoch 81/100\n",
      "30/30 [==============================] - 1s 35ms/step - loss: 1.3317 - accuracy: 0.5686 - val_loss: 1.4158 - val_accuracy: 0.5468\n",
      "Epoch 82/100\n",
      "30/30 [==============================] - 1s 35ms/step - loss: 1.3338 - accuracy: 0.5650 - val_loss: 1.4142 - val_accuracy: 0.5450\n",
      "Epoch 83/100\n",
      "30/30 [==============================] - 1s 35ms/step - loss: 1.3385 - accuracy: 0.5584 - val_loss: 1.4260 - val_accuracy: 0.5386\n",
      "Epoch 84/100\n",
      "30/30 [==============================] - 1s 37ms/step - loss: 1.3338 - accuracy: 0.5652 - val_loss: 1.4110 - val_accuracy: 0.5446\n",
      "Epoch 85/100\n",
      "30/30 [==============================] - 1s 35ms/step - loss: 1.3342 - accuracy: 0.5613 - val_loss: 1.4215 - val_accuracy: 0.5435\n",
      "Epoch 86/100\n",
      "30/30 [==============================] - 1s 35ms/step - loss: 1.3288 - accuracy: 0.5612 - val_loss: 1.4054 - val_accuracy: 0.5465\n",
      "Epoch 87/100\n",
      "30/30 [==============================] - 1s 35ms/step - loss: 1.3317 - accuracy: 0.5652 - val_loss: 1.3935 - val_accuracy: 0.5521\n",
      "Epoch 88/100\n",
      "30/30 [==============================] - 1s 34ms/step - loss: 1.3355 - accuracy: 0.5598 - val_loss: 1.3806 - val_accuracy: 0.5607\n",
      "Epoch 89/100\n",
      "30/30 [==============================] - 1s 35ms/step - loss: 1.3284 - accuracy: 0.5623 - val_loss: 1.4032 - val_accuracy: 0.5495\n",
      "Epoch 90/100\n",
      "30/30 [==============================] - 1s 36ms/step - loss: 1.3360 - accuracy: 0.5612 - val_loss: 1.4235 - val_accuracy: 0.5368\n",
      "Epoch 91/100\n",
      "30/30 [==============================] - 1s 36ms/step - loss: 1.3388 - accuracy: 0.5586 - val_loss: 1.4221 - val_accuracy: 0.5420\n",
      "Epoch 92/100\n",
      "30/30 [==============================] - 1s 35ms/step - loss: 1.3308 - accuracy: 0.5675 - val_loss: 1.4088 - val_accuracy: 0.5457\n",
      "Epoch 93/100\n",
      "30/30 [==============================] - 1s 35ms/step - loss: 1.3353 - accuracy: 0.5632 - val_loss: 1.4086 - val_accuracy: 0.5524\n",
      "Epoch 94/100\n",
      "30/30 [==============================] - 1s 35ms/step - loss: 1.3280 - accuracy: 0.5666 - val_loss: 1.4185 - val_accuracy: 0.5439\n",
      "Epoch 95/100\n",
      "30/30 [==============================] - 1s 35ms/step - loss: 1.3388 - accuracy: 0.5600 - val_loss: 1.3765 - val_accuracy: 0.5554\n",
      "Epoch 96/100\n",
      "30/30 [==============================] - 1s 35ms/step - loss: 1.3346 - accuracy: 0.5601 - val_loss: 1.4215 - val_accuracy: 0.5375\n",
      "Epoch 97/100\n",
      "30/30 [==============================] - 1s 35ms/step - loss: 1.3296 - accuracy: 0.5626 - val_loss: 1.4253 - val_accuracy: 0.5424\n",
      "Epoch 98/100\n",
      "30/30 [==============================] - 1s 35ms/step - loss: 1.3460 - accuracy: 0.5569 - val_loss: 1.3972 - val_accuracy: 0.5450\n",
      "Epoch 99/100\n",
      "30/30 [==============================] - 1s 35ms/step - loss: 1.3304 - accuracy: 0.5602 - val_loss: 1.4244 - val_accuracy: 0.5342\n",
      "Epoch 100/100\n",
      "30/30 [==============================] - 1s 35ms/step - loss: 1.3293 - accuracy: 0.5625 - val_loss: 1.3899 - val_accuracy: 0.5495\n"
     ]
    },
    {
     "data": {
      "text/plain": [
       "<keras.callbacks.History at 0x7fa4e1337850>"
      ]
     },
     "execution_count": 24,
     "metadata": {},
     "output_type": "execute_result"
    }
   ],
   "source": [
    "batch_size = 512\n",
    "epochs = 100\n",
    "print('Train...')\n",
    "model.fit(X_train, y_train,\n",
    "          batch_size=batch_size,\n",
    "          epochs=epochs,\n",
    "          shuffle=True,\n",
    "          validation_split=0.15)\n",
    "          #class_weight=class_weights)"
   ]
  },
  {
   "cell_type": "code",
   "execution_count": 25,
   "id": "94b5a0a8",
   "metadata": {
    "execution": {
     "iopub.execute_input": "2021-12-16T18:21:11.125730Z",
     "iopub.status.busy": "2021-12-16T18:21:11.124776Z",
     "iopub.status.idle": "2021-12-16T18:21:12.163227Z",
     "shell.execute_reply": "2021-12-16T18:21:12.163698Z",
     "shell.execute_reply.started": "2021-12-16T17:45:06.594515Z"
    },
    "papermill": {
     "duration": 1.8269,
     "end_time": "2021-12-16T18:21:12.163896",
     "exception": false,
     "start_time": "2021-12-16T18:21:10.336996",
     "status": "completed"
    },
    "tags": []
   },
   "outputs": [
    {
     "data": {
      "text/plain": [
       "0.5638440860215054"
      ]
     },
     "execution_count": 25,
     "metadata": {},
     "output_type": "execute_result"
    }
   ],
   "source": [
    "from sklearn.metrics import accuracy_score, confusion_matrix, ConfusionMatrixDisplay\n",
    "y_preds = model.predict(X_test)\n",
    "prediction = np.argmax(y_preds,axis=1)\n",
    "ground_truth = np.argmax(y_test, axis=1)\n",
    "accuracy_score(ground_truth,prediction)"
   ]
  },
  {
   "cell_type": "code",
   "execution_count": 26,
   "id": "522f4ef9",
   "metadata": {
    "execution": {
     "iopub.execute_input": "2021-12-16T18:21:13.222521Z",
     "iopub.status.busy": "2021-12-16T18:21:13.221536Z",
     "iopub.status.idle": "2021-12-16T18:21:14.362364Z",
     "shell.execute_reply": "2021-12-16T18:21:14.361508Z",
     "shell.execute_reply.started": "2021-12-16T17:45:08.728645Z"
    },
    "papermill": {
     "duration": 1.671476,
     "end_time": "2021-12-16T18:21:14.362518",
     "exception": false,
     "start_time": "2021-12-16T18:21:12.691042",
     "status": "completed"
    },
    "tags": []
   },
   "outputs": [
    {
     "data": {
      "image/png": "[encoded data removed]",
      "text/plain": [
       "<Figure size 1080x720 with 2 Axes>"
      ]
     },
     "metadata": {
      "needs_background": "light"
     },
     "output_type": "display_data"
    }
   ],
   "source": [
    "import matplotlib.pyplot as plt\n",
    "\n",
    "fig, ax = plt.subplots(1,1,figsize=(15, 10))\n",
    "cm = confusion_matrix(ground_truth, prediction, labels=list(set(ground_truth)))\n",
    "disp = ConfusionMatrixDisplay(confusion_matrix=cm,\n",
    "                              display_labels=label_encoder.classes_)\n",
    "disp.plot(ax=ax, xticks_rotation='vertical')\n",
    "plt.show()"
   ]
  },
  {
   "cell_type": "markdown",
   "id": "54adda33",
   "metadata": {
    "papermill": {
     "duration": 0.532466,
     "end_time": "2021-12-16T18:21:15.431186",
     "exception": false,
     "start_time": "2021-12-16T18:21:14.898720",
     "status": "completed"
    },
    "tags": []
   },
   "source": [
    "## IMDB dataset"
   ]
  },
  {
   "cell_type": "code",
   "execution_count": 27,
   "id": "7d2cc45e",
   "metadata": {
    "execution": {
     "iopub.execute_input": "2021-12-16T18:21:16.493932Z",
     "iopub.status.busy": "2021-12-16T18:21:16.493246Z",
     "iopub.status.idle": "2021-12-16T18:21:18.607884Z",
     "shell.execute_reply": "2021-12-16T18:21:18.608379Z",
     "shell.execute_reply.started": "2021-12-16T18:11:06.819928Z"
    },
    "papermill": {
     "duration": 2.648612,
     "end_time": "2021-12-16T18:21:18.608554",
     "exception": false,
     "start_time": "2021-12-16T18:21:15.959942",
     "status": "completed"
    },
    "tags": []
   },
   "outputs": [
    {
     "data": {
      "text/html": [
       "<div>\n",
       "<style scoped>\n",
       "    .dataframe tbody tr th:only-of-type {\n",
       "        vertical-align: middle;\n",
       "    }\n",
       "\n",
       "    .dataframe tbody tr th {\n",
       "        vertical-align: top;\n",
       "    }\n",
       "\n",
       "    .dataframe thead th {\n",
       "        text-align: right;\n",
       "    }\n",
       "</style>\n",
       "<table border=\"1\" class=\"dataframe\">\n",
       "  <thead>\n",
       "    <tr style=\"text-align: right;\">\n",
       "      <th></th>\n",
       "      <th>title</th>\n",
       "      <th>genres</th>\n",
       "    </tr>\n",
       "  </thead>\n",
       "  <tbody>\n",
       "    <tr>\n",
       "      <th>0</th>\n",
       "      <td>Carmencita</td>\n",
       "      <td>Documentary,Short</td>\n",
       "    </tr>\n",
       "    <tr>\n",
       "      <th>1</th>\n",
       "      <td>The Clown and His Dogs</td>\n",
       "      <td>Animation,Short</td>\n",
       "    </tr>\n",
       "    <tr>\n",
       "      <th>2</th>\n",
       "      <td>Blacksmithing Scene</td>\n",
       "      <td>Comedy,Short</td>\n",
       "    </tr>\n",
       "    <tr>\n",
       "      <th>3</th>\n",
       "      <td>Chinese Opium Den</td>\n",
       "      <td>Short</td>\n",
       "    </tr>\n",
       "    <tr>\n",
       "      <th>4</th>\n",
       "      <td>Corbett and Courtney Before the Kinetograph</td>\n",
       "      <td>Short,Sport</td>\n",
       "    </tr>\n",
       "    <tr>\n",
       "      <th>...</th>\n",
       "      <td>...</td>\n",
       "      <td>...</td>\n",
       "    </tr>\n",
       "    <tr>\n",
       "      <th>1200371</th>\n",
       "      <td>The Copeland Case</td>\n",
       "      <td>Drama</td>\n",
       "    </tr>\n",
       "    <tr>\n",
       "      <th>1200372</th>\n",
       "      <td>Loving London: The Playground</td>\n",
       "      <td>Drama,Short</td>\n",
       "    </tr>\n",
       "    <tr>\n",
       "      <th>1200373</th>\n",
       "      <td>The Demonic Nun</td>\n",
       "      <td>Comedy,Horror,Mystery</td>\n",
       "    </tr>\n",
       "    <tr>\n",
       "      <th>1200374</th>\n",
       "      <td>Pretty Pretty Black Girl</td>\n",
       "      <td>Short</td>\n",
       "    </tr>\n",
       "    <tr>\n",
       "      <th>1200375</th>\n",
       "      <td>38</td>\n",
       "      <td>Short</td>\n",
       "    </tr>\n",
       "  </tbody>\n",
       "</table>\n",
       "<p>1200376 rows × 2 columns</p>\n",
       "</div>"
      ],
      "text/plain": [
       "                                               title                 genres\n",
       "0                                         Carmencita      Documentary,Short\n",
       "1                             The Clown and His Dogs        Animation,Short\n",
       "2                                Blacksmithing Scene           Comedy,Short\n",
       "3                                  Chinese Opium Den                  Short\n",
       "4        Corbett and Courtney Before the Kinetograph            Short,Sport\n",
       "...                                              ...                    ...\n",
       "1200371                            The Copeland Case                  Drama\n",
       "1200372                Loving London: The Playground            Drama,Short\n",
       "1200373                              The Demonic Nun  Comedy,Horror,Mystery\n",
       "1200374                     Pretty Pretty Black Girl                  Short\n",
       "1200375                                           38                  Short\n",
       "\n",
       "[1200376 rows x 2 columns]"
      ]
     },
     "execution_count": 27,
     "metadata": {},
     "output_type": "execute_result"
    }
   ],
   "source": [
    "df_imdb = pd.read_csv('../input/imdb-movies-genres/imdb_dataset.csv',usecols=['title','genres'])\n",
    "df_imdb"
   ]
  },
  {
   "cell_type": "code",
   "execution_count": null,
   "id": "6c2d4e10",
   "metadata": {
    "papermill": {
     "duration": 0.526154,
     "end_time": "2021-12-16T18:21:19.658615",
     "exception": false,
     "start_time": "2021-12-16T18:21:19.132461",
     "status": "completed"
    },
    "tags": []
   },
   "outputs": [],
   "source": []
  }
 ],
 "metadata": {
  "kernelspec": {
   "display_name": "Python 3",
   "language": "python",
   "name": "python3"
  },
  "language_info": {
   "codemirror_mode": {
    "name": "ipython",
    "version": 3
   },
   "file_extension": ".py",
   "mimetype": "text/x-python",
   "name": "python",
   "nbconvert_exporter": "python",
   "pygments_lexer": "ipython3",
   "version": "3.7.12"
  },
  "papermill": {
   "default_parameters": {},
   "duration": 242.728664,
   "end_time": "2021-12-16T18:21:23.602260",
   "environment_variables": {},
   "exception": null,
   "input_path": "__notebook__.ipynb",
   "output_path": "__notebook__.ipynb",
   "parameters": {},
   "start_time": "2021-12-16T18:17:20.873596",
   "version": "2.3.3"
  }
 },
 "nbformat": 4,
 "nbformat_minor": 5
}
