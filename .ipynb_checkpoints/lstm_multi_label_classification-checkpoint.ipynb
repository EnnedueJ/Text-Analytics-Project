{
 "cells": [
  {
   "cell_type": "code",
   "execution_count": 1,
   "id": "1ad315b0",
   "metadata": {
    "_cell_guid": "b1076dfc-b9ad-4769-8c92-a6c4dae69d19",
    "_uuid": "8f2839f25d086af736a60e9eeb907d3b93b6e0e5",
    "execution": {
     "iopub.execute_input": "2022-01-04T21:11:32.685444Z",
     "iopub.status.busy": "2022-01-04T21:11:32.684655Z",
     "iopub.status.idle": "2022-01-04T21:11:38.722271Z",
     "shell.execute_reply": "2022-01-04T21:11:38.721568Z",
     "shell.execute_reply.started": "2022-01-04T20:48:28.871524Z"
    },
    "papermill": {
     "duration": 6.077943,
     "end_time": "2022-01-04T21:11:38.722505",
     "exception": false,
     "start_time": "2022-01-04T21:11:32.644562",
     "status": "completed"
    },
    "tags": []
   },
   "outputs": [
    {
     "name": "stdout",
     "output_type": "stream",
     "text": [
      "1 Physical GPUs, 1 Logical GPU\n"
     ]
    },
    {
     "name": "stderr",
     "output_type": "stream",
     "text": [
      "2022-01-04 21:11:36.796072: I tensorflow/stream_executor/cuda/cuda_gpu_executor.cc:937] successful NUMA node read from SysFS had negative value (-1), but there must be at least one NUMA node, so returning NUMA node zero\n",
      "2022-01-04 21:11:36.886434: I tensorflow/stream_executor/cuda/cuda_gpu_executor.cc:937] successful NUMA node read from SysFS had negative value (-1), but there must be at least one NUMA node, so returning NUMA node zero\n",
      "2022-01-04 21:11:36.887141: I tensorflow/stream_executor/cuda/cuda_gpu_executor.cc:937] successful NUMA node read from SysFS had negative value (-1), but there must be at least one NUMA node, so returning NUMA node zero\n",
      "2022-01-04 21:11:36.889922: I tensorflow/core/platform/cpu_feature_guard.cc:142] This TensorFlow binary is optimized with oneAPI Deep Neural Network Library (oneDNN) to use the following CPU instructions in performance-critical operations:  AVX2 AVX512F FMA\n",
      "To enable them in other operations, rebuild TensorFlow with the appropriate compiler flags.\n",
      "2022-01-04 21:11:36.891116: I tensorflow/stream_executor/cuda/cuda_gpu_executor.cc:937] successful NUMA node read from SysFS had negative value (-1), but there must be at least one NUMA node, so returning NUMA node zero\n",
      "2022-01-04 21:11:36.891790: I tensorflow/stream_executor/cuda/cuda_gpu_executor.cc:937] successful NUMA node read from SysFS had negative value (-1), but there must be at least one NUMA node, so returning NUMA node zero\n",
      "2022-01-04 21:11:36.892412: I tensorflow/stream_executor/cuda/cuda_gpu_executor.cc:937] successful NUMA node read from SysFS had negative value (-1), but there must be at least one NUMA node, so returning NUMA node zero\n",
      "2022-01-04 21:11:38.705862: I tensorflow/stream_executor/cuda/cuda_gpu_executor.cc:937] successful NUMA node read from SysFS had negative value (-1), but there must be at least one NUMA node, so returning NUMA node zero\n",
      "2022-01-04 21:11:38.706652: I tensorflow/stream_executor/cuda/cuda_gpu_executor.cc:937] successful NUMA node read from SysFS had negative value (-1), but there must be at least one NUMA node, so returning NUMA node zero\n",
      "2022-01-04 21:11:38.707276: I tensorflow/stream_executor/cuda/cuda_gpu_executor.cc:937] successful NUMA node read from SysFS had negative value (-1), but there must be at least one NUMA node, so returning NUMA node zero\n",
      "2022-01-04 21:11:38.707898: I tensorflow/core/common_runtime/gpu/gpu_device.cc:1510] Created device /job:localhost/replica:0/task:0/device:GPU:0 with 15403 MB memory:  -> device: 0, name: Tesla P100-PCIE-16GB, pci bus id: 0000:00:04.0, compute capability: 6.0\n"
     ]
    }
   ],
   "source": [
    "import numpy as np\n",
    "import tensorflow as tf\n",
    "\n",
    "from tensorflow.python.client import device_lib\n",
    "\n",
    "gpus = tf.config.list_physical_devices('GPU')\n",
    "if gpus:\n",
    "  # Restrict TensorFlow to only use the first GPU\n",
    "  try:\n",
    "    tf.config.set_visible_devices(gpus[0], 'GPU')\n",
    "    logical_gpus = tf.config.list_logical_devices('GPU')\n",
    "    print(len(gpus), \"Physical GPUs,\", len(logical_gpus), \"Logical GPU\")\n",
    "  except RuntimeError as e:\n",
    "    # Visible devices must be set before GPUs have been initialized\n",
    "    print(e)"
   ]
  },
  {
   "cell_type": "code",
   "execution_count": 2,
   "id": "872cc14a",
   "metadata": {
    "execution": {
     "iopub.execute_input": "2022-01-04T21:11:38.782265Z",
     "iopub.status.busy": "2022-01-04T21:11:38.781666Z",
     "iopub.status.idle": "2022-01-04T21:11:39.320239Z",
     "shell.execute_reply": "2022-01-04T21:11:39.319807Z",
     "shell.execute_reply.started": "2022-01-04T20:48:29.146695Z"
    },
    "papermill": {
     "duration": 0.569455,
     "end_time": "2022-01-04T21:11:39.320387",
     "exception": false,
     "start_time": "2022-01-04T21:11:38.750932",
     "status": "completed"
    },
    "tags": []
   },
   "outputs": [
    {
     "data": {
      "text/plain": [
       "(33812, 3)"
      ]
     },
     "execution_count": 2,
     "metadata": {},
     "output_type": "execute_result"
    }
   ],
   "source": [
    "import pandas as pd\n",
    "\n",
    "df = pd.read_csv('../input/movies-yts/movie_plots_yts.csv',index_col=0)\n",
    "#df = pd.read_csv('../input/multilabel-movies-df/Multilabel_movies_df.csv',index_col=0)\n",
    "df.shape"
   ]
  },
  {
   "cell_type": "code",
   "execution_count": 3,
   "id": "b3cf8e47",
   "metadata": {
    "execution": {
     "iopub.execute_input": "2022-01-04T21:11:39.377154Z",
     "iopub.status.busy": "2022-01-04T21:11:39.376398Z",
     "iopub.status.idle": "2022-01-04T21:11:39.390167Z",
     "shell.execute_reply": "2022-01-04T21:11:39.389717Z",
     "shell.execute_reply.started": "2022-01-04T20:48:29.373887Z"
    },
    "papermill": {
     "duration": 0.042756,
     "end_time": "2022-01-04T21:11:39.390268",
     "exception": false,
     "start_time": "2022-01-04T21:11:39.347512",
     "status": "completed"
    },
    "tags": []
   },
   "outputs": [
    {
     "data": {
      "text/html": [
       "<div>\n",
       "<style scoped>\n",
       "    .dataframe tbody tr th:only-of-type {\n",
       "        vertical-align: middle;\n",
       "    }\n",
       "\n",
       "    .dataframe tbody tr th {\n",
       "        vertical-align: top;\n",
       "    }\n",
       "\n",
       "    .dataframe thead th {\n",
       "        text-align: right;\n",
       "    }\n",
       "</style>\n",
       "<table border=\"1\" class=\"dataframe\">\n",
       "  <thead>\n",
       "    <tr style=\"text-align: right;\">\n",
       "      <th></th>\n",
       "      <th>Title</th>\n",
       "      <th>Plot</th>\n",
       "      <th>Genres</th>\n",
       "    </tr>\n",
       "  </thead>\n",
       "  <tbody>\n",
       "    <tr>\n",
       "      <th>0</th>\n",
       "      <td>Who is Amos Otis?</td>\n",
       "      <td>After assassinating the President, Amos Otis p...</td>\n",
       "      <td>Drama</td>\n",
       "    </tr>\n",
       "    <tr>\n",
       "      <th>1</th>\n",
       "      <td>Wheel of Time</td>\n",
       "      <td>Wheel of Time is Werner Herzog's photographed ...</td>\n",
       "      <td>Documentary</td>\n",
       "    </tr>\n",
       "    <tr>\n",
       "      <th>3</th>\n",
       "      <td>'B' Girl Rhapsody</td>\n",
       "      <td>Burlesque beauties performing their signature ...</td>\n",
       "      <td>Drama</td>\n",
       "    </tr>\n",
       "    <tr>\n",
       "      <th>5</th>\n",
       "      <td>The Brass Bottle</td>\n",
       "      <td>After being released from his bottle by Harold...</td>\n",
       "      <td>Comedy, Fantasy</td>\n",
       "    </tr>\n",
       "    <tr>\n",
       "      <th>6</th>\n",
       "      <td>The Morning After</td>\n",
       "      <td>The Morning After is a feature film that consi...</td>\n",
       "      <td>Comedy, Drama</td>\n",
       "    </tr>\n",
       "    <tr>\n",
       "      <th>...</th>\n",
       "      <td>...</td>\n",
       "      <td>...</td>\n",
       "      <td>...</td>\n",
       "    </tr>\n",
       "    <tr>\n",
       "      <th>38044</th>\n",
       "      <td>100 Bloody Acres</td>\n",
       "      <td>The use of dead car crash victims in the Morga...</td>\n",
       "      <td>Action, Comedy, Horror</td>\n",
       "    </tr>\n",
       "    <tr>\n",
       "      <th>38045</th>\n",
       "      <td>10 Years</td>\n",
       "      <td>The night of their high school reunion, a grou...</td>\n",
       "      <td>Action, Comedy, Drama, Romance</td>\n",
       "    </tr>\n",
       "    <tr>\n",
       "      <th>38046</th>\n",
       "      <td>10 Things I Hate About You</td>\n",
       "      <td>Adapted from William Shakespeare's play \"The T...</td>\n",
       "      <td>Action, Comedy, Drama, Romance</td>\n",
       "    </tr>\n",
       "    <tr>\n",
       "      <th>38047</th>\n",
       "      <td>+1</td>\n",
       "      <td>Three college friends hit the biggest party of...</td>\n",
       "      <td>Action, Horror, Romance, Sci-Fi, Thriller</td>\n",
       "    </tr>\n",
       "    <tr>\n",
       "      <th>38048</th>\n",
       "      <td>Bikini Model Academy</td>\n",
       "      <td>When T. J. and Benji, two California twenty-so...</td>\n",
       "      <td>Action, Comedy</td>\n",
       "    </tr>\n",
       "  </tbody>\n",
       "</table>\n",
       "<p>33812 rows × 3 columns</p>\n",
       "</div>"
      ],
      "text/plain": [
       "                            Title  \\\n",
       "0               Who is Amos Otis?   \n",
       "1                   Wheel of Time   \n",
       "3               'B' Girl Rhapsody   \n",
       "5                The Brass Bottle   \n",
       "6               The Morning After   \n",
       "...                           ...   \n",
       "38044            100 Bloody Acres   \n",
       "38045                    10 Years   \n",
       "38046  10 Things I Hate About You   \n",
       "38047                          +1   \n",
       "38048        Bikini Model Academy   \n",
       "\n",
       "                                                    Plot  \\\n",
       "0      After assassinating the President, Amos Otis p...   \n",
       "1      Wheel of Time is Werner Herzog's photographed ...   \n",
       "3      Burlesque beauties performing their signature ...   \n",
       "5      After being released from his bottle by Harold...   \n",
       "6      The Morning After is a feature film that consi...   \n",
       "...                                                  ...   \n",
       "38044  The use of dead car crash victims in the Morga...   \n",
       "38045  The night of their high school reunion, a grou...   \n",
       "38046  Adapted from William Shakespeare's play \"The T...   \n",
       "38047  Three college friends hit the biggest party of...   \n",
       "38048  When T. J. and Benji, two California twenty-so...   \n",
       "\n",
       "                                          Genres  \n",
       "0                                          Drama  \n",
       "1                                    Documentary  \n",
       "3                                          Drama  \n",
       "5                                Comedy, Fantasy  \n",
       "6                                  Comedy, Drama  \n",
       "...                                          ...  \n",
       "38044                     Action, Comedy, Horror  \n",
       "38045             Action, Comedy, Drama, Romance  \n",
       "38046             Action, Comedy, Drama, Romance  \n",
       "38047  Action, Horror, Romance, Sci-Fi, Thriller  \n",
       "38048                             Action, Comedy  \n",
       "\n",
       "[33812 rows x 3 columns]"
      ]
     },
     "execution_count": 3,
     "metadata": {},
     "output_type": "execute_result"
    }
   ],
   "source": [
    "df"
   ]
  },
  {
   "cell_type": "code",
   "execution_count": 4,
   "id": "66a645bc",
   "metadata": {
    "execution": {
     "iopub.execute_input": "2022-01-04T21:11:39.466769Z",
     "iopub.status.busy": "2022-01-04T21:11:39.462107Z",
     "iopub.status.idle": "2022-01-04T21:11:39.485666Z",
     "shell.execute_reply": "2022-01-04T21:11:39.485223Z",
     "shell.execute_reply.started": "2022-01-04T20:48:29.480992Z"
    },
    "papermill": {
     "duration": 0.06836,
     "end_time": "2022-01-04T21:11:39.485779",
     "exception": false,
     "start_time": "2022-01-04T21:11:39.417419",
     "status": "completed"
    },
    "tags": []
   },
   "outputs": [
    {
     "data": {
      "text/plain": [
       "{'Action',\n",
       " 'Adventure',\n",
       " 'Animation',\n",
       " 'Biography',\n",
       " 'Comedy',\n",
       " 'Crime',\n",
       " 'Documentary',\n",
       " 'Drama',\n",
       " 'Family',\n",
       " 'Fantasy',\n",
       " 'Film-Noir',\n",
       " 'History',\n",
       " 'Horror',\n",
       " 'Music',\n",
       " 'Musical',\n",
       " 'Romance',\n",
       " 'Sci-Fi',\n",
       " 'Sport',\n",
       " 'Thriller',\n",
       " 'War',\n",
       " 'Western'}"
      ]
     },
     "execution_count": 4,
     "metadata": {},
     "output_type": "execute_result"
    }
   ],
   "source": [
    "set([g.strip() for row in df.Genres for g in row.split(\",\")])"
   ]
  },
  {
   "cell_type": "code",
   "execution_count": 5,
   "id": "afdf1971",
   "metadata": {
    "execution": {
     "iopub.execute_input": "2022-01-04T21:11:39.547879Z",
     "iopub.status.busy": "2022-01-04T21:11:39.547096Z",
     "iopub.status.idle": "2022-01-04T21:11:39.549393Z",
     "shell.execute_reply": "2022-01-04T21:11:39.549775Z",
     "shell.execute_reply.started": "2022-01-04T20:48:30.164934Z"
    },
    "papermill": {
     "duration": 0.035648,
     "end_time": "2022-01-04T21:11:39.549904",
     "exception": false,
     "start_time": "2022-01-04T21:11:39.514256",
     "status": "completed"
    },
    "tags": []
   },
   "outputs": [],
   "source": [
    "def prep_genre(genre):\n",
    "    \n",
    "    dict_genres = {\n",
    "        \"Musical\":\"Music\",\n",
    "        \"Crime\":\"Thriller\",\n",
    "        \"Film-Noir\":\"Thriller\",\n",
    "        \"Biography\":\"Documentary\",\n",
    "        \"Sci-Fi\":\"Sci-Fi & Fantasy\",\n",
    "        \"Fantasy\":\"Sci-Fi & Fantasy\",\n",
    "        \"Action\":\"Action & Adventure\",\n",
    "        \"Adventure\":\"Action & Adventure\"\n",
    "    }\n",
    "        \n",
    "    genre = genre.replace(\" \",\"\")\n",
    "    \n",
    "    if len(genre.split(\",\")) > 0:\n",
    "        genres = genre.split(\",\")\n",
    "        genres = \",\".join(list(set([ dict_genres[genre] if genre in dict_genres.keys() else genre for genre in genres ])))\n",
    "        \n",
    "    return genres\n",
    "    "
   ]
  },
  {
   "cell_type": "code",
   "execution_count": 6,
   "id": "d6f00a98",
   "metadata": {
    "execution": {
     "iopub.execute_input": "2022-01-04T21:11:39.610758Z",
     "iopub.status.busy": "2022-01-04T21:11:39.609886Z",
     "iopub.status.idle": "2022-01-04T21:11:39.612970Z",
     "shell.execute_reply": "2022-01-04T21:11:39.613410Z",
     "shell.execute_reply.started": "2022-01-04T20:48:30.974150Z"
    },
    "papermill": {
     "duration": 0.035812,
     "end_time": "2022-01-04T21:11:39.613530",
     "exception": false,
     "start_time": "2022-01-04T21:11:39.577718",
     "status": "completed"
    },
    "tags": []
   },
   "outputs": [
    {
     "data": {
      "text/plain": [
       "'Thriller,Comedy,Action & Adventure'"
      ]
     },
     "execution_count": 6,
     "metadata": {},
     "output_type": "execute_result"
    }
   ],
   "source": [
    "prep_genre(\"Action, Comedy, Thriller, Film-Noir\")"
   ]
  },
  {
   "cell_type": "code",
   "execution_count": 7,
   "id": "80a5022b",
   "metadata": {
    "execution": {
     "iopub.execute_input": "2022-01-04T21:11:39.703459Z",
     "iopub.status.busy": "2022-01-04T21:11:39.694059Z",
     "iopub.status.idle": "2022-01-04T21:11:39.777954Z",
     "shell.execute_reply": "2022-01-04T21:11:39.777542Z",
     "shell.execute_reply.started": "2022-01-04T20:48:31.121852Z"
    },
    "papermill": {
     "duration": 0.13594,
     "end_time": "2022-01-04T21:11:39.778061",
     "exception": false,
     "start_time": "2022-01-04T21:11:39.642121",
     "status": "completed"
    },
    "tags": []
   },
   "outputs": [],
   "source": [
    "df['Genres'] = df['Genres'].apply(prep_genre)"
   ]
  },
  {
   "cell_type": "code",
   "execution_count": 8,
   "id": "75769a0e",
   "metadata": {
    "execution": {
     "iopub.execute_input": "2022-01-04T21:11:39.855489Z",
     "iopub.status.busy": "2022-01-04T21:11:39.845156Z",
     "iopub.status.idle": "2022-01-04T21:11:39.869630Z",
     "shell.execute_reply": "2022-01-04T21:11:39.869997Z",
     "shell.execute_reply.started": "2022-01-04T20:48:31.282156Z"
    },
    "papermill": {
     "duration": 0.064734,
     "end_time": "2022-01-04T21:11:39.870119",
     "exception": false,
     "start_time": "2022-01-04T21:11:39.805385",
     "status": "completed"
    },
    "tags": []
   },
   "outputs": [
    {
     "data": {
      "text/plain": [
       "{'Action & Adventure',\n",
       " 'Animation',\n",
       " 'Comedy',\n",
       " 'Documentary',\n",
       " 'Drama',\n",
       " 'Family',\n",
       " 'History',\n",
       " 'Horror',\n",
       " 'Music',\n",
       " 'Romance',\n",
       " 'Sci-Fi & Fantasy',\n",
       " 'Sport',\n",
       " 'Thriller',\n",
       " 'War',\n",
       " 'Western'}"
      ]
     },
     "execution_count": 8,
     "metadata": {},
     "output_type": "execute_result"
    }
   ],
   "source": [
    "set([g.strip() for row in df.Genres for g in row.split(\",\")])"
   ]
  },
  {
   "cell_type": "code",
   "execution_count": 9,
   "id": "02a6d64f",
   "metadata": {
    "execution": {
     "iopub.execute_input": "2022-01-04T21:11:39.977012Z",
     "iopub.status.busy": "2022-01-04T21:11:39.971818Z",
     "iopub.status.idle": "2022-01-04T21:11:40.280458Z",
     "shell.execute_reply": "2022-01-04T21:11:40.279955Z",
     "shell.execute_reply.started": "2022-01-04T20:48:31.849179Z"
    },
    "papermill": {
     "duration": 0.382944,
     "end_time": "2022-01-04T21:11:40.280600",
     "exception": false,
     "start_time": "2022-01-04T21:11:39.897656",
     "status": "completed"
    },
    "tags": []
   },
   "outputs": [],
   "source": [
    "dummy_genres = df['Genres'].str.join(sep='').str.get_dummies(sep=',')\n",
    "df = df.join(dummy_genres)"
   ]
  },
  {
   "cell_type": "code",
   "execution_count": 10,
   "id": "7d1d5d7a",
   "metadata": {
    "execution": {
     "iopub.execute_input": "2022-01-04T21:11:40.350835Z",
     "iopub.status.busy": "2022-01-04T21:11:40.350004Z",
     "iopub.status.idle": "2022-01-04T21:11:40.353085Z",
     "shell.execute_reply": "2022-01-04T21:11:40.353527Z",
     "shell.execute_reply.started": "2022-01-04T20:48:32.083000Z"
    },
    "papermill": {
     "duration": 0.044991,
     "end_time": "2022-01-04T21:11:40.353657",
     "exception": false,
     "start_time": "2022-01-04T21:11:40.308666",
     "status": "completed"
    },
    "tags": []
   },
   "outputs": [
    {
     "data": {
      "text/html": [
       "<div>\n",
       "<style scoped>\n",
       "    .dataframe tbody tr th:only-of-type {\n",
       "        vertical-align: middle;\n",
       "    }\n",
       "\n",
       "    .dataframe tbody tr th {\n",
       "        vertical-align: top;\n",
       "    }\n",
       "\n",
       "    .dataframe thead th {\n",
       "        text-align: right;\n",
       "    }\n",
       "</style>\n",
       "<table border=\"1\" class=\"dataframe\">\n",
       "  <thead>\n",
       "    <tr style=\"text-align: right;\">\n",
       "      <th></th>\n",
       "      <th>Action &amp; Adventure</th>\n",
       "      <th>Animation</th>\n",
       "      <th>Comedy</th>\n",
       "      <th>Documentary</th>\n",
       "      <th>Drama</th>\n",
       "      <th>Family</th>\n",
       "      <th>History</th>\n",
       "      <th>Horror</th>\n",
       "      <th>Music</th>\n",
       "      <th>Romance</th>\n",
       "      <th>Sci-Fi &amp; Fantasy</th>\n",
       "      <th>Sport</th>\n",
       "      <th>Thriller</th>\n",
       "      <th>War</th>\n",
       "      <th>Western</th>\n",
       "    </tr>\n",
       "  </thead>\n",
       "  <tbody>\n",
       "    <tr>\n",
       "      <th>0</th>\n",
       "      <td>0</td>\n",
       "      <td>0</td>\n",
       "      <td>0</td>\n",
       "      <td>0</td>\n",
       "      <td>1</td>\n",
       "      <td>0</td>\n",
       "      <td>0</td>\n",
       "      <td>0</td>\n",
       "      <td>0</td>\n",
       "      <td>0</td>\n",
       "      <td>0</td>\n",
       "      <td>0</td>\n",
       "      <td>0</td>\n",
       "      <td>0</td>\n",
       "      <td>0</td>\n",
       "    </tr>\n",
       "    <tr>\n",
       "      <th>1</th>\n",
       "      <td>0</td>\n",
       "      <td>0</td>\n",
       "      <td>0</td>\n",
       "      <td>1</td>\n",
       "      <td>0</td>\n",
       "      <td>0</td>\n",
       "      <td>0</td>\n",
       "      <td>0</td>\n",
       "      <td>0</td>\n",
       "      <td>0</td>\n",
       "      <td>0</td>\n",
       "      <td>0</td>\n",
       "      <td>0</td>\n",
       "      <td>0</td>\n",
       "      <td>0</td>\n",
       "    </tr>\n",
       "    <tr>\n",
       "      <th>3</th>\n",
       "      <td>0</td>\n",
       "      <td>0</td>\n",
       "      <td>0</td>\n",
       "      <td>0</td>\n",
       "      <td>1</td>\n",
       "      <td>0</td>\n",
       "      <td>0</td>\n",
       "      <td>0</td>\n",
       "      <td>0</td>\n",
       "      <td>0</td>\n",
       "      <td>0</td>\n",
       "      <td>0</td>\n",
       "      <td>0</td>\n",
       "      <td>0</td>\n",
       "      <td>0</td>\n",
       "    </tr>\n",
       "    <tr>\n",
       "      <th>5</th>\n",
       "      <td>0</td>\n",
       "      <td>0</td>\n",
       "      <td>1</td>\n",
       "      <td>0</td>\n",
       "      <td>0</td>\n",
       "      <td>0</td>\n",
       "      <td>0</td>\n",
       "      <td>0</td>\n",
       "      <td>0</td>\n",
       "      <td>0</td>\n",
       "      <td>1</td>\n",
       "      <td>0</td>\n",
       "      <td>0</td>\n",
       "      <td>0</td>\n",
       "      <td>0</td>\n",
       "    </tr>\n",
       "    <tr>\n",
       "      <th>6</th>\n",
       "      <td>0</td>\n",
       "      <td>0</td>\n",
       "      <td>1</td>\n",
       "      <td>0</td>\n",
       "      <td>1</td>\n",
       "      <td>0</td>\n",
       "      <td>0</td>\n",
       "      <td>0</td>\n",
       "      <td>0</td>\n",
       "      <td>0</td>\n",
       "      <td>0</td>\n",
       "      <td>0</td>\n",
       "      <td>0</td>\n",
       "      <td>0</td>\n",
       "      <td>0</td>\n",
       "    </tr>\n",
       "    <tr>\n",
       "      <th>...</th>\n",
       "      <td>...</td>\n",
       "      <td>...</td>\n",
       "      <td>...</td>\n",
       "      <td>...</td>\n",
       "      <td>...</td>\n",
       "      <td>...</td>\n",
       "      <td>...</td>\n",
       "      <td>...</td>\n",
       "      <td>...</td>\n",
       "      <td>...</td>\n",
       "      <td>...</td>\n",
       "      <td>...</td>\n",
       "      <td>...</td>\n",
       "      <td>...</td>\n",
       "      <td>...</td>\n",
       "    </tr>\n",
       "    <tr>\n",
       "      <th>38044</th>\n",
       "      <td>1</td>\n",
       "      <td>0</td>\n",
       "      <td>1</td>\n",
       "      <td>0</td>\n",
       "      <td>0</td>\n",
       "      <td>0</td>\n",
       "      <td>0</td>\n",
       "      <td>1</td>\n",
       "      <td>0</td>\n",
       "      <td>0</td>\n",
       "      <td>0</td>\n",
       "      <td>0</td>\n",
       "      <td>0</td>\n",
       "      <td>0</td>\n",
       "      <td>0</td>\n",
       "    </tr>\n",
       "    <tr>\n",
       "      <th>38045</th>\n",
       "      <td>1</td>\n",
       "      <td>0</td>\n",
       "      <td>1</td>\n",
       "      <td>0</td>\n",
       "      <td>1</td>\n",
       "      <td>0</td>\n",
       "      <td>0</td>\n",
       "      <td>0</td>\n",
       "      <td>0</td>\n",
       "      <td>1</td>\n",
       "      <td>0</td>\n",
       "      <td>0</td>\n",
       "      <td>0</td>\n",
       "      <td>0</td>\n",
       "      <td>0</td>\n",
       "    </tr>\n",
       "    <tr>\n",
       "      <th>38046</th>\n",
       "      <td>1</td>\n",
       "      <td>0</td>\n",
       "      <td>1</td>\n",
       "      <td>0</td>\n",
       "      <td>1</td>\n",
       "      <td>0</td>\n",
       "      <td>0</td>\n",
       "      <td>0</td>\n",
       "      <td>0</td>\n",
       "      <td>1</td>\n",
       "      <td>0</td>\n",
       "      <td>0</td>\n",
       "      <td>0</td>\n",
       "      <td>0</td>\n",
       "      <td>0</td>\n",
       "    </tr>\n",
       "    <tr>\n",
       "      <th>38047</th>\n",
       "      <td>1</td>\n",
       "      <td>0</td>\n",
       "      <td>0</td>\n",
       "      <td>0</td>\n",
       "      <td>0</td>\n",
       "      <td>0</td>\n",
       "      <td>0</td>\n",
       "      <td>1</td>\n",
       "      <td>0</td>\n",
       "      <td>1</td>\n",
       "      <td>1</td>\n",
       "      <td>0</td>\n",
       "      <td>1</td>\n",
       "      <td>0</td>\n",
       "      <td>0</td>\n",
       "    </tr>\n",
       "    <tr>\n",
       "      <th>38048</th>\n",
       "      <td>1</td>\n",
       "      <td>0</td>\n",
       "      <td>1</td>\n",
       "      <td>0</td>\n",
       "      <td>0</td>\n",
       "      <td>0</td>\n",
       "      <td>0</td>\n",
       "      <td>0</td>\n",
       "      <td>0</td>\n",
       "      <td>0</td>\n",
       "      <td>0</td>\n",
       "      <td>0</td>\n",
       "      <td>0</td>\n",
       "      <td>0</td>\n",
       "      <td>0</td>\n",
       "    </tr>\n",
       "  </tbody>\n",
       "</table>\n",
       "<p>33812 rows × 15 columns</p>\n",
       "</div>"
      ],
      "text/plain": [
       "       Action & Adventure  Animation  Comedy  Documentary  Drama  Family  \\\n",
       "0                       0          0       0            0      1       0   \n",
       "1                       0          0       0            1      0       0   \n",
       "3                       0          0       0            0      1       0   \n",
       "5                       0          0       1            0      0       0   \n",
       "6                       0          0       1            0      1       0   \n",
       "...                   ...        ...     ...          ...    ...     ...   \n",
       "38044                   1          0       1            0      0       0   \n",
       "38045                   1          0       1            0      1       0   \n",
       "38046                   1          0       1            0      1       0   \n",
       "38047                   1          0       0            0      0       0   \n",
       "38048                   1          0       1            0      0       0   \n",
       "\n",
       "       History  Horror  Music  Romance  Sci-Fi & Fantasy  Sport  Thriller  \\\n",
       "0            0       0      0        0                 0      0         0   \n",
       "1            0       0      0        0                 0      0         0   \n",
       "3            0       0      0        0                 0      0         0   \n",
       "5            0       0      0        0                 1      0         0   \n",
       "6            0       0      0        0                 0      0         0   \n",
       "...        ...     ...    ...      ...               ...    ...       ...   \n",
       "38044        0       1      0        0                 0      0         0   \n",
       "38045        0       0      0        1                 0      0         0   \n",
       "38046        0       0      0        1                 0      0         0   \n",
       "38047        0       1      0        1                 1      0         1   \n",
       "38048        0       0      0        0                 0      0         0   \n",
       "\n",
       "       War  Western  \n",
       "0        0        0  \n",
       "1        0        0  \n",
       "3        0        0  \n",
       "5        0        0  \n",
       "6        0        0  \n",
       "...    ...      ...  \n",
       "38044    0        0  \n",
       "38045    0        0  \n",
       "38046    0        0  \n",
       "38047    0        0  \n",
       "38048    0        0  \n",
       "\n",
       "[33812 rows x 15 columns]"
      ]
     },
     "execution_count": 10,
     "metadata": {},
     "output_type": "execute_result"
    }
   ],
   "source": [
    "dummy_genres"
   ]
  },
  {
   "cell_type": "code",
   "execution_count": 11,
   "id": "339909d2",
   "metadata": {
    "execution": {
     "iopub.execute_input": "2022-01-04T21:11:40.414958Z",
     "iopub.status.busy": "2022-01-04T21:11:40.414290Z",
     "iopub.status.idle": "2022-01-04T21:11:40.416778Z",
     "shell.execute_reply": "2022-01-04T21:11:40.417260Z",
     "shell.execute_reply.started": "2022-01-04T20:48:32.393912Z"
    },
    "papermill": {
     "duration": 0.035528,
     "end_time": "2022-01-04T21:11:40.417415",
     "exception": false,
     "start_time": "2022-01-04T21:11:40.381887",
     "status": "completed"
    },
    "tags": []
   },
   "outputs": [
    {
     "data": {
      "text/plain": [
       "Index(['Title', 'Plot', 'Genres', 'Action & Adventure', 'Animation', 'Comedy',\n",
       "       'Documentary', 'Drama', 'Family', 'History', 'Horror', 'Music',\n",
       "       'Romance', 'Sci-Fi & Fantasy', 'Sport', 'Thriller', 'War', 'Western'],\n",
       "      dtype='object')"
      ]
     },
     "execution_count": 11,
     "metadata": {},
     "output_type": "execute_result"
    }
   ],
   "source": [
    "df.columns"
   ]
  },
  {
   "cell_type": "markdown",
   "id": "02cb4578",
   "metadata": {
    "papermill": {
     "duration": 0.028284,
     "end_time": "2022-01-04T21:11:40.474092",
     "exception": false,
     "start_time": "2022-01-04T21:11:40.445808",
     "status": "completed"
    },
    "tags": []
   },
   "source": [
    "# Tokenization"
   ]
  },
  {
   "cell_type": "code",
   "execution_count": 12,
   "id": "dd6d1d0b",
   "metadata": {
    "execution": {
     "iopub.execute_input": "2022-01-04T21:11:40.537100Z",
     "iopub.status.busy": "2022-01-04T21:11:40.536451Z",
     "iopub.status.idle": "2022-01-04T21:11:41.083917Z",
     "shell.execute_reply": "2022-01-04T21:11:41.083429Z",
     "shell.execute_reply.started": "2022-01-04T20:58:47.233310Z"
    },
    "papermill": {
     "duration": 0.581024,
     "end_time": "2022-01-04T21:11:41.084045",
     "exception": false,
     "start_time": "2022-01-04T21:11:40.503021",
     "status": "completed"
    },
    "tags": []
   },
   "outputs": [],
   "source": [
    "from keras.preprocessing import sequence\n",
    "from keras.models import Sequential\n",
    "from keras.layers import Dense, Embedding, SpatialDropout1D\n",
    "from keras.layers import LSTM\n",
    "from keras.preprocessing.text import Tokenizer\n",
    "from keras.preprocessing.sequence import pad_sequences\n",
    "\n",
    "max_features = 20000\n",
    "maxlen = 300\n",
    "embedding_dims = 300\n",
    "\n",
    "X = df['Plot'].values\n",
    "y = np.array(df.drop(['Title','Plot','Genres'], axis=1))"
   ]
  },
  {
   "cell_type": "code",
   "execution_count": 13,
   "id": "8137604a",
   "metadata": {
    "execution": {
     "iopub.execute_input": "2022-01-04T21:11:41.146713Z",
     "iopub.status.busy": "2022-01-04T21:11:41.146057Z",
     "iopub.status.idle": "2022-01-04T21:11:41.148652Z",
     "shell.execute_reply": "2022-01-04T21:11:41.149046Z",
     "shell.execute_reply.started": "2022-01-04T20:58:47.741540Z"
    },
    "papermill": {
     "duration": 0.036334,
     "end_time": "2022-01-04T21:11:41.149167",
     "exception": false,
     "start_time": "2022-01-04T21:11:41.112833",
     "status": "completed"
    },
    "tags": []
   },
   "outputs": [
    {
     "data": {
      "text/plain": [
       "('The Morning After is a feature film that consists of 8 vignettes that are inter-cut throughout the film. The 8 vignettes are about when you wake up next to someone the next morning...',\n",
       " array([0, 0, 1, 0, 1, 0, 0, 0, 0, 0, 0, 0, 0, 0, 0]))"
      ]
     },
     "execution_count": 13,
     "metadata": {},
     "output_type": "execute_result"
    }
   ],
   "source": [
    "X[4], y[4]"
   ]
  },
  {
   "cell_type": "code",
   "execution_count": 14,
   "id": "b3130786",
   "metadata": {
    "execution": {
     "iopub.execute_input": "2022-01-04T21:11:41.234232Z",
     "iopub.status.busy": "2022-01-04T21:11:41.218967Z",
     "iopub.status.idle": "2022-01-04T21:11:47.976985Z",
     "shell.execute_reply": "2022-01-04T21:11:47.976530Z",
     "shell.execute_reply.started": "2022-01-04T20:58:48.492596Z"
    },
    "papermill": {
     "duration": 6.799215,
     "end_time": "2022-01-04T21:11:47.977110",
     "exception": false,
     "start_time": "2022-01-04T21:11:41.177895",
     "status": "completed"
    },
    "tags": []
   },
   "outputs": [
    {
     "data": {
      "text/plain": [
       "84231"
      ]
     },
     "execution_count": 14,
     "metadata": {},
     "output_type": "execute_result"
    }
   ],
   "source": [
    "tokenizer = Tokenizer(num_words=max_features)\n",
    "tokenizer.fit_on_texts(X)\n",
    "\n",
    "X = tokenizer.texts_to_sequences(X)\n",
    "X = pad_sequences(X, maxlen, truncating='post')\n",
    "\n",
    "len(tokenizer.word_index)"
   ]
  },
  {
   "cell_type": "markdown",
   "id": "fa1c07d4",
   "metadata": {
    "papermill": {
     "duration": 0.029001,
     "end_time": "2022-01-04T21:11:48.035886",
     "exception": false,
     "start_time": "2022-01-04T21:11:48.006885",
     "status": "completed"
    },
    "tags": []
   },
   "source": [
    "# Embedding"
   ]
  },
  {
   "cell_type": "markdown",
   "id": "ea6f0c0d",
   "metadata": {
    "papermill": {
     "duration": 0.028852,
     "end_time": "2022-01-04T21:11:48.093752",
     "exception": false,
     "start_time": "2022-01-04T21:11:48.064900",
     "status": "completed"
    },
    "tags": []
   },
   "source": [
    "## Glove"
   ]
  },
  {
   "cell_type": "code",
   "execution_count": 15,
   "id": "5bfbcb1b",
   "metadata": {
    "execution": {
     "iopub.execute_input": "2022-01-04T21:11:48.156164Z",
     "iopub.status.busy": "2022-01-04T21:11:48.155468Z",
     "iopub.status.idle": "2022-01-04T21:11:48.157628Z",
     "shell.execute_reply": "2022-01-04T21:11:48.158035Z",
     "shell.execute_reply.started": "2022-01-04T20:48:23.545586Z"
    },
    "papermill": {
     "duration": 0.035386,
     "end_time": "2022-01-04T21:11:48.158155",
     "exception": false,
     "start_time": "2022-01-04T21:11:48.122769",
     "status": "completed"
    },
    "tags": []
   },
   "outputs": [],
   "source": [
    "glove_emb_link = \"https://huggingface.co/stanfordnlp/glove/resolve/main/glove.6B.zip\""
   ]
  },
  {
   "cell_type": "code",
   "execution_count": 16,
   "id": "69005984",
   "metadata": {
    "execution": {
     "iopub.execute_input": "2022-01-04T21:11:48.221161Z",
     "iopub.status.busy": "2022-01-04T21:11:48.220189Z",
     "iopub.status.idle": "2022-01-04T21:12:16.538173Z",
     "shell.execute_reply": "2022-01-04T21:12:16.537277Z",
     "shell.execute_reply.started": "2022-01-04T20:48:23.547873Z"
    },
    "papermill": {
     "duration": 28.350794,
     "end_time": "2022-01-04T21:12:16.538342",
     "exception": false,
     "start_time": "2022-01-04T21:11:48.187548",
     "status": "completed"
    },
    "tags": []
   },
   "outputs": [],
   "source": [
    "from io import BytesIO, TextIOWrapper\n",
    "from zipfile import ZipFile\n",
    "import requests\n",
    "\n",
    "resp = requests.get(glove_emb_link)"
   ]
  },
  {
   "cell_type": "code",
   "execution_count": 17,
   "id": "b8aefd46",
   "metadata": {
    "execution": {
     "iopub.execute_input": "2022-01-04T21:12:16.604001Z",
     "iopub.status.busy": "2022-01-04T21:12:16.603217Z",
     "iopub.status.idle": "2022-01-04T21:13:07.642842Z",
     "shell.execute_reply": "2022-01-04T21:13:07.643257Z",
     "shell.execute_reply.started": "2022-01-04T20:48:23.549567Z"
    },
    "papermill": {
     "duration": 51.075026,
     "end_time": "2022-01-04T21:13:07.643430",
     "exception": false,
     "start_time": "2022-01-04T21:12:16.568404",
     "status": "completed"
    },
    "tags": []
   },
   "outputs": [
    {
     "name": "stdout",
     "output_type": "stream",
     "text": [
      "Loaded 400001 word vectors.\n"
     ]
    }
   ],
   "source": [
    "embeddings_index = dict()\n",
    "\n",
    "with ZipFile(BytesIO(resp.content),'r') as zipfile:\n",
    "    with TextIOWrapper(zipfile.open(\"glove.6B.300d.txt\"), encoding=\"utf-8\") as file:\n",
    "        for line in file:\n",
    "            values = line.split()\n",
    "            word = values[0]\n",
    "            coefs = np.asarray(values[1:], dtype='float32')\n",
    "            embeddings_index[word] = coefs\n",
    "\n",
    "print('Loaded %s word vectors.' % len(embeddings_index))"
   ]
  },
  {
   "cell_type": "code",
   "execution_count": 18,
   "id": "d26101b5",
   "metadata": {
    "execution": {
     "iopub.execute_input": "2022-01-04T21:13:07.722010Z",
     "iopub.status.busy": "2022-01-04T21:13:07.718588Z",
     "iopub.status.idle": "2022-01-04T21:13:07.790620Z",
     "shell.execute_reply": "2022-01-04T21:13:07.791202Z",
     "shell.execute_reply.started": "2022-01-04T20:58:56.176154Z"
    },
    "papermill": {
     "duration": 0.117783,
     "end_time": "2022-01-04T21:13:07.791413",
     "exception": false,
     "start_time": "2022-01-04T21:13:07.673630",
     "status": "completed"
    },
    "tags": []
   },
   "outputs": [
    {
     "name": "stdout",
     "output_type": "stream",
     "text": [
      "20000\n"
     ]
    }
   ],
   "source": [
    "# create a weight matrix for words in training docs\n",
    "embedding_matrix = np.zeros((max_features, embedding_dims))\n",
    "for word, i in list(tokenizer.word_index.items())[:max_features-1]:\n",
    "    embedding_vector = embeddings_index.get(word)\n",
    "    if embedding_vector is not None:\n",
    "        embedding_matrix[i] = embedding_vector\n",
    "\n",
    "print(len(embedding_matrix))"
   ]
  },
  {
   "cell_type": "code",
   "execution_count": 19,
   "id": "7bb60aea",
   "metadata": {
    "execution": {
     "iopub.execute_input": "2022-01-04T21:13:07.855444Z",
     "iopub.status.busy": "2022-01-04T21:13:07.854931Z",
     "iopub.status.idle": "2022-01-04T21:13:07.858565Z",
     "shell.execute_reply": "2022-01-04T21:13:07.858085Z",
     "shell.execute_reply.started": "2022-01-04T20:48:23.553072Z"
    },
    "papermill": {
     "duration": 0.036857,
     "end_time": "2022-01-04T21:13:07.858668",
     "exception": false,
     "start_time": "2022-01-04T21:13:07.821811",
     "status": "completed"
    },
    "tags": []
   },
   "outputs": [],
   "source": [
    "resp = None"
   ]
  },
  {
   "cell_type": "markdown",
   "id": "78a9c140",
   "metadata": {
    "papermill": {
     "duration": 0.029426,
     "end_time": "2022-01-04T21:13:07.917668",
     "exception": false,
     "start_time": "2022-01-04T21:13:07.888242",
     "status": "completed"
    },
    "tags": []
   },
   "source": [
    "## Classification"
   ]
  },
  {
   "cell_type": "code",
   "execution_count": 20,
   "id": "0fbf9b25",
   "metadata": {
    "execution": {
     "iopub.execute_input": "2022-01-04T21:13:07.981787Z",
     "iopub.status.busy": "2022-01-04T21:13:07.981120Z",
     "iopub.status.idle": "2022-01-04T21:13:08.880619Z",
     "shell.execute_reply": "2022-01-04T21:13:08.881098Z",
     "shell.execute_reply.started": "2022-01-04T20:58:56.319100Z"
    },
    "papermill": {
     "duration": 0.933498,
     "end_time": "2022-01-04T21:13:08.881247",
     "exception": false,
     "start_time": "2022-01-04T21:13:07.947749",
     "status": "completed"
    },
    "tags": []
   },
   "outputs": [],
   "source": [
    "from sklearn.preprocessing import LabelEncoder\n",
    "from sklearn.model_selection import train_test_split\n",
    "from tensorflow.keras.utils import to_categorical\n",
    "\n",
    "X_train, X_test, y_train, y_test = train_test_split(X, y, test_size=0.20)"
   ]
  },
  {
   "cell_type": "markdown",
   "id": "0766e68f",
   "metadata": {
    "papermill": {
     "duration": 0.029709,
     "end_time": "2022-01-04T21:13:08.940971",
     "exception": false,
     "start_time": "2022-01-04T21:13:08.911262",
     "status": "completed"
    },
    "tags": []
   },
   "source": [
    "## LSTM"
   ]
  },
  {
   "cell_type": "code",
   "execution_count": 21,
   "id": "dca91be3",
   "metadata": {
    "execution": {
     "iopub.execute_input": "2022-01-04T21:13:09.031175Z",
     "iopub.status.busy": "2022-01-04T21:13:09.005008Z",
     "iopub.status.idle": "2022-01-04T21:13:09.033388Z",
     "shell.execute_reply": "2022-01-04T21:13:09.033797Z",
     "shell.execute_reply.started": "2022-01-04T20:59:37.611712Z"
    },
    "papermill": {
     "duration": 0.06315,
     "end_time": "2022-01-04T21:13:09.033932",
     "exception": false,
     "start_time": "2022-01-04T21:13:08.970782",
     "status": "completed"
    },
    "tags": []
   },
   "outputs": [],
   "source": [
    "from keras.layers import Bidirectional, GlobalMaxPool1D, SpatialDropout1D, Input, Dropout\n",
    "from keras.models import Model\n",
    "from keras.callbacks import EarlyStopping\n",
    "from tensorflow.keras.optimizers import Adam, schedules\n",
    "\n",
    "n_labels = len(set([g for row in df.Genres for g in row.split(\",\")]))\n",
    "hidden_dims = 40"
   ]
  },
  {
   "cell_type": "code",
   "execution_count": 22,
   "id": "d96aef55",
   "metadata": {
    "execution": {
     "iopub.execute_input": "2022-01-04T21:13:09.101934Z",
     "iopub.status.busy": "2022-01-04T21:13:09.101146Z",
     "iopub.status.idle": "2022-01-04T21:13:09.103095Z",
     "shell.execute_reply": "2022-01-04T21:13:09.103491Z",
     "shell.execute_reply.started": "2022-01-04T20:58:58.095356Z"
    },
    "papermill": {
     "duration": 0.039891,
     "end_time": "2022-01-04T21:13:09.103617",
     "exception": false,
     "start_time": "2022-01-04T21:13:09.063726",
     "status": "completed"
    },
    "tags": []
   },
   "outputs": [],
   "source": [
    "from keras import backend as K\n",
    "\n",
    "def f1(y_true, y_pred):\n",
    "    def recall(y_true, y_pred):\n",
    "        \"\"\"Recall metric.\n",
    "\n",
    "        Only computes a batch-wise average of recall.\n",
    "\n",
    "        Computes the recall, a metric for multi-label classification of\n",
    "        how many relevant items are selected.\n",
    "        \"\"\"\n",
    "        true_positives = K.sum(K.round(K.clip(y_true * y_pred, 0, 1)))\n",
    "        possible_positives = K.sum(K.round(K.clip(y_true, 0, 1)))\n",
    "        recall = true_positives / (possible_positives + K.epsilon())\n",
    "        return recall\n",
    "\n",
    "    def precision(y_true, y_pred):\n",
    "        \"\"\"Precision metric.\n",
    "\n",
    "        Only computes a batch-wise average of precision.\n",
    "\n",
    "        Computes the precision, a metric for multi-label classification of\n",
    "        how many selected items are relevant.\n",
    "        \"\"\"\n",
    "        true_positives = K.sum(K.round(K.clip(y_true * y_pred, 0, 1)))\n",
    "        predicted_positives = K.sum(K.round(K.clip(y_pred, 0, 1)))\n",
    "        precision = true_positives / (predicted_positives + K.epsilon())\n",
    "        return precision\n",
    "    precision = precision(y_true, y_pred)\n",
    "    recall = recall(y_true, y_pred)\n",
    "    return 2*((precision*recall)/(precision+recall+K.epsilon()))"
   ]
  },
  {
   "cell_type": "markdown",
   "id": "b83b2b8c",
   "metadata": {
    "papermill": {
     "duration": 0.029472,
     "end_time": "2022-01-04T21:13:09.162662",
     "exception": false,
     "start_time": "2022-01-04T21:13:09.133190",
     "status": "completed"
    },
    "tags": []
   },
   "source": [
    "#### Cross-validation"
   ]
  },
  {
   "cell_type": "code",
   "execution_count": 23,
   "id": "b20428a7",
   "metadata": {
    "execution": {
     "iopub.execute_input": "2022-01-04T21:13:09.226010Z",
     "iopub.status.busy": "2022-01-04T21:13:09.225154Z",
     "iopub.status.idle": "2022-01-04T21:13:09.231699Z",
     "shell.execute_reply": "2022-01-04T21:13:09.231234Z"
    },
    "papermill": {
     "duration": 0.039111,
     "end_time": "2022-01-04T21:13:09.231802",
     "exception": false,
     "start_time": "2022-01-04T21:13:09.192691",
     "status": "completed"
    },
    "tags": []
   },
   "outputs": [],
   "source": [
    "def build_model(hidden_dims, lr):\n",
    "    e = Embedding(max_features,\n",
    "                  embedding_dims, \n",
    "                  weights=[embedding_matrix], \n",
    "                  input_length=maxlen, \n",
    "                  trainable=False)\n",
    "\n",
    "    model = Sequential()\n",
    "    model.add(e)\n",
    "    model.add(SpatialDropout1D(0.2))\n",
    "    model.add(LSTM(hidden_dims, dropout=0.2))\n",
    "    model.add(Dense(n_labels, activation='sigmoid'))\n",
    "    \n",
    "    opt = Adam(lr)\n",
    "\n",
    "\n",
    "    # try using different optimizers and different optimizer configs\n",
    "    model.compile(loss='binary_crossentropy',\n",
    "                  optimizer=opt,\n",
    "                  metrics=[f1])\n",
    "    \n",
    "    return model\n",
    "\n",
    "    #model.summary()"
   ]
  },
  {
   "cell_type": "code",
   "execution_count": 24,
   "id": "db52f612",
   "metadata": {
    "execution": {
     "iopub.execute_input": "2022-01-04T21:13:09.296651Z",
     "iopub.status.busy": "2022-01-04T21:13:09.296019Z",
     "iopub.status.idle": "2022-01-04T21:13:09.298637Z",
     "shell.execute_reply": "2022-01-04T21:13:09.299030Z",
     "shell.execute_reply.started": "2022-01-03T12:32:15.846674Z"
    },
    "papermill": {
     "duration": 0.037502,
     "end_time": "2022-01-04T21:13:09.299152",
     "exception": false,
     "start_time": "2022-01-04T21:13:09.261650",
     "status": "completed"
    },
    "tags": []
   },
   "outputs": [
    {
     "data": {
      "text/plain": [
       "'from keras.wrappers.scikit_learn import KerasClassifier\\nfrom sklearn.model_selection import GridSearchCV\\nfrom sklearn.metrics import make_scorer, f1_score\\n\\n#f1_custom_score = make_scorer(f1_custom, greater_is_better=True)\\n\\nparam_grid = dict(batch_size=[128,256,512], lr=[0.01,0.02],hidden_dims=[20,40])\\nmodel = KerasClassifier(build_fn=build_model, epochs=40, callbacks=[es], verbose=4)\\ngrid = GridSearchCV(estimator=model, param_grid=param_grid, cv=3, verbose=4)\\ngrid_result = grid.fit(X_train, y_train)'"
      ]
     },
     "execution_count": 24,
     "metadata": {},
     "output_type": "execute_result"
    }
   ],
   "source": [
    "'''from keras.wrappers.scikit_learn import KerasClassifier\n",
    "from sklearn.model_selection import GridSearchCV\n",
    "from sklearn.metrics import make_scorer, f1_score\n",
    "\n",
    "#f1_custom_score = make_scorer(f1_custom, greater_is_better=True)\n",
    "\n",
    "param_grid = dict(batch_size=[128,256,512], lr=[0.01,0.02],hidden_dims=[20,40])\n",
    "model = KerasClassifier(build_fn=build_model, epochs=40, callbacks=[es], verbose=4)\n",
    "grid = GridSearchCV(estimator=model, param_grid=param_grid, cv=3, verbose=4)\n",
    "grid_result = grid.fit(X_train, y_train)'''"
   ]
  },
  {
   "cell_type": "markdown",
   "id": "cfa4966e",
   "metadata": {
    "papermill": {
     "duration": 0.0298,
     "end_time": "2022-01-04T21:13:09.358901",
     "exception": false,
     "start_time": "2022-01-04T21:13:09.329101",
     "status": "completed"
    },
    "tags": []
   },
   "source": [
    "#### Default training"
   ]
  },
  {
   "cell_type": "code",
   "execution_count": 25,
   "id": "c77726d4",
   "metadata": {
    "execution": {
     "iopub.execute_input": "2022-01-04T21:13:09.424518Z",
     "iopub.status.busy": "2022-01-04T21:13:09.423780Z",
     "iopub.status.idle": "2022-01-04T21:13:09.426433Z",
     "shell.execute_reply": "2022-01-04T21:13:09.426930Z",
     "shell.execute_reply.started": "2022-01-04T21:03:06.622020Z"
    },
    "papermill": {
     "duration": 0.037912,
     "end_time": "2022-01-04T21:13:09.427047",
     "exception": false,
     "start_time": "2022-01-04T21:13:09.389135",
     "status": "completed"
    },
    "tags": []
   },
   "outputs": [
    {
     "data": {
      "text/plain": [
       "'inp = Input(shape=(maxlen,)) \\nx = Embedding(max_features, embedding_dims, weights=[embedding_matrix],trainable=False)(inp)\\nx = LSTM(hidden_dims, return_sequences=True, dropout=0.2)(x)\\nx = GlobalMaxPool1D()(x)\\nx = Dense(hidden_dims, activation=\"relu\")(x)\\nx = Dropout(0.3)(x)\\nx = Dense(n_labels, activation=\"sigmoid\")(x)\\nmodel = Model(inputs=inp, outputs=x)\\n\\nopt = Adam(0.01)\\nmodel.compile(loss=\\'binary_crossentropy\\', optimizer=opt, metrics=[f1])'"
      ]
     },
     "execution_count": 25,
     "metadata": {},
     "output_type": "execute_result"
    }
   ],
   "source": [
    "'''inp = Input(shape=(maxlen,)) \n",
    "x = Embedding(max_features, embedding_dims, weights=[embedding_matrix],trainable=False)(inp)\n",
    "x = LSTM(hidden_dims, return_sequences=True, dropout=0.2)(x)\n",
    "x = GlobalMaxPool1D()(x)\n",
    "x = Dense(hidden_dims, activation=\"relu\")(x)\n",
    "x = Dropout(0.3)(x)\n",
    "x = Dense(n_labels, activation=\"sigmoid\")(x)\n",
    "model = Model(inputs=inp, outputs=x)\n",
    "\n",
    "opt = Adam(0.01)\n",
    "model.compile(loss='binary_crossentropy', optimizer=opt, metrics=[f1])'''"
   ]
  },
  {
   "cell_type": "code",
   "execution_count": 26,
   "id": "6ac86bfa",
   "metadata": {
    "execution": {
     "iopub.execute_input": "2022-01-04T21:13:09.493225Z",
     "iopub.status.busy": "2022-01-04T21:13:09.492705Z",
     "iopub.status.idle": "2022-01-04T21:13:10.298220Z",
     "shell.execute_reply": "2022-01-04T21:13:10.297702Z",
     "shell.execute_reply.started": "2022-01-04T21:04:58.673323Z"
    },
    "papermill": {
     "duration": 0.841007,
     "end_time": "2022-01-04T21:13:10.298402",
     "exception": false,
     "start_time": "2022-01-04T21:13:09.457395",
     "status": "completed"
    },
    "tags": []
   },
   "outputs": [],
   "source": [
    "e = Embedding(max_features,\n",
    "              embedding_dims, \n",
    "              weights=[embedding_matrix], \n",
    "              input_length=maxlen, \n",
    "              trainable=False)\n",
    "\n",
    "model = Sequential()\n",
    "model.add(e)\n",
    "#model.add(Dropout(0.1))\n",
    "model.add(LSTM(hidden_dims, dropout=0.3))\n",
    "model.add(Dropout(0.4))\n",
    "model.add(Dense(n_labels, activation='sigmoid'))\n",
    "\n",
    "opt = Adam(0.01)\n",
    "\n",
    "\n",
    "# try using different optimizers and different optimizer configs\n",
    "model.compile(loss='binary_crossentropy',\n",
    "              optimizer=opt,\n",
    "              metrics=[f1])"
   ]
  },
  {
   "cell_type": "code",
   "execution_count": 27,
   "id": "c59fad9f",
   "metadata": {
    "execution": {
     "iopub.execute_input": "2022-01-04T21:13:10.365701Z",
     "iopub.status.busy": "2022-01-04T21:13:10.364940Z",
     "iopub.status.idle": "2022-01-04T21:14:22.894259Z",
     "shell.execute_reply": "2022-01-04T21:14:22.893802Z",
     "shell.execute_reply.started": "2022-01-04T21:04:59.790541Z"
    },
    "papermill": {
     "duration": 72.564922,
     "end_time": "2022-01-04T21:14:22.894409",
     "exception": false,
     "start_time": "2022-01-04T21:13:10.329487",
     "status": "completed"
    },
    "tags": []
   },
   "outputs": [
    {
     "name": "stdout",
     "output_type": "stream",
     "text": [
      "Train...\n",
      "Epoch 1/50\n"
     ]
    },
    {
     "name": "stderr",
     "output_type": "stream",
     "text": [
      "2022-01-04 21:13:10.427594: I tensorflow/compiler/mlir/mlir_graph_optimization_pass.cc:185] None of the MLIR Optimization Passes are enabled (registered 2)\n",
      "2022-01-04 21:13:12.962978: I tensorflow/stream_executor/cuda/cuda_dnn.cc:369] Loaded cuDNN version 8005\n"
     ]
    },
    {
     "name": "stdout",
     "output_type": "stream",
     "text": [
      "43/43 [==============================] - 6s 45ms/step - loss: 0.4036 - f1: 0.4760 - val_loss: 0.3422 - val_f1: 0.5028\n",
      "Epoch 2/50\n",
      "43/43 [==============================] - 2s 36ms/step - loss: 0.3372 - f1: 0.5304 - val_loss: 0.3153 - val_f1: 0.5578\n",
      "Epoch 3/50\n",
      "43/43 [==============================] - 2s 36ms/step - loss: 0.3154 - f1: 0.5807 - val_loss: 0.2940 - val_f1: 0.6077\n",
      "Epoch 4/50\n",
      "43/43 [==============================] - 2s 36ms/step - loss: 0.3012 - f1: 0.6105 - val_loss: 0.2838 - val_f1: 0.6389\n",
      "Epoch 5/50\n",
      "43/43 [==============================] - 2s 36ms/step - loss: 0.2927 - f1: 0.6261 - val_loss: 0.2812 - val_f1: 0.6414\n",
      "Epoch 6/50\n",
      "43/43 [==============================] - 2s 36ms/step - loss: 0.2870 - f1: 0.6360 - val_loss: 0.2761 - val_f1: 0.6557\n",
      "Epoch 7/50\n",
      "43/43 [==============================] - 2s 36ms/step - loss: 0.2815 - f1: 0.6475 - val_loss: 0.2741 - val_f1: 0.6585\n",
      "Epoch 8/50\n",
      "43/43 [==============================] - 2s 36ms/step - loss: 0.2795 - f1: 0.6490 - val_loss: 0.2712 - val_f1: 0.6637\n",
      "Epoch 9/50\n",
      "43/43 [==============================] - 2s 36ms/step - loss: 0.2765 - f1: 0.6536 - val_loss: 0.2695 - val_f1: 0.6576\n",
      "Epoch 10/50\n",
      "43/43 [==============================] - 2s 36ms/step - loss: 0.2740 - f1: 0.6549 - val_loss: 0.2674 - val_f1: 0.6575\n",
      "Epoch 11/50\n",
      "43/43 [==============================] - 2s 36ms/step - loss: 0.2721 - f1: 0.6601 - val_loss: 0.2652 - val_f1: 0.6691\n",
      "Epoch 12/50\n",
      "43/43 [==============================] - 2s 36ms/step - loss: 0.2707 - f1: 0.6625 - val_loss: 0.2653 - val_f1: 0.6694\n",
      "Epoch 13/50\n",
      "43/43 [==============================] - 2s 36ms/step - loss: 0.2683 - f1: 0.6662 - val_loss: 0.2646 - val_f1: 0.6632\n",
      "Epoch 14/50\n",
      "43/43 [==============================] - 2s 38ms/step - loss: 0.2668 - f1: 0.6668 - val_loss: 0.2647 - val_f1: 0.6780\n",
      "Epoch 15/50\n",
      "43/43 [==============================] - 2s 36ms/step - loss: 0.2663 - f1: 0.6698 - val_loss: 0.2647 - val_f1: 0.6664\n",
      "Epoch 16/50\n",
      "43/43 [==============================] - 2s 36ms/step - loss: 0.2642 - f1: 0.6706 - val_loss: 0.2640 - val_f1: 0.6766\n",
      "Epoch 17/50\n",
      "43/43 [==============================] - 2s 36ms/step - loss: 0.2630 - f1: 0.6725 - val_loss: 0.2623 - val_f1: 0.6716\n",
      "Epoch 18/50\n",
      "43/43 [==============================] - 2s 36ms/step - loss: 0.2622 - f1: 0.6740 - val_loss: 0.2623 - val_f1: 0.6733\n",
      "Epoch 19/50\n",
      "43/43 [==============================] - 2s 36ms/step - loss: 0.2623 - f1: 0.6746 - val_loss: 0.2627 - val_f1: 0.6686\n",
      "Epoch 20/50\n",
      "43/43 [==============================] - 2s 36ms/step - loss: 0.2609 - f1: 0.6759 - val_loss: 0.2612 - val_f1: 0.6795\n",
      "Epoch 21/50\n",
      "43/43 [==============================] - 2s 36ms/step - loss: 0.2595 - f1: 0.6789 - val_loss: 0.2606 - val_f1: 0.6829\n",
      "Epoch 22/50\n",
      "43/43 [==============================] - 2s 36ms/step - loss: 0.2596 - f1: 0.6780 - val_loss: 0.2607 - val_f1: 0.6802\n",
      "Epoch 23/50\n",
      "43/43 [==============================] - 2s 36ms/step - loss: 0.2582 - f1: 0.6815 - val_loss: 0.2611 - val_f1: 0.6809\n",
      "Epoch 24/50\n",
      "43/43 [==============================] - 2s 36ms/step - loss: 0.2575 - f1: 0.6816 - val_loss: 0.2611 - val_f1: 0.6768\n",
      "Epoch 25/50\n",
      "43/43 [==============================] - 2s 36ms/step - loss: 0.2566 - f1: 0.6824 - val_loss: 0.2595 - val_f1: 0.6814\n",
      "Epoch 26/50\n",
      "43/43 [==============================] - 2s 36ms/step - loss: 0.2564 - f1: 0.6830 - val_loss: 0.2590 - val_f1: 0.6813\n",
      "Epoch 27/50\n",
      "43/43 [==============================] - 2s 36ms/step - loss: 0.2566 - f1: 0.6829 - val_loss: 0.2596 - val_f1: 0.6781\n",
      "Epoch 28/50\n",
      "43/43 [==============================] - 2s 37ms/step - loss: 0.2554 - f1: 0.6838 - val_loss: 0.2602 - val_f1: 0.6800\n",
      "Epoch 29/50\n",
      "43/43 [==============================] - 2s 36ms/step - loss: 0.2543 - f1: 0.6851 - val_loss: 0.2597 - val_f1: 0.6775\n",
      "Epoch 30/50\n",
      "43/43 [==============================] - 2s 36ms/step - loss: 0.2557 - f1: 0.6828 - val_loss: 0.2615 - val_f1: 0.6767\n",
      "Epoch 31/50\n",
      "43/43 [==============================] - 2s 36ms/step - loss: 0.2546 - f1: 0.6839 - val_loss: 0.2610 - val_f1: 0.6843\n",
      "Epoch 32/50\n",
      "43/43 [==============================] - 2s 36ms/step - loss: 0.2534 - f1: 0.6862 - val_loss: 0.2610 - val_f1: 0.6764\n",
      "Epoch 33/50\n",
      "43/43 [==============================] - 2s 36ms/step - loss: 0.2544 - f1: 0.6864 - val_loss: 0.2599 - val_f1: 0.6791\n",
      "Epoch 34/50\n",
      "43/43 [==============================] - 2s 36ms/step - loss: 0.2536 - f1: 0.6867 - val_loss: 0.2589 - val_f1: 0.6829\n",
      "Epoch 35/50\n",
      "43/43 [==============================] - 2s 39ms/step - loss: 0.2534 - f1: 0.6867 - val_loss: 0.2615 - val_f1: 0.6827\n",
      "Epoch 36/50\n",
      "43/43 [==============================] - 2s 36ms/step - loss: 0.2531 - f1: 0.6870 - val_loss: 0.2598 - val_f1: 0.6759\n",
      "Epoch 37/50\n",
      "43/43 [==============================] - 2s 36ms/step - loss: 0.2529 - f1: 0.6864 - val_loss: 0.2608 - val_f1: 0.6855\n",
      "Epoch 38/50\n",
      "43/43 [==============================] - 2s 36ms/step - loss: 0.2526 - f1: 0.6870 - val_loss: 0.2613 - val_f1: 0.6809\n",
      "Epoch 39/50\n",
      "43/43 [==============================] - 2s 36ms/step - loss: 0.2518 - f1: 0.6893 - val_loss: 0.2595 - val_f1: 0.6838\n",
      "Epoch 40/50\n",
      "43/43 [==============================] - 2s 36ms/step - loss: 0.2526 - f1: 0.6887 - val_loss: 0.2601 - val_f1: 0.6826\n",
      "Epoch 41/50\n",
      "43/43 [==============================] - 2s 36ms/step - loss: 0.2519 - f1: 0.6880 - val_loss: 0.2593 - val_f1: 0.6838\n",
      "Epoch 42/50\n",
      "43/43 [==============================] - 2s 36ms/step - loss: 0.2519 - f1: 0.6876 - val_loss: 0.2590 - val_f1: 0.6850\n",
      "Epoch 43/50\n",
      "43/43 [==============================] - 2s 36ms/step - loss: 0.2516 - f1: 0.6884 - val_loss: 0.2597 - val_f1: 0.6814\n",
      "Epoch 44/50\n",
      "43/43 [==============================] - 2s 36ms/step - loss: 0.2504 - f1: 0.6902 - val_loss: 0.2606 - val_f1: 0.6838\n",
      "Epoch 00044: early stopping\n"
     ]
    },
    {
     "data": {
      "text/plain": [
       "<keras.callbacks.History at 0x7f09a48f7d90>"
      ]
     },
     "execution_count": 27,
     "metadata": {},
     "output_type": "execute_result"
    }
   ],
   "source": [
    "batch_size = 512\n",
    "epochs = 50\n",
    "es = EarlyStopping(monitor='val_loss', patience=10, verbose=1)\n",
    "\n",
    "\n",
    "print('Train...')\n",
    "model.fit(X_train, y_train,\n",
    "          batch_size=batch_size,\n",
    "          epochs=epochs,\n",
    "          validation_split=0.2,\n",
    "          callbacks=[es])"
   ]
  },
  {
   "cell_type": "markdown",
   "id": "946581d6",
   "metadata": {
    "papermill": {
     "duration": 0.304592,
     "end_time": "2022-01-04T21:14:23.491694",
     "exception": false,
     "start_time": "2022-01-04T21:14:23.187102",
     "status": "completed"
    },
    "tags": []
   },
   "source": [
    "#### Training visualization"
   ]
  },
  {
   "cell_type": "code",
   "execution_count": 28,
   "id": "92072d7b",
   "metadata": {
    "execution": {
     "iopub.execute_input": "2022-01-04T21:14:24.086335Z",
     "iopub.status.busy": "2022-01-04T21:14:24.085461Z",
     "iopub.status.idle": "2022-01-04T21:14:24.087217Z",
     "shell.execute_reply": "2022-01-04T21:14:24.087668Z",
     "shell.execute_reply.started": "2022-01-04T21:06:15.352059Z"
    },
    "papermill": {
     "duration": 0.298605,
     "end_time": "2022-01-04T21:14:24.087793",
     "exception": false,
     "start_time": "2022-01-04T21:14:23.789188",
     "status": "completed"
    },
    "tags": []
   },
   "outputs": [],
   "source": [
    "train_loss = model.history.history['loss']\n",
    "train_f1 = model.history.history['f1']\n",
    "\n",
    "val_loss = model.history.history['val_loss']\n",
    "val_f1 = model.history.history['val_f1']"
   ]
  },
  {
   "cell_type": "code",
   "execution_count": 29,
   "id": "a39e4e9c",
   "metadata": {
    "execution": {
     "iopub.execute_input": "2022-01-04T21:14:24.677949Z",
     "iopub.status.busy": "2022-01-04T21:14:24.677407Z",
     "iopub.status.idle": "2022-01-04T21:14:34.323356Z",
     "shell.execute_reply": "2022-01-04T21:14:34.323753Z",
     "shell.execute_reply.started": "2022-01-04T21:06:16.535953Z"
    },
    "papermill": {
     "duration": 9.945195,
     "end_time": "2022-01-04T21:14:34.323905",
     "exception": false,
     "start_time": "2022-01-04T21:14:24.378710",
     "status": "completed"
    },
    "tags": []
   },
   "outputs": [
    {
     "data": {
      "image/png": "[encoded data removed]",
      "text/plain": [
       "<Figure size 1080x432 with 2 Axes>"
      ]
     },
     "metadata": {
      "needs_background": "light"
     },
     "output_type": "display_data"
    }
   ],
   "source": [
    "import matplotlib.pyplot as plt\n",
    "\n",
    "fig, (ax1, ax2) = plt.subplots(1,2,figsize=(15,6))\n",
    "ax1.plot(train_loss, color='tab:red',label='train', linestyle='dashed')\n",
    "ax1.plot(val_loss, color='tab:blue', label='validation')\n",
    "ax1.set_title(\"Loss\")\n",
    "ax1.legend()\n",
    "ax2.plot(train_f1, color='tab:red',label='train',linestyle='dashed')\n",
    "ax2.plot(val_f1, color='tab:blue', label='validation')\n",
    "ax2.set_title(\"F1_score\")\n",
    "ax2.legend()\n",
    "plt.show()"
   ]
  },
  {
   "cell_type": "markdown",
   "id": "9dc51a25",
   "metadata": {
    "papermill": {
     "duration": 0.28977,
     "end_time": "2022-01-04T21:14:34.904558",
     "exception": false,
     "start_time": "2022-01-04T21:14:34.614788",
     "status": "completed"
    },
    "tags": []
   },
   "source": [
    "### Prediction"
   ]
  },
  {
   "cell_type": "code",
   "execution_count": 30,
   "id": "1bfabf98",
   "metadata": {
    "execution": {
     "iopub.execute_input": "2022-01-04T21:14:35.496021Z",
     "iopub.status.busy": "2022-01-04T21:14:35.495065Z",
     "iopub.status.idle": "2022-01-04T21:14:36.858457Z",
     "shell.execute_reply": "2022-01-04T21:14:36.857970Z",
     "shell.execute_reply.started": "2022-01-04T21:06:45.903427Z"
    },
    "papermill": {
     "duration": 1.663847,
     "end_time": "2022-01-04T21:14:36.858592",
     "exception": false,
     "start_time": "2022-01-04T21:14:35.194745",
     "status": "completed"
    },
    "tags": []
   },
   "outputs": [],
   "source": [
    "y_pred = model.predict([X_test], verbose=3)"
   ]
  },
  {
   "cell_type": "code",
   "execution_count": 31,
   "id": "b91ce8f4",
   "metadata": {
    "execution": {
     "iopub.execute_input": "2022-01-04T21:14:37.473467Z",
     "iopub.status.busy": "2022-01-04T21:14:37.472836Z",
     "iopub.status.idle": "2022-01-04T21:14:37.483921Z",
     "shell.execute_reply": "2022-01-04T21:14:37.483472Z",
     "shell.execute_reply.started": "2022-01-04T21:06:21.778522Z"
    },
    "papermill": {
     "duration": 0.310795,
     "end_time": "2022-01-04T21:14:37.484036",
     "exception": false,
     "start_time": "2022-01-04T21:14:37.173241",
     "status": "completed"
    },
    "tags": []
   },
   "outputs": [
    {
     "data": {
      "text/plain": [
       "0.6773437"
      ]
     },
     "execution_count": 31,
     "metadata": {},
     "output_type": "execute_result"
    }
   ],
   "source": [
    "f1(y_test.astype(np.float32),y_pred).numpy()"
   ]
  },
  {
   "cell_type": "code",
   "execution_count": 32,
   "id": "205ee233",
   "metadata": {
    "execution": {
     "iopub.execute_input": "2022-01-04T21:14:38.109624Z",
     "iopub.status.busy": "2022-01-04T21:14:38.108846Z",
     "iopub.status.idle": "2022-01-04T21:14:38.126152Z",
     "shell.execute_reply": "2022-01-04T21:14:38.125741Z",
     "shell.execute_reply.started": "2022-01-04T21:06:24.954203Z"
    },
    "papermill": {
     "duration": 0.332669,
     "end_time": "2022-01-04T21:14:38.126264",
     "exception": false,
     "start_time": "2022-01-04T21:14:37.793595",
     "status": "completed"
    },
    "tags": []
   },
   "outputs": [
    {
     "data": {
      "text/plain": [
       "array([[[   0, 1683],\n",
       "        [   5, 5075]],\n",
       "\n",
       "       [[6392,   59],\n",
       "        [ 232,   80]],\n",
       "\n",
       "       [[3992,  619],\n",
       "        [ 981, 1171]],\n",
       "\n",
       "       [[5725,   99],\n",
       "        [ 468,  471]],\n",
       "\n",
       "       [[2554,  928],\n",
       "        [1087, 2194]],\n",
       "\n",
       "       [[6087,  107],\n",
       "        [ 405,  164]],\n",
       "\n",
       "       [[6405,   13],\n",
       "        [ 332,   13]],\n",
       "\n",
       "       [[5667,  222],\n",
       "        [ 325,  549]],\n",
       "\n",
       "       [[6314,   34],\n",
       "        [ 313,  102]],\n",
       "\n",
       "       [[5337,  230],\n",
       "        [ 821,  375]],\n",
       "\n",
       "       [[5523,  247],\n",
       "        [ 455,  538]],\n",
       "\n",
       "       [[6529,   36],\n",
       "        [ 134,   64]],\n",
       "\n",
       "       [[4507,  432],\n",
       "        [ 837,  987]],\n",
       "\n",
       "       [[6422,   53],\n",
       "        [ 170,  118]],\n",
       "\n",
       "       [[6578,   17],\n",
       "        [  79,   89]]])"
      ]
     },
     "execution_count": 32,
     "metadata": {},
     "output_type": "execute_result"
    }
   ],
   "source": [
    "from sklearn.metrics import multilabel_confusion_matrix\n",
    "\n",
    "multilabel_confusion_matrix(y_test, y_pred.round())\n",
    "#tn/fn,fp/tp"
   ]
  },
  {
   "cell_type": "code",
   "execution_count": null,
   "id": "74f7f0c9",
   "metadata": {
    "papermill": {
     "duration": 0.291926,
     "end_time": "2022-01-04T21:14:38.710286",
     "exception": false,
     "start_time": "2022-01-04T21:14:38.418360",
     "status": "completed"
    },
    "tags": []
   },
   "outputs": [],
   "source": []
  }
 ],
 "metadata": {
  "kernelspec": {
   "display_name": "Python 3 (ipykernel)",
   "language": "python",
   "name": "python3"
  },
  "language_info": {
   "codemirror_mode": {
    "name": "ipython",
    "version": 3
   },
   "file_extension": ".py",
   "mimetype": "text/x-python",
   "name": "python",
   "nbconvert_exporter": "python",
   "pygments_lexer": "ipython3",
   "version": "3.9.7"
  },
  "papermill": {
   "default_parameters": {},
   "duration": 198.500538,
   "end_time": "2022-01-04T21:14:42.652666",
   "environment_variables": {},
   "exception": null,
   "input_path": "__notebook__.ipynb",
   "output_path": "__notebook__.ipynb",
   "parameters": {},
   "start_time": "2022-01-04T21:11:24.152128",
   "version": "2.3.3"
  }
 },
 "nbformat": 4,
 "nbformat_minor": 5
}
