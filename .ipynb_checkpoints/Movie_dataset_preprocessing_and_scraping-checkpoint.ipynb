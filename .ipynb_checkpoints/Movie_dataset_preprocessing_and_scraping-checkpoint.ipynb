{
 "cells": [
  {
   "cell_type": "code",
   "execution_count": 47,
   "metadata": {},
   "outputs": [],
   "source": [
    "import pandas as pd\n",
    "import spacy\n",
    "from sklearn.feature_extraction.text import TfidfTransformer, CountVectorizer"
   ]
  },
  {
   "cell_type": "code",
   "execution_count": 48,
   "metadata": {},
   "outputs": [
    {
     "data": {
      "text/plain": [
       "(34886, 8)"
      ]
     },
     "execution_count": 48,
     "metadata": {},
     "output_type": "execute_result"
    }
   ],
   "source": [
    "df = pd.read_csv('wiki_movie_plots_deduped.csv')\n",
    "df.shape"
   ]
  },
  {
   "cell_type": "markdown",
   "metadata": {},
   "source": [
    "# Preprocessing"
   ]
  },
  {
   "cell_type": "code",
   "execution_count": 49,
   "metadata": {},
   "outputs": [
    {
     "data": {
      "text/plain": [
       "(28803, 8)"
      ]
     },
     "execution_count": 49,
     "metadata": {},
     "output_type": "execute_result"
    }
   ],
   "source": [
    "df = df[df['Genre'] != 'unknown']\n",
    "df.shape"
   ]
  },
  {
   "cell_type": "code",
   "execution_count": 50,
   "metadata": {
    "scrolled": false
   },
   "outputs": [
    {
     "data": {
      "text/html": [
       "<div>\n",
       "<style scoped>\n",
       "    .dataframe tbody tr th:only-of-type {\n",
       "        vertical-align: middle;\n",
       "    }\n",
       "\n",
       "    .dataframe tbody tr th {\n",
       "        vertical-align: top;\n",
       "    }\n",
       "\n",
       "    .dataframe thead th {\n",
       "        text-align: right;\n",
       "    }\n",
       "</style>\n",
       "<table border=\"1\" class=\"dataframe\">\n",
       "  <thead>\n",
       "    <tr style=\"text-align: right;\">\n",
       "      <th></th>\n",
       "      <th>Release Year</th>\n",
       "      <th>Title</th>\n",
       "      <th>Origin/Ethnicity</th>\n",
       "      <th>Director</th>\n",
       "      <th>Cast</th>\n",
       "      <th>Genre</th>\n",
       "      <th>Wiki Page</th>\n",
       "      <th>Plot</th>\n",
       "    </tr>\n",
       "  </thead>\n",
       "  <tbody>\n",
       "    <tr>\n",
       "      <th>6</th>\n",
       "      <td>1903</td>\n",
       "      <td>The Great Train Robbery</td>\n",
       "      <td>American</td>\n",
       "      <td>Edwin S. Porter</td>\n",
       "      <td>NaN</td>\n",
       "      <td>western</td>\n",
       "      <td>https://en.wikipedia.org/wiki/The_Great_Train_...</td>\n",
       "      <td>The film opens with two bandits breaking into ...</td>\n",
       "    </tr>\n",
       "    <tr>\n",
       "      <th>7</th>\n",
       "      <td>1904</td>\n",
       "      <td>The Suburbanite</td>\n",
       "      <td>American</td>\n",
       "      <td>Wallace McCutcheon</td>\n",
       "      <td>NaN</td>\n",
       "      <td>comedy</td>\n",
       "      <td>https://en.wikipedia.org/wiki/The_Suburbanite</td>\n",
       "      <td>The film is about a family who move to the sub...</td>\n",
       "    </tr>\n",
       "    <tr>\n",
       "      <th>10</th>\n",
       "      <td>1906</td>\n",
       "      <td>Dream of a Rarebit Fiend</td>\n",
       "      <td>American</td>\n",
       "      <td>Wallace McCutcheon and Edwin S. Porter</td>\n",
       "      <td>NaN</td>\n",
       "      <td>short</td>\n",
       "      <td>https://en.wikipedia.org/wiki/Dream_of_a_Rareb...</td>\n",
       "      <td>The Rarebit Fiend gorges on Welsh rarebit at a...</td>\n",
       "    </tr>\n",
       "    <tr>\n",
       "      <th>11</th>\n",
       "      <td>1906</td>\n",
       "      <td>From Leadville to Aspen: A Hold-Up in the Rockies</td>\n",
       "      <td>American</td>\n",
       "      <td>Francis J. Marion and Wallace McCutcheon</td>\n",
       "      <td>NaN</td>\n",
       "      <td>short action/crime western</td>\n",
       "      <td>https://en.wikipedia.org/wiki/From_Leadville_t...</td>\n",
       "      <td>The film features a train traveling through th...</td>\n",
       "    </tr>\n",
       "    <tr>\n",
       "      <th>12</th>\n",
       "      <td>1906</td>\n",
       "      <td>Kathleen Mavourneen</td>\n",
       "      <td>American</td>\n",
       "      <td>Edwin S. Porter</td>\n",
       "      <td>NaN</td>\n",
       "      <td>short film</td>\n",
       "      <td>https://en.wikipedia.org/wiki/Kathleen_Mavourn...</td>\n",
       "      <td>Irish villager Kathleen is a tenant of Captain...</td>\n",
       "    </tr>\n",
       "  </tbody>\n",
       "</table>\n",
       "</div>"
      ],
      "text/plain": [
       "    Release Year                                              Title  \\\n",
       "6           1903                            The Great Train Robbery   \n",
       "7           1904                                    The Suburbanite   \n",
       "10          1906                           Dream of a Rarebit Fiend   \n",
       "11          1906  From Leadville to Aspen: A Hold-Up in the Rockies   \n",
       "12          1906                                Kathleen Mavourneen   \n",
       "\n",
       "   Origin/Ethnicity                                  Director Cast  \\\n",
       "6          American                           Edwin S. Porter  NaN   \n",
       "7          American                        Wallace McCutcheon  NaN   \n",
       "10         American    Wallace McCutcheon and Edwin S. Porter  NaN   \n",
       "11         American  Francis J. Marion and Wallace McCutcheon  NaN   \n",
       "12         American                           Edwin S. Porter  NaN   \n",
       "\n",
       "                         Genre  \\\n",
       "6                      western   \n",
       "7                       comedy   \n",
       "10                       short   \n",
       "11  short action/crime western   \n",
       "12                  short film   \n",
       "\n",
       "                                            Wiki Page  \\\n",
       "6   https://en.wikipedia.org/wiki/The_Great_Train_...   \n",
       "7       https://en.wikipedia.org/wiki/The_Suburbanite   \n",
       "10  https://en.wikipedia.org/wiki/Dream_of_a_Rareb...   \n",
       "11  https://en.wikipedia.org/wiki/From_Leadville_t...   \n",
       "12  https://en.wikipedia.org/wiki/Kathleen_Mavourn...   \n",
       "\n",
       "                                                 Plot  \n",
       "6   The film opens with two bandits breaking into ...  \n",
       "7   The film is about a family who move to the sub...  \n",
       "10  The Rarebit Fiend gorges on Welsh rarebit at a...  \n",
       "11  The film features a train traveling through th...  \n",
       "12  Irish villager Kathleen is a tenant of Captain...  "
      ]
     },
     "execution_count": 50,
     "metadata": {},
     "output_type": "execute_result"
    }
   ],
   "source": [
    "df.head()"
   ]
  },
  {
   "cell_type": "code",
   "execution_count": 51,
   "metadata": {},
   "outputs": [
    {
     "data": {
      "text/plain": [
       "2264"
      ]
     },
     "execution_count": 51,
     "metadata": {},
     "output_type": "execute_result"
    }
   ],
   "source": [
    "df['Genre'].nunique()"
   ]
  },
  {
   "cell_type": "code",
   "execution_count": 52,
   "metadata": {},
   "outputs": [],
   "source": [
    "# 1.1. dictionary-based conversion readacting Wikipedia's Film genre page:\n",
    "\n",
    "conversion_dict = {\n",
    "    \"action\": [\"disaster\", \"martial arts\", \"spy\", \"superhero\", \"wuxia\",\"action\",\"masala\",\"espionage\",\"arts\"],\n",
    "    \"adventure\": [\"pirate\", \"swashbuckler\", \"samurai\"],\n",
    "    \"animation\": [\"cgi\", \"cutout\", \"live-action animated film\", \"stop motion\", \"animated\", \"computer-animated\", \"anime\"],\n",
    "    \"comedy\": [\"buddy\", \"mockumentary\", \"parody\", \"slapstick\"],\n",
    "    \"drama\": [\"docudrama\", \"melodrama\", \"biodrama\", \"bio-drama\"],\n",
    "    \"historical\": [\"history\", \"historic\", \"alternate history\", \"period\", \"period piece\", \"biopic\", \"bio-pic\", \"biographical\"],\n",
    "    \"horror\": [\"ghost\", \"monster\", \"vampire\", \"werewolf\", \"slash\", \"splatter\", \"zombie\", \"j-horror\",\"supernatural\"],\n",
    "    \"science fiction\": [\"dystopian\", \"dystopia\", \"post-apocalyptic\", \"steampunk\", \"tech noir\", \"utopian\", \"science-fiction\", \"scifi\", \"sci-fi\", \"space\", \"tokusatsu\",\"fiction\"],\n",
    "    \"thriller\": [\"mystery\", \"detective\", \"crime\",\"suspense\"],\n",
    "    \"musical\": [\"operetta\"],\n",
    "    \"romance\": [\"love\",\"romantic\"],\n",
    "    \"western\": [\"cowboy\"],\n",
    "    \"documentary\": [\"pseudo-documentary\"],\n",
    "    \"fantasy\":[],\n",
    "    \"sport\":[\"sports\",\"races\",\"dance\",\"biker\"],\n",
    "    \"war\":['ii','i'],\n",
    "    \"erotic\":['ero','adult','erotic','sexploitation'],\n",
    "    \"social\":['socio','costume']\n",
    "}"
   ]
  },
  {
   "cell_type": "code",
   "execution_count": 53,
   "metadata": {},
   "outputs": [],
   "source": [
    "import re\n",
    "\n",
    "#preprocessing function helper for genres reduction\n",
    "def genres_preprocessing(genres_dict, genre):\n",
    "    stop = ['film','short']\n",
    "    for w in stop:\n",
    "        if w in genre:\n",
    "            genre = genre.replace(w,'').strip()\n",
    "        \n",
    "    \n",
    "    splitted = re.split(\"[,/]\", genre)\n",
    "    if len(splitted) != 1:\n",
    "        genre = splitted[0]\n",
    "        \n",
    "    splitted = re.split(\"[-—–]\", genre)\n",
    "    if any(item in genres_dict.keys() for item in splitted):\n",
    "    #if splitted[0] in genres_dict.keys():\n",
    "        genre = splitted[0]\n",
    "    \n",
    "    splitted = re.split(\" \", genre.rstrip())\n",
    "    if len(splitted) != 1:\n",
    "        genre = splitted[-1]\n",
    "        \n",
    "    for key in genres_dict.keys():\n",
    "        if genre.rstrip() in genres_dict[key]:\n",
    "            genre = key\n",
    "        \n",
    "    return genre.rstrip()"
   ]
  },
  {
   "cell_type": "code",
   "execution_count": 54,
   "metadata": {},
   "outputs": [],
   "source": [
    "df['Genre2'] = df['Genre']\n",
    "df['Genre2'] = df['Genre2'].apply(lambda x: genres_preprocessing(conversion_dict, x))"
   ]
  },
  {
   "cell_type": "code",
   "execution_count": 55,
   "metadata": {},
   "outputs": [],
   "source": [
    "counts = df['Genre2'].value_counts()\n",
    "to_remove = counts[counts < 50].index\n",
    "\n",
    "df = df[~df.Genre2.isin(to_remove)]\n",
    "\n",
    "drop_id = df[df.Plot.apply(lambda x: len(x) < 25)].index\n",
    "df.drop(drop_id, inplace=True)\n",
    "\n",
    "df = df[df['Genre2'] != '']"
   ]
  },
  {
   "cell_type": "code",
   "execution_count": 10,
   "metadata": {
    "scrolled": true
   },
   "outputs": [],
   "source": [
    "#g = df.groupby(\"Genre2\")\n",
    "#new_df = g.apply(lambda x: x.sample(g.size().min()).reset_index(drop=True))"
   ]
  },
  {
   "cell_type": "markdown",
   "metadata": {},
   "source": [
    "# Scraping"
   ]
  },
  {
   "cell_type": "code",
   "execution_count": 11,
   "metadata": {},
   "outputs": [
    {
     "data": {
      "text/plain": [
       "['western',\n",
       " 'animation',\n",
       " 'science fiction',\n",
       " 'adventure',\n",
       " 'musical',\n",
       " 'war',\n",
       " 'noir',\n",
       " 'family',\n",
       " 'fantasy',\n",
       " 'historical',\n",
       " 'biography',\n",
       " 'social',\n",
       " 'documentary',\n",
       " 'serial',\n",
       " 'sport']"
      ]
     },
     "execution_count": 11,
     "metadata": {},
     "output_type": "execute_result"
    }
   ],
   "source": [
    "vc = df['Genre2'].value_counts()\n",
    "genres_to_fetch = vc[vc < 1000].index.tolist()\n",
    "genres_to_fetch"
   ]
  },
  {
   "cell_type": "code",
   "execution_count": 12,
   "metadata": {},
   "outputs": [],
   "source": [
    "#LINKS GETTER FUNCTIONS\n",
    "import requests\n",
    "from bs4 import BeautifulSoup\n",
    "\n",
    "def get_links(src, stw=\"/\", genre=\"\", listof=False):\n",
    "    links = []\n",
    "    soup = BeautifulSoup(src)\n",
    "    if not listof:\n",
    "        for link in soup.find_all('a'):\n",
    "            href = link.get('href')\n",
    "            if href and href.startswith(stw) and genre.replace(\" \",\"_\") in href.lower():\n",
    "                links.append(href)\n",
    "                \n",
    "    else:\n",
    "        for link in soup.find_all('i'):\n",
    "            if link.find('a'):\n",
    "                href = link.find('a').get('href')\n",
    "                if href and href.startswith(stw) and genre.replace(\" \",\"_\") in href.lower():\n",
    "                    links.append(href)\n",
    "        \n",
    "            \n",
    "    return links\n",
    "\n",
    "def request_links(base, in_links, listof=False):\n",
    "    out_links = []\n",
    "    if type(in_links) == list:\n",
    "        response = [ requests.get(base+link).text for link in set(in_links) ]\n",
    "        for res in response:\n",
    "            out_links.extend(get_links(res,listof=listof))\n",
    "\n",
    "    else:\n",
    "        res = requests.get(base+in_links).text\n",
    "        out_links.extend(get_links(res,listof=listof))\n",
    "        \n",
    "    return out_links"
   ]
  },
  {
   "cell_type": "code",
   "execution_count": 13,
   "metadata": {},
   "outputs": [],
   "source": [
    "#FETCHING FUNCTIONS\n",
    "def fetching_title_plot(soup):\n",
    "    if soup.find(\"span\", {\"id\":\"Plot\"}):\n",
    "        title = soup.find(\"h1\", {\"id\":\"firstHeading\"}).text\n",
    "        plot_span = soup.find(\"span\", {\"id\":\"Plot\"})\n",
    "        obj = plot_span.find_parent()\n",
    "        plot = \"\"\n",
    "        while True:\n",
    "            obj = obj.next_sibling\n",
    "            if obj.name not in ['p','h2']:\n",
    "                continue\n",
    "            elif obj.name == 'p':\n",
    "                plot += obj.text.strip('\\n')\n",
    "            elif obj.name == 'h2':\n",
    "                break\n",
    "\n",
    "        return title, plot\n",
    "\n",
    "    else:\n",
    "        return None, None\n",
    "        \n",
    "\n",
    "def fetching_cast(soup):\n",
    "    if soup.find('th', string='Starring'):\n",
    "        starring = soup.find('th', string='Starring')\n",
    "        starring_sib = starring.nextSibling\n",
    "        cast = [star.get('title') for star in starring_sib.find_all('a')]\n",
    "\n",
    "    else:\n",
    "        cast = []\n",
    "\n",
    "    return cast\n",
    "\n",
    "def fetching_director_date(soup):\n",
    "    if soup.find(\"th\", string='Directed by'):\n",
    "        director = soup.find(\"th\", string='Directed by')\n",
    "        director = director.nextSibling.text\n",
    "        \n",
    "    else:\n",
    "        director = None\n",
    "\n",
    "    if soup.find(\"th\", string='Release date'):\n",
    "        date = soup.find(\"th\", string='Release date')\n",
    "        date = date.nextSibling.text\n",
    "        date = re.findall(r\"\\d{4}\",date)[0]\n",
    "    \n",
    "    else:\n",
    "        date = None\n",
    "\n",
    "    return director, date\n",
    "\n",
    "\n",
    "#FINAL FETCHING FUNCTION\n",
    "def fetching_film_info(link):\n",
    "    html = requests.get(link).text\n",
    "    soup = BeautifulSoup(html)\n",
    "    title, plot = fetching_title_plot(soup)\n",
    "    director, date = fetching_director_date(soup)\n",
    "    cast = fetching_cast(soup)\n",
    "    film_info = {'Release Year': date, 'Title':title, 'Director':director, 'Cast': cast, 'Plot':plot} if plot is not None else None\n",
    "    return film_info\n"
   ]
  },
  {
   "cell_type": "code",
   "execution_count": 14,
   "metadata": {},
   "outputs": [],
   "source": [
    "#SCRAPING FUNCTIONS\n",
    "import time\n",
    "from concurrent.futures import ThreadPoolExecutor, as_completed\n",
    "import threading\n",
    "from functools import partial\n",
    "\n",
    "#scraping function\n",
    "def plot_scraper(film_list, genre, link):\n",
    "    f_link = \"https://en.wikipedia.org\"+link\n",
    "    film_info = fetching_film_info(f_link)\n",
    "    if film_info is not None:\n",
    "        film_info.update({'Genre':genre})\n",
    "        film_list.append(film_info)\n",
    "    \n",
    "#multithreaded scraping with iqdm\n",
    "def set_up_threads(links, film_list, genre):\n",
    "    l = len(links)\n",
    "    with tqdm(total=l) as pbar:\n",
    "        with ThreadPoolExecutor(max_workers=8) as executor:\n",
    "            futures = { executor.submit(plot_scraper, film_list, genre, link): link for link in links }\n",
    "            for future in as_completed(futures):\n",
    "                pbar.update(1)\n",
    "\n",
    "#old multithreaded scraping function\n",
    "#def set_up_threads(links, film_list, genre):\n",
    "#    with ThreadPoolExecutor(max_workers=6) as executor:\n",
    "#        return executor.map( partial(plot_scraper, film_list, genre),links,timeout=30 )    \n",
    "            \n",
    "    "
   ]
  },
  {
   "cell_type": "markdown",
   "metadata": {
    "scrolled": true
   },
   "source": [
    "#test cell for film scraping with single genre\n",
    "base = \"https://en.wikipedia.org\"\n",
    "genres_link = \"https://en.wikipedia.org/wiki/Template:Films_by_genre_sidebar\"\n",
    "main_res = requests.get(genres_link).text\n",
    "genre_links = get_links(main_res, \"/wiki/List\", 'western')\n",
    "genre_sublinks = request_links(base, genre_links)\n",
    "\n",
    "films = []\n",
    "set_up_threads( genre_sublinks[:50], films, 'western' )\n",
    "films"
   ]
  },
  {
   "cell_type": "code",
   "execution_count": 15,
   "metadata": {
    "scrolled": true
   },
   "outputs": [
    {
     "name": "stdout",
     "output_type": "stream",
     "text": [
      "WESTERN\n"
     ]
    },
    {
     "data": {
      "application/vnd.jupyter.widget-view+json": {
       "model_id": "09fdab76bd92477fb073e043e021d977",
       "version_major": 2,
       "version_minor": 0
      },
      "text/plain": [
       "HBox(children=(FloatProgress(value=0.0, max=1.0), HTML(value='')))"
      ]
     },
     "metadata": {},
     "output_type": "display_data"
    },
    {
     "name": "stdout",
     "output_type": "stream",
     "text": [
      "Fetching films -->\n",
      "Fetching films from sublists for  WESTERN\n"
     ]
    },
    {
     "data": {
      "application/vnd.jupyter.widget-view+json": {
       "model_id": "cf89a132eb1b4388b2ac69489658a781",
       "version_major": 2,
       "version_minor": 0
      },
      "text/plain": [
       "HBox(children=(FloatProgress(value=0.0, max=174.0), HTML(value='')))"
      ]
     },
     "metadata": {},
     "output_type": "display_data"
    },
    {
     "name": "stdout",
     "output_type": "stream",
     "text": [
      "\n",
      "Scraping -->\n",
      "\n"
     ]
    },
    {
     "data": {
      "application/vnd.jupyter.widget-view+json": {
       "model_id": "b6c7aff919084ce0ac64a0a41accfc77",
       "version_major": 2,
       "version_minor": 0
      },
      "text/plain": [
       "HBox(children=(FloatProgress(value=0.0, max=3423.0), HTML(value='')))"
      ]
     },
     "metadata": {},
     "output_type": "display_data"
    },
    {
     "name": "stdout",
     "output_type": "stream",
     "text": [
      "\n",
      "\n",
      "ANIMATION\n"
     ]
    },
    {
     "data": {
      "application/vnd.jupyter.widget-view+json": {
       "model_id": "7780d02e00c54b82bc8e5a5ed44806ce",
       "version_major": 2,
       "version_minor": 0
      },
      "text/plain": [
       "HBox(children=(FloatProgress(value=1.0, bar_style='info', max=1.0), HTML(value='')))"
      ]
     },
     "metadata": {},
     "output_type": "display_data"
    },
    {
     "name": "stdout",
     "output_type": "stream",
     "text": [
      "\n",
      "SCIENCE FICTION\n"
     ]
    },
    {
     "data": {
      "application/vnd.jupyter.widget-view+json": {
       "model_id": "461f7e4597fb4ef1ae8aa1b5999c66b6",
       "version_major": 2,
       "version_minor": 0
      },
      "text/plain": [
       "HBox(children=(FloatProgress(value=0.0, max=2.0), HTML(value='')))"
      ]
     },
     "metadata": {},
     "output_type": "display_data"
    },
    {
     "name": "stdout",
     "output_type": "stream",
     "text": [
      "Fetching films -->\n",
      "Fetching films from sublists for  SCIENCE FICTION\n"
     ]
    },
    {
     "data": {
      "application/vnd.jupyter.widget-view+json": {
       "model_id": "3fe1823c42e34062966cd00298a16153",
       "version_major": 2,
       "version_minor": 0
      },
      "text/plain": [
       "HBox(children=(FloatProgress(value=0.0, max=419.0), HTML(value='')))"
      ]
     },
     "metadata": {},
     "output_type": "display_data"
    },
    {
     "name": "stdout",
     "output_type": "stream",
     "text": [
      "\n",
      "Scraping -->\n",
      "\n"
     ]
    },
    {
     "data": {
      "application/vnd.jupyter.widget-view+json": {
       "model_id": "c47c836b032d4408a8bce1fc42fecbee",
       "version_major": 2,
       "version_minor": 0
      },
      "text/plain": [
       "HBox(children=(FloatProgress(value=0.0, max=2180.0), HTML(value='')))"
      ]
     },
     "metadata": {},
     "output_type": "display_data"
    },
    {
     "name": "stdout",
     "output_type": "stream",
     "text": [
      "\n",
      "Fetching films -->\n",
      "Scraping -->\n",
      "\n"
     ]
    },
    {
     "data": {
      "application/vnd.jupyter.widget-view+json": {
       "model_id": "9f22863256594f339364bf9395449c10",
       "version_major": 2,
       "version_minor": 0
      },
      "text/plain": [
       "HBox(children=(FloatProgress(value=0.0, max=1291.0), HTML(value='')))"
      ]
     },
     "metadata": {},
     "output_type": "display_data"
    },
    {
     "name": "stdout",
     "output_type": "stream",
     "text": [
      "\n",
      "\n",
      "ADVENTURE\n"
     ]
    },
    {
     "data": {
      "application/vnd.jupyter.widget-view+json": {
       "model_id": "9f4fda39bef34cc894297b54af222577",
       "version_major": 2,
       "version_minor": 0
      },
      "text/plain": [
       "HBox(children=(FloatProgress(value=0.0, max=1.0), HTML(value='')))"
      ]
     },
     "metadata": {},
     "output_type": "display_data"
    },
    {
     "name": "stdout",
     "output_type": "stream",
     "text": [
      "Fetching films -->\n",
      "Fetching films from sublists for  ADVENTURE\n"
     ]
    },
    {
     "data": {
      "application/vnd.jupyter.widget-view+json": {
       "model_id": "fb35c2821b6048e9ab975e7681c32a30",
       "version_major": 2,
       "version_minor": 0
      },
      "text/plain": [
       "HBox(children=(FloatProgress(value=0.0, max=150.0), HTML(value='')))"
      ]
     },
     "metadata": {},
     "output_type": "display_data"
    },
    {
     "name": "stdout",
     "output_type": "stream",
     "text": [
      "\n",
      "Scraping -->\n",
      "\n"
     ]
    },
    {
     "data": {
      "application/vnd.jupyter.widget-view+json": {
       "model_id": "5468683340454aa6b642d242339597f7",
       "version_major": 2,
       "version_minor": 0
      },
      "text/plain": [
       "HBox(children=(FloatProgress(value=0.0, max=3974.0), HTML(value='')))"
      ]
     },
     "metadata": {},
     "output_type": "display_data"
    },
    {
     "name": "stdout",
     "output_type": "stream",
     "text": [
      "\n",
      "\n",
      "MUSICAL\n"
     ]
    },
    {
     "data": {
      "application/vnd.jupyter.widget-view+json": {
       "model_id": "cb33e6013a8b4be093d69264b5ba87ef",
       "version_major": 2,
       "version_minor": 0
      },
      "text/plain": [
       "HBox(children=(FloatProgress(value=0.0, max=1.0), HTML(value='')))"
      ]
     },
     "metadata": {},
     "output_type": "display_data"
    },
    {
     "name": "stdout",
     "output_type": "stream",
     "text": [
      "Fetching films -->\n",
      "Scraping -->\n",
      "\n"
     ]
    },
    {
     "data": {
      "application/vnd.jupyter.widget-view+json": {
       "model_id": "1f9ac2ba06ba4adf9ced7375788f3058",
       "version_major": 2,
       "version_minor": 0
      },
      "text/plain": [
       "HBox(children=(FloatProgress(value=0.0, max=2132.0), HTML(value='')))"
      ]
     },
     "metadata": {},
     "output_type": "display_data"
    },
    {
     "name": "stdout",
     "output_type": "stream",
     "text": [
      "\n",
      "\n",
      "WAR\n"
     ]
    },
    {
     "data": {
      "application/vnd.jupyter.widget-view+json": {
       "model_id": "e48680a3a9e0496fafe99926f4a0a674",
       "version_major": 2,
       "version_minor": 0
      },
      "text/plain": [
       "HBox(children=(FloatProgress(value=0.0, max=2.0), HTML(value='')))"
      ]
     },
     "metadata": {},
     "output_type": "display_data"
    },
    {
     "name": "stdout",
     "output_type": "stream",
     "text": [
      "Fetching films -->\n",
      "Scraping -->\n",
      "\n"
     ]
    },
    {
     "data": {
      "application/vnd.jupyter.widget-view+json": {
       "model_id": "d7da8c116c7b4cf9820f45f60f1a1cb2",
       "version_major": 2,
       "version_minor": 0
      },
      "text/plain": [
       "HBox(children=(FloatProgress(value=0.0, max=174.0), HTML(value='')))"
      ]
     },
     "metadata": {},
     "output_type": "display_data"
    },
    {
     "name": "stdout",
     "output_type": "stream",
     "text": [
      "\n",
      "Fetching films -->\n",
      "Scraping -->\n",
      "\n"
     ]
    },
    {
     "data": {
      "application/vnd.jupyter.widget-view+json": {
       "model_id": "0cd426e600954fad84ea908b5f3bae3d",
       "version_major": 2,
       "version_minor": 0
      },
      "text/plain": [
       "HBox(children=(FloatProgress(value=0.0, max=856.0), HTML(value='')))"
      ]
     },
     "metadata": {},
     "output_type": "display_data"
    },
    {
     "name": "stdout",
     "output_type": "stream",
     "text": [
      "\n",
      "\n",
      "NOIR\n"
     ]
    },
    {
     "data": {
      "application/vnd.jupyter.widget-view+json": {
       "model_id": "a551485dd5224158a95b10a01308e0b5",
       "version_major": 2,
       "version_minor": 0
      },
      "text/plain": [
       "HBox(children=(FloatProgress(value=0.0, max=2.0), HTML(value='')))"
      ]
     },
     "metadata": {},
     "output_type": "display_data"
    },
    {
     "name": "stdout",
     "output_type": "stream",
     "text": [
      "Fetching films -->\n",
      "Scraping -->\n",
      "\n"
     ]
    },
    {
     "data": {
      "application/vnd.jupyter.widget-view+json": {
       "model_id": "5023ba872b6b47daaa5720dd245914af",
       "version_major": 2,
       "version_minor": 0
      },
      "text/plain": [
       "HBox(children=(FloatProgress(value=0.0, max=1103.0), HTML(value='')))"
      ]
     },
     "metadata": {},
     "output_type": "display_data"
    },
    {
     "name": "stdout",
     "output_type": "stream",
     "text": [
      "\n",
      "Fetching films -->\n",
      "Scraping -->\n",
      "\n"
     ]
    },
    {
     "data": {
      "application/vnd.jupyter.widget-view+json": {
       "model_id": "a3c1fbbdf0ce44138421305c0148e7b8",
       "version_major": 2,
       "version_minor": 0
      },
      "text/plain": [
       "HBox(children=(FloatProgress(value=0.0, max=1429.0), HTML(value='')))"
      ]
     },
     "metadata": {},
     "output_type": "display_data"
    },
    {
     "name": "stdout",
     "output_type": "stream",
     "text": [
      "\n",
      "\n",
      "FAMILY\n"
     ]
    },
    {
     "data": {
      "application/vnd.jupyter.widget-view+json": {
       "model_id": "0236d46cf7b54344a7aa504446110ec7",
       "version_major": 2,
       "version_minor": 0
      },
      "text/plain": [
       "HBox(children=(FloatProgress(value=1.0, bar_style='info', max=1.0), HTML(value='')))"
      ]
     },
     "metadata": {},
     "output_type": "display_data"
    },
    {
     "name": "stdout",
     "output_type": "stream",
     "text": [
      "\n",
      "FANTASY\n"
     ]
    },
    {
     "data": {
      "application/vnd.jupyter.widget-view+json": {
       "model_id": "40605de4261c41ac818740b6eddb9708",
       "version_major": 2,
       "version_minor": 0
      },
      "text/plain": [
       "HBox(children=(FloatProgress(value=0.0, max=1.0), HTML(value='')))"
      ]
     },
     "metadata": {},
     "output_type": "display_data"
    },
    {
     "name": "stdout",
     "output_type": "stream",
     "text": [
      "Fetching films -->\n",
      "Fetching films from sublists for  FANTASY\n"
     ]
    },
    {
     "data": {
      "application/vnd.jupyter.widget-view+json": {
       "model_id": "7f477662ad644bcda9402a8f8e81562d",
       "version_major": 2,
       "version_minor": 0
      },
      "text/plain": [
       "HBox(children=(FloatProgress(value=0.0, max=370.0), HTML(value='')))"
      ]
     },
     "metadata": {},
     "output_type": "display_data"
    },
    {
     "name": "stdout",
     "output_type": "stream",
     "text": [
      "\n",
      "Scraping -->\n",
      "\n"
     ]
    },
    {
     "data": {
      "application/vnd.jupyter.widget-view+json": {
       "model_id": "8affe5dc61bf43baa7e6819a1952666d",
       "version_major": 2,
       "version_minor": 0
      },
      "text/plain": [
       "HBox(children=(FloatProgress(value=0.0, max=1069.0), HTML(value='')))"
      ]
     },
     "metadata": {},
     "output_type": "display_data"
    },
    {
     "name": "stdout",
     "output_type": "stream",
     "text": [
      "\n",
      "\n",
      "HISTORICAL\n"
     ]
    },
    {
     "data": {
      "application/vnd.jupyter.widget-view+json": {
       "model_id": "f4125212e76d43598b45e61cf434954b",
       "version_major": 2,
       "version_minor": 0
      },
      "text/plain": [
       "HBox(children=(FloatProgress(value=1.0, bar_style='info', max=1.0), HTML(value='')))"
      ]
     },
     "metadata": {},
     "output_type": "display_data"
    },
    {
     "name": "stdout",
     "output_type": "stream",
     "text": [
      "\n",
      "BIOGRAPHY\n"
     ]
    },
    {
     "data": {
      "application/vnd.jupyter.widget-view+json": {
       "model_id": "261dc5220dbf4313bde52c6c2bdfb0cb",
       "version_major": 2,
       "version_minor": 0
      },
      "text/plain": [
       "HBox(children=(FloatProgress(value=1.0, bar_style='info', max=1.0), HTML(value='')))"
      ]
     },
     "metadata": {},
     "output_type": "display_data"
    },
    {
     "name": "stdout",
     "output_type": "stream",
     "text": [
      "\n",
      "SOCIAL\n"
     ]
    },
    {
     "data": {
      "application/vnd.jupyter.widget-view+json": {
       "model_id": "9780ad3f4d494d49a07d5ae7801da701",
       "version_major": 2,
       "version_minor": 0
      },
      "text/plain": [
       "HBox(children=(FloatProgress(value=1.0, bar_style='info', max=1.0), HTML(value='')))"
      ]
     },
     "metadata": {},
     "output_type": "display_data"
    },
    {
     "name": "stdout",
     "output_type": "stream",
     "text": [
      "\n",
      "DOCUMENTARY\n"
     ]
    },
    {
     "data": {
      "application/vnd.jupyter.widget-view+json": {
       "model_id": "5c64eb089b1c41948553fb5be04e4305",
       "version_major": 2,
       "version_minor": 0
      },
      "text/plain": [
       "HBox(children=(FloatProgress(value=0.0, max=1.0), HTML(value='')))"
      ]
     },
     "metadata": {},
     "output_type": "display_data"
    },
    {
     "name": "stdout",
     "output_type": "stream",
     "text": [
      "Fetching films -->\n",
      "Scraping -->\n",
      "\n"
     ]
    },
    {
     "data": {
      "application/vnd.jupyter.widget-view+json": {
       "model_id": "027161c5f61b40bca76f2e8ea08bbb0d",
       "version_major": 2,
       "version_minor": 0
      },
      "text/plain": [
       "HBox(children=(FloatProgress(value=0.0, max=4175.0), HTML(value='')))"
      ]
     },
     "metadata": {},
     "output_type": "display_data"
    },
    {
     "name": "stdout",
     "output_type": "stream",
     "text": [
      "\n",
      "\n",
      "SERIAL\n"
     ]
    },
    {
     "data": {
      "application/vnd.jupyter.widget-view+json": {
       "model_id": "b69b2a52c3f048948fc8acf284c685cc",
       "version_major": 2,
       "version_minor": 0
      },
      "text/plain": [
       "HBox(children=(FloatProgress(value=1.0, bar_style='info', max=1.0), HTML(value='')))"
      ]
     },
     "metadata": {},
     "output_type": "display_data"
    },
    {
     "name": "stdout",
     "output_type": "stream",
     "text": [
      "\n",
      "SPORT\n"
     ]
    },
    {
     "data": {
      "application/vnd.jupyter.widget-view+json": {
       "model_id": "aac3b69bc382441fa46ad8dd1eb3abcd",
       "version_major": 2,
       "version_minor": 0
      },
      "text/plain": [
       "HBox(children=(FloatProgress(value=0.0, max=1.0), HTML(value='')))"
      ]
     },
     "metadata": {},
     "output_type": "display_data"
    },
    {
     "name": "stdout",
     "output_type": "stream",
     "text": [
      "Fetching films -->\n",
      "Scraping -->\n",
      "\n"
     ]
    },
    {
     "data": {
      "application/vnd.jupyter.widget-view+json": {
       "model_id": "747c8ead9cd344988b97301c57d3806c",
       "version_major": 2,
       "version_minor": 0
      },
      "text/plain": [
       "HBox(children=(FloatProgress(value=0.0, max=1419.0), HTML(value='')))"
      ]
     },
     "metadata": {},
     "output_type": "display_data"
    },
    {
     "name": "stdout",
     "output_type": "stream",
     "text": [
      "\n",
      "\n"
     ]
    }
   ],
   "source": [
    "from tqdm.notebook import tqdm_notebook as tqdm\n",
    "#main scraping cycle\n",
    "base = \"https://en.wikipedia.org\"\n",
    "genres_link = \"https://en.wikipedia.org/wiki/Template:Films_by_genre_sidebar\"\n",
    "main_res = requests.get(genres_link).text\n",
    "\n",
    "#final films list to populate with new scraped films\n",
    "films_list = []\n",
    "\n",
    "for genre in genres_to_fetch:\n",
    "    print(genre.upper())\n",
    "    genre_links = get_links(main_res, \"/wiki/List\", genre)\n",
    "    for link in tqdm(genre_links):\n",
    "        print(\"Fetching films -->\")\n",
    "        genre_sublinks = set(request_links(base, link))\n",
    "        \n",
    "        if \"Lists\" in link:\n",
    "            final_genre_sublinks = []\n",
    "            \n",
    "            print(\"Fetching films from sublists for \", genre.upper())\n",
    "            for fl in tqdm(genre_sublinks):\n",
    "                genre_to_match = genre.title() if genre == 'western' else genre.replace(\" \", \"_\")\n",
    "                genre_to_match = \"List_of_\"+genre_to_match+\"_films\"\n",
    "                if genre_to_match in fl:\n",
    "                    real_fl = request_links(base, fl, listof=True)\n",
    "                    final_genre_sublinks.extend(real_fl)\n",
    "                    \n",
    "            print(\"Scraping -->\\n\")\n",
    "            set_up_threads(set(final_genre_sublinks), films_list, genre)\n",
    "        else:\n",
    "            print(\"Scraping -->\\n\")\n",
    "            set_up_threads(genre_sublinks, films_list, genre)\n",
    "            "
   ]
  },
  {
   "cell_type": "code",
   "execution_count": 56,
   "metadata": {},
   "outputs": [],
   "source": [
    "df_scraped = pd.DataFrame(films_list)\n",
    "df_scraped.to_csv('scraped_movies.csv',index=False)"
   ]
  },
  {
   "cell_type": "code",
   "execution_count": 57,
   "metadata": {},
   "outputs": [],
   "source": [
    "df = df.drop(['Genre','Wiki Page', 'Origin/Ethnicity'], axis=1).rename({'Genre2':'Genre'},axis=1)\n",
    "df = pd.concat([df,df_scraped], ignore_index=True)\n",
    "df.to_csv('movie_dataset_classification.csv')"
   ]
  },
  {
   "cell_type": "code",
   "execution_count": null,
   "metadata": {},
   "outputs": [],
   "source": []
  }
 ],
 "metadata": {
  "kernelspec": {
   "display_name": "Python 3",
   "language": "python",
   "name": "python3"
  },
  "language_info": {
   "codemirror_mode": {
    "name": "ipython",
    "version": 3
   },
   "file_extension": ".py",
   "mimetype": "text/x-python",
   "name": "python",
   "nbconvert_exporter": "python",
   "pygments_lexer": "ipython3",
   "version": "3.8.3"
  }
 },
 "nbformat": 4,
 "nbformat_minor": 4
}
