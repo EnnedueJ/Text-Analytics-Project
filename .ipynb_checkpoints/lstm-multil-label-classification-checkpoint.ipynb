{
 "cells": [
  {
   "cell_type": "code",
   "execution_count": 1,
   "metadata": {
    "_cell_guid": "b1076dfc-b9ad-4769-8c92-a6c4dae69d19",
    "_uuid": "8f2839f25d086af736a60e9eeb907d3b93b6e0e5",
    "execution": {
     "iopub.execute_input": "2021-12-31T15:07:17.194836Z",
     "iopub.status.busy": "2021-12-31T15:07:17.194022Z",
     "iopub.status.idle": "2021-12-31T15:07:23.298777Z",
     "shell.execute_reply": "2021-12-31T15:07:23.298093Z",
     "shell.execute_reply.started": "2021-12-31T14:01:21.100597Z"
    },
    "papermill": {
     "duration": 6.14454,
     "end_time": "2021-12-31T15:07:23.298944",
     "exception": false,
     "start_time": "2021-12-31T15:07:17.154404",
     "status": "completed"
    },
    "tags": []
   },
   "outputs": [],
   "source": [
    "import numpy as np\n",
    "import tensorflow as tf\n",
    "\n",
    "from tensorflow.python.client import device_lib\n",
    "\n",
    "gpus = tf.config.list_physical_devices('GPU')\n",
    "if gpus:\n",
    "  # Restrict TensorFlow to only use the first GPU\n",
    "  try:\n",
    "    tf.config.set_visible_devices(gpus[0], 'GPU')\n",
    "    logical_gpus = tf.config.list_logical_devices('GPU')\n",
    "    print(len(gpus), \"Physical GPUs,\", len(logical_gpus), \"Logical GPU\")\n",
    "  except RuntimeError as e:\n",
    "    # Visible devices must be set before GPUs have been initialized\n",
    "    print(e)"
   ]
  },
  {
   "cell_type": "code",
   "execution_count": 2,
   "metadata": {
    "execution": {
     "iopub.execute_input": "2021-12-31T15:07:23.357815Z",
     "iopub.status.busy": "2021-12-31T15:07:23.357196Z",
     "iopub.status.idle": "2021-12-31T15:07:23.825082Z",
     "shell.execute_reply": "2021-12-31T15:07:23.825488Z",
     "shell.execute_reply.started": "2021-12-31T14:01:21.273479Z"
    },
    "papermill": {
     "duration": 0.49907,
     "end_time": "2021-12-31T15:07:23.825633",
     "exception": false,
     "start_time": "2021-12-31T15:07:23.326563",
     "status": "completed"
    },
    "tags": []
   },
   "outputs": [
    {
     "data": {
      "text/plain": [
       "(33812, 3)"
      ]
     },
     "execution_count": 2,
     "metadata": {},
     "output_type": "execute_result"
    }
   ],
   "source": [
    "import pandas as pd\n",
    "\n",
    "df = pd.read_csv('../movie_plots_yts.csv',index_col=0)\n",
    "#df = pd.read_csv('../input/multilabel-movies-df/Multilabel_movies_df.csv',index_col=0)\n",
    "df.shape"
   ]
  },
  {
   "cell_type": "code",
   "execution_count": 3,
   "metadata": {
    "execution": {
     "iopub.execute_input": "2021-12-31T15:07:23.886429Z",
     "iopub.status.busy": "2021-12-31T15:07:23.885768Z",
     "iopub.status.idle": "2021-12-31T15:07:23.896692Z",
     "shell.execute_reply": "2021-12-31T15:07:23.897213Z",
     "shell.execute_reply.started": "2021-12-31T14:01:21.490235Z"
    },
    "papermill": {
     "duration": 0.043692,
     "end_time": "2021-12-31T15:07:23.897345",
     "exception": false,
     "start_time": "2021-12-31T15:07:23.853653",
     "status": "completed"
    },
    "tags": []
   },
   "outputs": [
    {
     "data": {
      "text/html": [
       "<div>\n",
       "<style scoped>\n",
       "    .dataframe tbody tr th:only-of-type {\n",
       "        vertical-align: middle;\n",
       "    }\n",
       "\n",
       "    .dataframe tbody tr th {\n",
       "        vertical-align: top;\n",
       "    }\n",
       "\n",
       "    .dataframe thead th {\n",
       "        text-align: right;\n",
       "    }\n",
       "</style>\n",
       "<table border=\"1\" class=\"dataframe\">\n",
       "  <thead>\n",
       "    <tr style=\"text-align: right;\">\n",
       "      <th></th>\n",
       "      <th>Title</th>\n",
       "      <th>Plot</th>\n",
       "      <th>Genres</th>\n",
       "    </tr>\n",
       "  </thead>\n",
       "  <tbody>\n",
       "    <tr>\n",
       "      <th>0</th>\n",
       "      <td>Who is Amos Otis?</td>\n",
       "      <td>After assassinating the President, Amos Otis p...</td>\n",
       "      <td>Drama</td>\n",
       "    </tr>\n",
       "    <tr>\n",
       "      <th>1</th>\n",
       "      <td>Wheel of Time</td>\n",
       "      <td>Wheel of Time is Werner Herzog's photographed ...</td>\n",
       "      <td>Documentary</td>\n",
       "    </tr>\n",
       "    <tr>\n",
       "      <th>3</th>\n",
       "      <td>'B' Girl Rhapsody</td>\n",
       "      <td>Burlesque beauties performing their signature ...</td>\n",
       "      <td>Drama</td>\n",
       "    </tr>\n",
       "    <tr>\n",
       "      <th>5</th>\n",
       "      <td>The Brass Bottle</td>\n",
       "      <td>After being released from his bottle by Harold...</td>\n",
       "      <td>Comedy, Fantasy</td>\n",
       "    </tr>\n",
       "    <tr>\n",
       "      <th>6</th>\n",
       "      <td>The Morning After</td>\n",
       "      <td>The Morning After is a feature film that consi...</td>\n",
       "      <td>Comedy, Drama</td>\n",
       "    </tr>\n",
       "    <tr>\n",
       "      <th>...</th>\n",
       "      <td>...</td>\n",
       "      <td>...</td>\n",
       "      <td>...</td>\n",
       "    </tr>\n",
       "    <tr>\n",
       "      <th>38044</th>\n",
       "      <td>100 Bloody Acres</td>\n",
       "      <td>The use of dead car crash victims in the Morga...</td>\n",
       "      <td>Action, Comedy, Horror</td>\n",
       "    </tr>\n",
       "    <tr>\n",
       "      <th>38045</th>\n",
       "      <td>10 Years</td>\n",
       "      <td>The night of their high school reunion, a grou...</td>\n",
       "      <td>Action, Comedy, Drama, Romance</td>\n",
       "    </tr>\n",
       "    <tr>\n",
       "      <th>38046</th>\n",
       "      <td>10 Things I Hate About You</td>\n",
       "      <td>Adapted from William Shakespeare's play \"The T...</td>\n",
       "      <td>Action, Comedy, Drama, Romance</td>\n",
       "    </tr>\n",
       "    <tr>\n",
       "      <th>38047</th>\n",
       "      <td>+1</td>\n",
       "      <td>Three college friends hit the biggest party of...</td>\n",
       "      <td>Action, Horror, Romance, Sci-Fi, Thriller</td>\n",
       "    </tr>\n",
       "    <tr>\n",
       "      <th>38048</th>\n",
       "      <td>Bikini Model Academy</td>\n",
       "      <td>When T. J. and Benji, two California twenty-so...</td>\n",
       "      <td>Action, Comedy</td>\n",
       "    </tr>\n",
       "  </tbody>\n",
       "</table>\n",
       "<p>33812 rows × 3 columns</p>\n",
       "</div>"
      ],
      "text/plain": [
       "                            Title  \\\n",
       "0               Who is Amos Otis?   \n",
       "1                   Wheel of Time   \n",
       "3               'B' Girl Rhapsody   \n",
       "5                The Brass Bottle   \n",
       "6               The Morning After   \n",
       "...                           ...   \n",
       "38044            100 Bloody Acres   \n",
       "38045                    10 Years   \n",
       "38046  10 Things I Hate About You   \n",
       "38047                          +1   \n",
       "38048        Bikini Model Academy   \n",
       "\n",
       "                                                    Plot  \\\n",
       "0      After assassinating the President, Amos Otis p...   \n",
       "1      Wheel of Time is Werner Herzog's photographed ...   \n",
       "3      Burlesque beauties performing their signature ...   \n",
       "5      After being released from his bottle by Harold...   \n",
       "6      The Morning After is a feature film that consi...   \n",
       "...                                                  ...   \n",
       "38044  The use of dead car crash victims in the Morga...   \n",
       "38045  The night of their high school reunion, a grou...   \n",
       "38046  Adapted from William Shakespeare's play \"The T...   \n",
       "38047  Three college friends hit the biggest party of...   \n",
       "38048  When T. J. and Benji, two California twenty-so...   \n",
       "\n",
       "                                          Genres  \n",
       "0                                          Drama  \n",
       "1                                    Documentary  \n",
       "3                                          Drama  \n",
       "5                                Comedy, Fantasy  \n",
       "6                                  Comedy, Drama  \n",
       "...                                          ...  \n",
       "38044                     Action, Comedy, Horror  \n",
       "38045             Action, Comedy, Drama, Romance  \n",
       "38046             Action, Comedy, Drama, Romance  \n",
       "38047  Action, Horror, Romance, Sci-Fi, Thriller  \n",
       "38048                             Action, Comedy  \n",
       "\n",
       "[33812 rows x 3 columns]"
      ]
     },
     "execution_count": 3,
     "metadata": {},
     "output_type": "execute_result"
    }
   ],
   "source": [
    "df"
   ]
  },
  {
   "cell_type": "code",
   "execution_count": 4,
   "metadata": {
    "execution": {
     "iopub.execute_input": "2021-12-31T15:07:23.994073Z",
     "iopub.status.busy": "2021-12-31T15:07:23.966032Z",
     "iopub.status.idle": "2021-12-31T15:07:23.996713Z",
     "shell.execute_reply": "2021-12-31T15:07:23.997198Z",
     "shell.execute_reply.started": "2021-12-31T14:01:21.543574Z"
    },
    "papermill": {
     "duration": 0.071894,
     "end_time": "2021-12-31T15:07:23.997336",
     "exception": false,
     "start_time": "2021-12-31T15:07:23.925442",
     "status": "completed"
    },
    "tags": []
   },
   "outputs": [
    {
     "data": {
      "text/plain": [
       "{'Action',\n",
       " 'Adventure',\n",
       " 'Animation',\n",
       " 'Biography',\n",
       " 'Comedy',\n",
       " 'Crime',\n",
       " 'Documentary',\n",
       " 'Drama',\n",
       " 'Family',\n",
       " 'Fantasy',\n",
       " 'Film-Noir',\n",
       " 'History',\n",
       " 'Horror',\n",
       " 'Music',\n",
       " 'Musical',\n",
       " 'Romance',\n",
       " 'Sci-Fi',\n",
       " 'Sport',\n",
       " 'Thriller',\n",
       " 'War',\n",
       " 'Western'}"
      ]
     },
     "execution_count": 4,
     "metadata": {},
     "output_type": "execute_result"
    }
   ],
   "source": [
    "set([g.strip() for row in df.Genres for g in row.split(\",\")])"
   ]
  },
  {
   "cell_type": "code",
   "execution_count": 5,
   "metadata": {
    "execution": {
     "iopub.execute_input": "2021-12-31T15:07:24.061851Z",
     "iopub.status.busy": "2021-12-31T15:07:24.060314Z",
     "iopub.status.idle": "2021-12-31T15:07:24.062506Z",
     "shell.execute_reply": "2021-12-31T15:07:24.062971Z",
     "shell.execute_reply.started": "2021-12-31T14:01:21.687923Z"
    },
    "papermill": {
     "duration": 0.036674,
     "end_time": "2021-12-31T15:07:24.063108",
     "exception": false,
     "start_time": "2021-12-31T15:07:24.026434",
     "status": "completed"
    },
    "tags": []
   },
   "outputs": [],
   "source": [
    "def prep_genre(genre):\n",
    "    \n",
    "    dict_genres = {\n",
    "        \"Musical\":\"Music\",\n",
    "        \"Crime\":\"Thriller\",\n",
    "        \"Film-Noir\":\"Thriller\",\n",
    "        \"Biography\":\"Documentary\",\n",
    "        \"Sci-Fi\":\"Sci-Fi & Fantasy\",\n",
    "        \"Fantasy\":\"Sci-Fi & Fantasy\",\n",
    "        \"Action\":\"Action & Adventure\",\n",
    "        \"Adventure\":\"Action & Adventure\"\n",
    "    }\n",
    "        \n",
    "    genre = genre.replace(\" \",\"\")\n",
    "    \n",
    "    if len(genre.split(\",\")) > 0:\n",
    "        genres = genre.split(\",\")\n",
    "        genres = \",\".join(list(set([ dict_genres[genre] if genre in dict_genres.keys() else genre for genre in genres ])))\n",
    "        \n",
    "    return genres\n",
    "    "
   ]
  },
  {
   "cell_type": "code",
   "execution_count": 6,
   "metadata": {
    "execution": {
     "iopub.execute_input": "2021-12-31T15:07:24.123402Z",
     "iopub.status.busy": "2021-12-31T15:07:24.121355Z",
     "iopub.status.idle": "2021-12-31T15:07:24.126039Z",
     "shell.execute_reply": "2021-12-31T15:07:24.126484Z",
     "shell.execute_reply.started": "2021-12-31T14:01:21.823110Z"
    },
    "papermill": {
     "duration": 0.035345,
     "end_time": "2021-12-31T15:07:24.126609",
     "exception": false,
     "start_time": "2021-12-31T15:07:24.091264",
     "status": "completed"
    },
    "tags": []
   },
   "outputs": [
    {
     "data": {
      "text/plain": [
       "'Action & Adventure,Comedy,Thriller'"
      ]
     },
     "execution_count": 6,
     "metadata": {},
     "output_type": "execute_result"
    }
   ],
   "source": [
    "prep_genre(\"Action, Comedy, Thriller, Film-Noir\")"
   ]
  },
  {
   "cell_type": "code",
   "execution_count": 7,
   "metadata": {
    "execution": {
     "iopub.execute_input": "2021-12-31T15:07:24.193223Z",
     "iopub.status.busy": "2021-12-31T15:07:24.192475Z",
     "iopub.status.idle": "2021-12-31T15:07:24.293472Z",
     "shell.execute_reply": "2021-12-31T15:07:24.293048Z",
     "shell.execute_reply.started": "2021-12-31T14:01:22.392681Z"
    },
    "papermill": {
     "duration": 0.137851,
     "end_time": "2021-12-31T15:07:24.293570",
     "exception": false,
     "start_time": "2021-12-31T15:07:24.155719",
     "status": "completed"
    },
    "tags": []
   },
   "outputs": [],
   "source": [
    "df['Genres'] = df['Genres'].apply(prep_genre)"
   ]
  },
  {
   "cell_type": "code",
   "execution_count": 8,
   "metadata": {
    "execution": {
     "iopub.execute_input": "2021-12-31T15:07:24.384352Z",
     "iopub.status.busy": "2021-12-31T15:07:24.362691Z",
     "iopub.status.idle": "2021-12-31T15:07:24.386657Z",
     "shell.execute_reply": "2021-12-31T15:07:24.387047Z",
     "shell.execute_reply.started": "2021-12-31T14:01:22.772120Z"
    },
    "papermill": {
     "duration": 0.065573,
     "end_time": "2021-12-31T15:07:24.387171",
     "exception": false,
     "start_time": "2021-12-31T15:07:24.321598",
     "status": "completed"
    },
    "tags": []
   },
   "outputs": [
    {
     "data": {
      "text/plain": [
       "{'Action & Adventure',\n",
       " 'Animation',\n",
       " 'Comedy',\n",
       " 'Documentary',\n",
       " 'Drama',\n",
       " 'Family',\n",
       " 'History',\n",
       " 'Horror',\n",
       " 'Music',\n",
       " 'Romance',\n",
       " 'Sci-Fi & Fantasy',\n",
       " 'Sport',\n",
       " 'Thriller',\n",
       " 'War',\n",
       " 'Western'}"
      ]
     },
     "execution_count": 8,
     "metadata": {},
     "output_type": "execute_result"
    }
   ],
   "source": [
    "set([g.strip() for row in df.Genres for g in row.split(\",\")])"
   ]
  },
  {
   "cell_type": "code",
   "execution_count": 9,
   "metadata": {
    "execution": {
     "iopub.execute_input": "2021-12-31T15:07:24.508404Z",
     "iopub.status.busy": "2021-12-31T15:07:24.452625Z",
     "iopub.status.idle": "2021-12-31T15:07:24.803476Z",
     "shell.execute_reply": "2021-12-31T15:07:24.802913Z",
     "shell.execute_reply.started": "2021-12-31T14:01:23.441328Z"
    },
    "papermill": {
     "duration": 0.387972,
     "end_time": "2021-12-31T15:07:24.803613",
     "exception": false,
     "start_time": "2021-12-31T15:07:24.415641",
     "status": "completed"
    },
    "tags": []
   },
   "outputs": [],
   "source": [
    "dummy_genres = df['Genres'].str.join(sep='').str.get_dummies(sep=',')\n",
    "df = df.join(dummy_genres)"
   ]
  },
  {
   "cell_type": "code",
   "execution_count": 10,
   "metadata": {
    "execution": {
     "iopub.execute_input": "2021-12-31T15:07:24.866707Z",
     "iopub.status.busy": "2021-12-31T15:07:24.865876Z",
     "iopub.status.idle": "2021-12-31T15:07:24.878317Z",
     "shell.execute_reply": "2021-12-31T15:07:24.877887Z",
     "shell.execute_reply.started": "2021-12-31T14:01:24.493330Z"
    },
    "papermill": {
     "duration": 0.045234,
     "end_time": "2021-12-31T15:07:24.878430",
     "exception": false,
     "start_time": "2021-12-31T15:07:24.833196",
     "status": "completed"
    },
    "tags": []
   },
   "outputs": [
    {
     "data": {
      "text/html": [
       "<div>\n",
       "<style scoped>\n",
       "    .dataframe tbody tr th:only-of-type {\n",
       "        vertical-align: middle;\n",
       "    }\n",
       "\n",
       "    .dataframe tbody tr th {\n",
       "        vertical-align: top;\n",
       "    }\n",
       "\n",
       "    .dataframe thead th {\n",
       "        text-align: right;\n",
       "    }\n",
       "</style>\n",
       "<table border=\"1\" class=\"dataframe\">\n",
       "  <thead>\n",
       "    <tr style=\"text-align: right;\">\n",
       "      <th></th>\n",
       "      <th>Action &amp; Adventure</th>\n",
       "      <th>Animation</th>\n",
       "      <th>Comedy</th>\n",
       "      <th>Documentary</th>\n",
       "      <th>Drama</th>\n",
       "      <th>Family</th>\n",
       "      <th>History</th>\n",
       "      <th>Horror</th>\n",
       "      <th>Music</th>\n",
       "      <th>Romance</th>\n",
       "      <th>Sci-Fi &amp; Fantasy</th>\n",
       "      <th>Sport</th>\n",
       "      <th>Thriller</th>\n",
       "      <th>War</th>\n",
       "      <th>Western</th>\n",
       "    </tr>\n",
       "  </thead>\n",
       "  <tbody>\n",
       "    <tr>\n",
       "      <th>0</th>\n",
       "      <td>0</td>\n",
       "      <td>0</td>\n",
       "      <td>0</td>\n",
       "      <td>0</td>\n",
       "      <td>1</td>\n",
       "      <td>0</td>\n",
       "      <td>0</td>\n",
       "      <td>0</td>\n",
       "      <td>0</td>\n",
       "      <td>0</td>\n",
       "      <td>0</td>\n",
       "      <td>0</td>\n",
       "      <td>0</td>\n",
       "      <td>0</td>\n",
       "      <td>0</td>\n",
       "    </tr>\n",
       "    <tr>\n",
       "      <th>1</th>\n",
       "      <td>0</td>\n",
       "      <td>0</td>\n",
       "      <td>0</td>\n",
       "      <td>1</td>\n",
       "      <td>0</td>\n",
       "      <td>0</td>\n",
       "      <td>0</td>\n",
       "      <td>0</td>\n",
       "      <td>0</td>\n",
       "      <td>0</td>\n",
       "      <td>0</td>\n",
       "      <td>0</td>\n",
       "      <td>0</td>\n",
       "      <td>0</td>\n",
       "      <td>0</td>\n",
       "    </tr>\n",
       "    <tr>\n",
       "      <th>3</th>\n",
       "      <td>0</td>\n",
       "      <td>0</td>\n",
       "      <td>0</td>\n",
       "      <td>0</td>\n",
       "      <td>1</td>\n",
       "      <td>0</td>\n",
       "      <td>0</td>\n",
       "      <td>0</td>\n",
       "      <td>0</td>\n",
       "      <td>0</td>\n",
       "      <td>0</td>\n",
       "      <td>0</td>\n",
       "      <td>0</td>\n",
       "      <td>0</td>\n",
       "      <td>0</td>\n",
       "    </tr>\n",
       "    <tr>\n",
       "      <th>5</th>\n",
       "      <td>0</td>\n",
       "      <td>0</td>\n",
       "      <td>1</td>\n",
       "      <td>0</td>\n",
       "      <td>0</td>\n",
       "      <td>0</td>\n",
       "      <td>0</td>\n",
       "      <td>0</td>\n",
       "      <td>0</td>\n",
       "      <td>0</td>\n",
       "      <td>1</td>\n",
       "      <td>0</td>\n",
       "      <td>0</td>\n",
       "      <td>0</td>\n",
       "      <td>0</td>\n",
       "    </tr>\n",
       "    <tr>\n",
       "      <th>6</th>\n",
       "      <td>0</td>\n",
       "      <td>0</td>\n",
       "      <td>1</td>\n",
       "      <td>0</td>\n",
       "      <td>1</td>\n",
       "      <td>0</td>\n",
       "      <td>0</td>\n",
       "      <td>0</td>\n",
       "      <td>0</td>\n",
       "      <td>0</td>\n",
       "      <td>0</td>\n",
       "      <td>0</td>\n",
       "      <td>0</td>\n",
       "      <td>0</td>\n",
       "      <td>0</td>\n",
       "    </tr>\n",
       "    <tr>\n",
       "      <th>...</th>\n",
       "      <td>...</td>\n",
       "      <td>...</td>\n",
       "      <td>...</td>\n",
       "      <td>...</td>\n",
       "      <td>...</td>\n",
       "      <td>...</td>\n",
       "      <td>...</td>\n",
       "      <td>...</td>\n",
       "      <td>...</td>\n",
       "      <td>...</td>\n",
       "      <td>...</td>\n",
       "      <td>...</td>\n",
       "      <td>...</td>\n",
       "      <td>...</td>\n",
       "      <td>...</td>\n",
       "    </tr>\n",
       "    <tr>\n",
       "      <th>38044</th>\n",
       "      <td>1</td>\n",
       "      <td>0</td>\n",
       "      <td>1</td>\n",
       "      <td>0</td>\n",
       "      <td>0</td>\n",
       "      <td>0</td>\n",
       "      <td>0</td>\n",
       "      <td>1</td>\n",
       "      <td>0</td>\n",
       "      <td>0</td>\n",
       "      <td>0</td>\n",
       "      <td>0</td>\n",
       "      <td>0</td>\n",
       "      <td>0</td>\n",
       "      <td>0</td>\n",
       "    </tr>\n",
       "    <tr>\n",
       "      <th>38045</th>\n",
       "      <td>1</td>\n",
       "      <td>0</td>\n",
       "      <td>1</td>\n",
       "      <td>0</td>\n",
       "      <td>1</td>\n",
       "      <td>0</td>\n",
       "      <td>0</td>\n",
       "      <td>0</td>\n",
       "      <td>0</td>\n",
       "      <td>1</td>\n",
       "      <td>0</td>\n",
       "      <td>0</td>\n",
       "      <td>0</td>\n",
       "      <td>0</td>\n",
       "      <td>0</td>\n",
       "    </tr>\n",
       "    <tr>\n",
       "      <th>38046</th>\n",
       "      <td>1</td>\n",
       "      <td>0</td>\n",
       "      <td>1</td>\n",
       "      <td>0</td>\n",
       "      <td>1</td>\n",
       "      <td>0</td>\n",
       "      <td>0</td>\n",
       "      <td>0</td>\n",
       "      <td>0</td>\n",
       "      <td>1</td>\n",
       "      <td>0</td>\n",
       "      <td>0</td>\n",
       "      <td>0</td>\n",
       "      <td>0</td>\n",
       "      <td>0</td>\n",
       "    </tr>\n",
       "    <tr>\n",
       "      <th>38047</th>\n",
       "      <td>1</td>\n",
       "      <td>0</td>\n",
       "      <td>0</td>\n",
       "      <td>0</td>\n",
       "      <td>0</td>\n",
       "      <td>0</td>\n",
       "      <td>0</td>\n",
       "      <td>1</td>\n",
       "      <td>0</td>\n",
       "      <td>1</td>\n",
       "      <td>1</td>\n",
       "      <td>0</td>\n",
       "      <td>1</td>\n",
       "      <td>0</td>\n",
       "      <td>0</td>\n",
       "    </tr>\n",
       "    <tr>\n",
       "      <th>38048</th>\n",
       "      <td>1</td>\n",
       "      <td>0</td>\n",
       "      <td>1</td>\n",
       "      <td>0</td>\n",
       "      <td>0</td>\n",
       "      <td>0</td>\n",
       "      <td>0</td>\n",
       "      <td>0</td>\n",
       "      <td>0</td>\n",
       "      <td>0</td>\n",
       "      <td>0</td>\n",
       "      <td>0</td>\n",
       "      <td>0</td>\n",
       "      <td>0</td>\n",
       "      <td>0</td>\n",
       "    </tr>\n",
       "  </tbody>\n",
       "</table>\n",
       "<p>33812 rows × 15 columns</p>\n",
       "</div>"
      ],
      "text/plain": [
       "       Action & Adventure  Animation  Comedy  Documentary  Drama  Family  \\\n",
       "0                       0          0       0            0      1       0   \n",
       "1                       0          0       0            1      0       0   \n",
       "3                       0          0       0            0      1       0   \n",
       "5                       0          0       1            0      0       0   \n",
       "6                       0          0       1            0      1       0   \n",
       "...                   ...        ...     ...          ...    ...     ...   \n",
       "38044                   1          0       1            0      0       0   \n",
       "38045                   1          0       1            0      1       0   \n",
       "38046                   1          0       1            0      1       0   \n",
       "38047                   1          0       0            0      0       0   \n",
       "38048                   1          0       1            0      0       0   \n",
       "\n",
       "       History  Horror  Music  Romance  Sci-Fi & Fantasy  Sport  Thriller  \\\n",
       "0            0       0      0        0                 0      0         0   \n",
       "1            0       0      0        0                 0      0         0   \n",
       "3            0       0      0        0                 0      0         0   \n",
       "5            0       0      0        0                 1      0         0   \n",
       "6            0       0      0        0                 0      0         0   \n",
       "...        ...     ...    ...      ...               ...    ...       ...   \n",
       "38044        0       1      0        0                 0      0         0   \n",
       "38045        0       0      0        1                 0      0         0   \n",
       "38046        0       0      0        1                 0      0         0   \n",
       "38047        0       1      0        1                 1      0         1   \n",
       "38048        0       0      0        0                 0      0         0   \n",
       "\n",
       "       War  Western  \n",
       "0        0        0  \n",
       "1        0        0  \n",
       "3        0        0  \n",
       "5        0        0  \n",
       "6        0        0  \n",
       "...    ...      ...  \n",
       "38044    0        0  \n",
       "38045    0        0  \n",
       "38046    0        0  \n",
       "38047    0        0  \n",
       "38048    0        0  \n",
       "\n",
       "[33812 rows x 15 columns]"
      ]
     },
     "execution_count": 10,
     "metadata": {},
     "output_type": "execute_result"
    }
   ],
   "source": [
    "dummy_genres"
   ]
  },
  {
   "cell_type": "code",
   "execution_count": 12,
   "metadata": {
    "execution": {
     "iopub.execute_input": "2021-12-31T14:01:25.110198Z",
     "iopub.status.busy": "2021-12-31T14:01:25.109725Z",
     "iopub.status.idle": "2021-12-31T14:01:25.115943Z",
     "shell.execute_reply": "2021-12-31T14:01:25.115152Z",
     "shell.execute_reply.started": "2021-12-31T14:01:25.110165Z"
    },
    "papermill": {
     "duration": null,
     "end_time": null,
     "exception": null,
     "start_time": null,
     "status": "pending"
    },
    "tags": []
   },
   "outputs": [
    {
     "data": {
      "text/plain": [
       "Index(['Title', 'Plot', 'Genres', 'Action & Adventure', 'Animation', 'Comedy',\n",
       "       'Documentary', 'Drama', 'Family', 'History', 'Horror', 'Music',\n",
       "       'Romance', 'Sci-Fi & Fantasy', 'Sport', 'Thriller', 'War', 'Western'],\n",
       "      dtype='object')"
      ]
     },
     "execution_count": 12,
     "metadata": {},
     "output_type": "execute_result"
    }
   ],
   "source": [
    "df.columns"
   ]
  },
  {
   "cell_type": "markdown",
   "metadata": {
    "papermill": {
     "duration": null,
     "end_time": null,
     "exception": null,
     "start_time": null,
     "status": "pending"
    },
    "tags": []
   },
   "source": [
    "# Tokenization"
   ]
  },
  {
   "cell_type": "code",
   "execution_count": 13,
   "metadata": {
    "execution": {
     "iopub.execute_input": "2021-12-31T14:01:37.087946Z",
     "iopub.status.busy": "2021-12-31T14:01:37.087691Z",
     "iopub.status.idle": "2021-12-31T14:01:37.096880Z",
     "shell.execute_reply": "2021-12-31T14:01:37.096052Z",
     "shell.execute_reply.started": "2021-12-31T14:01:37.087917Z"
    },
    "papermill": {
     "duration": null,
     "end_time": null,
     "exception": null,
     "start_time": null,
     "status": "pending"
    },
    "tags": []
   },
   "outputs": [],
   "source": [
    "from keras.preprocessing import sequence\n",
    "from keras.models import Sequential\n",
    "from keras.layers import Dense, Embedding, SpatialDropout1D\n",
    "from keras.layers import LSTM\n",
    "from keras.preprocessing.text import Tokenizer\n",
    "from keras.preprocessing.sequence import pad_sequences\n",
    "\n",
    "max_features = 8000\n",
    "maxlen = 300\n",
    "embedding_dims = 300\n",
    "\n",
    "X = df['Plot'].values\n",
    "y = np.array(df.drop(['Title','Plot','Genres'], axis=1))"
   ]
  },
  {
   "cell_type": "code",
   "execution_count": 14,
   "metadata": {
    "execution": {
     "iopub.execute_input": "2021-12-31T14:01:37.228719Z",
     "iopub.status.busy": "2021-12-31T14:01:37.228517Z",
     "iopub.status.idle": "2021-12-31T14:01:37.234726Z",
     "shell.execute_reply": "2021-12-31T14:01:37.234007Z",
     "shell.execute_reply.started": "2021-12-31T14:01:37.228695Z"
    },
    "papermill": {
     "duration": null,
     "end_time": null,
     "exception": null,
     "start_time": null,
     "status": "pending"
    },
    "tags": []
   },
   "outputs": [
    {
     "data": {
      "text/plain": [
       "('The Morning After is a feature film that consists of 8 vignettes that are inter-cut throughout the film. The 8 vignettes are about when you wake up next to someone the next morning...',\n",
       " array([0, 0, 1, 0, 1, 0, 0, 0, 0, 0, 0, 0, 0, 0, 0], dtype=int64))"
      ]
     },
     "execution_count": 14,
     "metadata": {},
     "output_type": "execute_result"
    }
   ],
   "source": [
    "X[4], y[4]"
   ]
  },
  {
   "cell_type": "code",
   "execution_count": 15,
   "metadata": {
    "execution": {
     "iopub.execute_input": "2021-12-31T14:01:37.361053Z",
     "iopub.status.busy": "2021-12-31T14:01:37.360740Z",
     "iopub.status.idle": "2021-12-31T14:01:44.221482Z",
     "shell.execute_reply": "2021-12-31T14:01:44.220793Z",
     "shell.execute_reply.started": "2021-12-31T14:01:37.361024Z"
    },
    "papermill": {
     "duration": null,
     "end_time": null,
     "exception": null,
     "start_time": null,
     "status": "pending"
    },
    "tags": []
   },
   "outputs": [
    {
     "data": {
      "text/plain": [
       "84231"
      ]
     },
     "execution_count": 15,
     "metadata": {},
     "output_type": "execute_result"
    }
   ],
   "source": [
    "tokenizer = Tokenizer(num_words=max_features)\n",
    "tokenizer.fit_on_texts(X)\n",
    "\n",
    "X = tokenizer.texts_to_sequences(X)\n",
    "X = pad_sequences(X, maxlen, truncating='post')\n",
    "\n",
    "len(tokenizer.word_index)"
   ]
  },
  {
   "cell_type": "code",
   "execution_count": 16,
   "metadata": {
    "execution": {
     "iopub.execute_input": "2021-12-31T14:01:44.223840Z",
     "iopub.status.busy": "2021-12-31T14:01:44.223052Z",
     "iopub.status.idle": "2021-12-31T14:01:44.310911Z",
     "shell.execute_reply": "2021-12-31T14:01:44.310112Z",
     "shell.execute_reply.started": "2021-12-31T14:01:44.223792Z"
    },
    "papermill": {
     "duration": null,
     "end_time": null,
     "exception": null,
     "start_time": null,
     "status": "pending"
    },
    "tags": []
   },
   "outputs": [],
   "source": [
    "from collections import OrderedDict\n",
    "dictionary = dict(OrderedDict(sorted(tokenizer.word_counts.items(), key=lambda x: x[1], reverse=True)))"
   ]
  },
  {
   "cell_type": "code",
   "execution_count": 17,
   "metadata": {
    "execution": {
     "iopub.execute_input": "2021-12-31T14:01:44.355791Z",
     "iopub.status.busy": "2021-12-31T14:01:44.355310Z",
     "iopub.status.idle": "2021-12-31T14:01:44.373695Z",
     "shell.execute_reply": "2021-12-31T14:01:44.372988Z",
     "shell.execute_reply.started": "2021-12-31T14:01:44.355753Z"
    },
    "papermill": {
     "duration": null,
     "end_time": null,
     "exception": null,
     "start_time": null,
     "status": "pending"
    },
    "tags": []
   },
   "outputs": [
    {
     "data": {
      "text/plain": [
       "8000"
      ]
     },
     "execution_count": 17,
     "metadata": {},
     "output_type": "execute_result"
    }
   ],
   "source": [
    "vocab = {x:y for i,(x, y) in enumerate(dictionary.items()) if i < max_features }\n",
    "len(vocab)"
   ]
  },
  {
   "cell_type": "markdown",
   "metadata": {
    "papermill": {
     "duration": null,
     "end_time": null,
     "exception": null,
     "start_time": null,
     "status": "pending"
    },
    "tags": []
   },
   "source": [
    "# Embedding"
   ]
  },
  {
   "cell_type": "markdown",
   "metadata": {
    "papermill": {
     "duration": null,
     "end_time": null,
     "exception": null,
     "start_time": null,
     "status": "pending"
    },
    "tags": []
   },
   "source": [
    "## Glove"
   ]
  },
  {
   "cell_type": "code",
   "execution_count": 18,
   "metadata": {
    "execution": {
     "iopub.execute_input": "2021-12-31T14:01:48.574754Z",
     "iopub.status.busy": "2021-12-31T14:01:48.574495Z",
     "iopub.status.idle": "2021-12-31T14:01:48.578782Z",
     "shell.execute_reply": "2021-12-31T14:01:48.577712Z",
     "shell.execute_reply.started": "2021-12-31T14:01:48.574725Z"
    },
    "papermill": {
     "duration": null,
     "end_time": null,
     "exception": null,
     "start_time": null,
     "status": "pending"
    },
    "tags": []
   },
   "outputs": [],
   "source": [
    "glove_emb_link = \"https://huggingface.co/stanfordnlp/glove/resolve/main/glove.6B.zip\""
   ]
  },
  {
   "cell_type": "code",
   "execution_count": 19,
   "metadata": {
    "execution": {
     "iopub.execute_input": "2021-12-31T14:01:48.966041Z",
     "iopub.status.busy": "2021-12-31T14:01:48.965786Z",
     "iopub.status.idle": "2021-12-31T14:02:16.434249Z",
     "shell.execute_reply": "2021-12-31T14:02:16.433365Z",
     "shell.execute_reply.started": "2021-12-31T14:01:48.966012Z"
    },
    "papermill": {
     "duration": null,
     "end_time": null,
     "exception": null,
     "start_time": null,
     "status": "pending"
    },
    "tags": []
   },
   "outputs": [],
   "source": [
    "from io import BytesIO, TextIOWrapper\n",
    "from zipfile import ZipFile\n",
    "import requests\n",
    "\n",
    "resp = requests.get(glove_emb_link)"
   ]
  },
  {
   "cell_type": "code",
   "execution_count": 20,
   "metadata": {
    "execution": {
     "iopub.execute_input": "2021-12-31T14:02:16.437218Z",
     "iopub.status.busy": "2021-12-31T14:02:16.437027Z",
     "iopub.status.idle": "2021-12-31T14:03:09.100067Z",
     "shell.execute_reply": "2021-12-31T14:03:09.098408Z",
     "shell.execute_reply.started": "2021-12-31T14:02:16.437195Z"
    },
    "papermill": {
     "duration": null,
     "end_time": null,
     "exception": null,
     "start_time": null,
     "status": "pending"
    },
    "tags": []
   },
   "outputs": [
    {
     "name": "stdout",
     "output_type": "stream",
     "text": [
      "Loaded 400001 word vectors.\n"
     ]
    }
   ],
   "source": [
    "embeddings_index = dict()\n",
    "\n",
    "with ZipFile(BytesIO(resp.content),'r') as zipfile:\n",
    "    with TextIOWrapper(zipfile.open(\"glove.6B.300d.txt\"), encoding=\"utf-8\") as file:\n",
    "        for line in file:\n",
    "            values = line.split()\n",
    "            word = values[0]\n",
    "            coefs = np.asarray(values[1:], dtype='float32')\n",
    "            embeddings_index[word] = coefs\n",
    "\n",
    "print('Loaded %s word vectors.' % len(embeddings_index))"
   ]
  },
  {
   "cell_type": "code",
   "execution_count": 21,
   "metadata": {
    "execution": {
     "iopub.execute_input": "2021-12-31T14:03:09.101786Z",
     "iopub.status.busy": "2021-12-31T14:03:09.101524Z",
     "iopub.status.idle": "2021-12-31T14:03:09.139208Z",
     "shell.execute_reply": "2021-12-31T14:03:09.138541Z",
     "shell.execute_reply.started": "2021-12-31T14:03:09.101750Z"
    },
    "papermill": {
     "duration": null,
     "end_time": null,
     "exception": null,
     "start_time": null,
     "status": "pending"
    },
    "tags": []
   },
   "outputs": [],
   "source": [
    "# create a weight matrix for words in training docs\n",
    "embedding_matrix = np.zeros((max_features, embedding_dims))\n",
    "try:\n",
    "    for word in vocab.keys():\n",
    "        i = tokenizer.word_index[word]\n",
    "        embedding_vector = embeddings_index.get(word)\n",
    "        if embedding_vector is not None:\n",
    "            embedding_matrix[i] = embedding_vector\n",
    "except:\n",
    "    pass"
   ]
  },
  {
   "cell_type": "code",
   "execution_count": 22,
   "metadata": {
    "execution": {
     "iopub.execute_input": "2021-12-31T14:03:09.141455Z",
     "iopub.status.busy": "2021-12-31T14:03:09.141178Z",
     "iopub.status.idle": "2021-12-31T14:03:09.147064Z",
     "shell.execute_reply": "2021-12-31T14:03:09.146047Z",
     "shell.execute_reply.started": "2021-12-31T14:03:09.141420Z"
    },
    "papermill": {
     "duration": null,
     "end_time": null,
     "exception": null,
     "start_time": null,
     "status": "pending"
    },
    "tags": []
   },
   "outputs": [
    {
     "data": {
      "text/plain": [
       "8000"
      ]
     },
     "execution_count": 22,
     "metadata": {},
     "output_type": "execute_result"
    }
   ],
   "source": [
    "len(embedding_matrix)"
   ]
  },
  {
   "cell_type": "code",
   "execution_count": 23,
   "metadata": {
    "execution": {
     "iopub.execute_input": "2021-12-31T14:03:09.149374Z",
     "iopub.status.busy": "2021-12-31T14:03:09.148652Z",
     "iopub.status.idle": "2021-12-31T14:03:09.155274Z",
     "shell.execute_reply": "2021-12-31T14:03:09.154369Z",
     "shell.execute_reply.started": "2021-12-31T14:03:09.149336Z"
    },
    "papermill": {
     "duration": null,
     "end_time": null,
     "exception": null,
     "start_time": null,
     "status": "pending"
    },
    "tags": []
   },
   "outputs": [],
   "source": [
    "resp = None"
   ]
  },
  {
   "cell_type": "markdown",
   "metadata": {
    "papermill": {
     "duration": null,
     "end_time": null,
     "exception": null,
     "start_time": null,
     "status": "pending"
    },
    "tags": []
   },
   "source": [
    "## Classification"
   ]
  },
  {
   "cell_type": "code",
   "execution_count": 24,
   "metadata": {
    "execution": {
     "iopub.execute_input": "2021-12-31T14:03:09.157355Z",
     "iopub.status.busy": "2021-12-31T14:03:09.156921Z",
     "iopub.status.idle": "2021-12-31T14:03:09.187754Z",
     "shell.execute_reply": "2021-12-31T14:03:09.186997Z",
     "shell.execute_reply.started": "2021-12-31T14:03:09.157311Z"
    },
    "papermill": {
     "duration": null,
     "end_time": null,
     "exception": null,
     "start_time": null,
     "status": "pending"
    },
    "tags": []
   },
   "outputs": [],
   "source": [
    "from sklearn.preprocessing import LabelEncoder\n",
    "from sklearn.model_selection import train_test_split\n",
    "from tensorflow.keras.utils import to_categorical\n",
    "\n",
    "X_train, X_test, y_train, y_test = train_test_split(X, y, test_size=0.20)"
   ]
  },
  {
   "cell_type": "markdown",
   "metadata": {
    "papermill": {
     "duration": null,
     "end_time": null,
     "exception": null,
     "start_time": null,
     "status": "pending"
    },
    "tags": []
   },
   "source": [
    "## LSTM"
   ]
  },
  {
   "cell_type": "code",
   "execution_count": 25,
   "metadata": {
    "execution": {
     "iopub.execute_input": "2021-12-31T14:18:51.076710Z",
     "iopub.status.busy": "2021-12-31T14:18:51.075865Z",
     "iopub.status.idle": "2021-12-31T14:18:51.111812Z",
     "shell.execute_reply": "2021-12-31T14:18:51.111013Z",
     "shell.execute_reply.started": "2021-12-31T14:18:51.076665Z"
    },
    "papermill": {
     "duration": null,
     "end_time": null,
     "exception": null,
     "start_time": null,
     "status": "pending"
    },
    "tags": []
   },
   "outputs": [],
   "source": [
    "from keras.layers import Bidirectional, GlobalMaxPool1D, SpatialDropout1D, Input, Dropout\n",
    "from keras.models import Model\n",
    "from keras.callbacks import EarlyStopping\n",
    "from tensorflow.keras.optimizers import Adam, schedules\n",
    "\n",
    "n_labels = len(set([g for row in df.Genres for g in row.split(\",\")]))\n",
    "hidden_dims = 40"
   ]
  },
  {
   "cell_type": "code",
   "execution_count": 26,
   "metadata": {
    "execution": {
     "iopub.execute_input": "2021-12-31T14:03:16.374734Z",
     "iopub.status.busy": "2021-12-31T14:03:16.374467Z",
     "iopub.status.idle": "2021-12-31T14:03:16.383806Z",
     "shell.execute_reply": "2021-12-31T14:03:16.383023Z",
     "shell.execute_reply.started": "2021-12-31T14:03:16.374705Z"
    },
    "papermill": {
     "duration": null,
     "end_time": null,
     "exception": null,
     "start_time": null,
     "status": "pending"
    },
    "tags": []
   },
   "outputs": [],
   "source": [
    "from keras import backend as K\n",
    "\n",
    "def f1(y_true, y_pred):\n",
    "    def recall(y_true, y_pred):\n",
    "        \"\"\"Recall metric.\n",
    "\n",
    "        Only computes a batch-wise average of recall.\n",
    "\n",
    "        Computes the recall, a metric for multi-label classification of\n",
    "        how many relevant items are selected.\n",
    "        \"\"\"\n",
    "        true_positives = K.sum(K.round(K.clip(y_true * y_pred, 0, 1)))\n",
    "        possible_positives = K.sum(K.round(K.clip(y_true, 0, 1)))\n",
    "        recall = true_positives / (possible_positives + K.epsilon())\n",
    "        return recall\n",
    "\n",
    "    def precision(y_true, y_pred):\n",
    "        \"\"\"Precision metric.\n",
    "\n",
    "        Only computes a batch-wise average of precision.\n",
    "\n",
    "        Computes the precision, a metric for multi-label classification of\n",
    "        how many selected items are relevant.\n",
    "        \"\"\"\n",
    "        true_positives = K.sum(K.round(K.clip(y_true * y_pred, 0, 1)))\n",
    "        predicted_positives = K.sum(K.round(K.clip(y_pred, 0, 1)))\n",
    "        precision = true_positives / (predicted_positives + K.epsilon())\n",
    "        return precision\n",
    "    precision = precision(y_true, y_pred)\n",
    "    recall = recall(y_true, y_pred)\n",
    "    return 2*((precision*recall)/(precision+recall+K.epsilon()))"
   ]
  },
  {
   "cell_type": "code",
   "execution_count": 27,
   "metadata": {
    "execution": {
     "iopub.execute_input": "2021-12-31T14:50:23.861006Z",
     "iopub.status.busy": "2021-12-31T14:50:23.860725Z",
     "iopub.status.idle": "2021-12-31T14:50:23.867686Z",
     "shell.execute_reply": "2021-12-31T14:50:23.867006Z",
     "shell.execute_reply.started": "2021-12-31T14:50:23.860970Z"
    },
    "papermill": {
     "duration": null,
     "end_time": null,
     "exception": null,
     "start_time": null,
     "status": "pending"
    },
    "tags": []
   },
   "outputs": [],
   "source": [
    "def build_model(hidden_dims, lr):\n",
    "    e = Embedding(max_features,\n",
    "                  embedding_dims, \n",
    "                  weights=[embedding_matrix], \n",
    "                  input_length=maxlen, \n",
    "                  trainable=False)\n",
    "\n",
    "    model = Sequential()\n",
    "    model.add(e)\n",
    "    model.add(SpatialDropout1D(0.2))\n",
    "    model.add(LSTM(hidden_dims, dropout=0.2))\n",
    "    model.add(Dense(n_labels, activation='sigmoid'))\n",
    "    \n",
    "    opt = Adam(lr)\n",
    "\n",
    "    # try using different optimizers and different optimizer configs\n",
    "    model.compile(loss='binary_crossentropy',\n",
    "                  optimizer=opt,\n",
    "                  metrics=[f1])\n",
    "    \n",
    "    return model\n",
    "\n",
    "    #model.summary()"
   ]
  },
  {
   "cell_type": "markdown",
   "metadata": {
    "papermill": {
     "duration": null,
     "end_time": null,
     "exception": null,
     "start_time": null,
     "status": "pending"
    },
    "tags": []
   },
   "source": [
    "#### Cross-validation"
   ]
  },
  {
   "cell_type": "code",
   "execution_count": null,
   "metadata": {
    "execution": {
     "iopub.execute_input": "2021-12-31T15:06:14.372537Z",
     "iopub.status.busy": "2021-12-31T15:06:14.371876Z",
     "iopub.status.idle": "2021-12-31T15:06:54.403180Z",
     "shell.execute_reply": "2021-12-31T15:06:54.395833Z",
     "shell.execute_reply.started": "2021-12-31T15:06:14.372498Z"
    },
    "papermill": {
     "duration": null,
     "end_time": null,
     "exception": null,
     "start_time": null,
     "status": "pending"
    },
    "tags": []
   },
   "outputs": [
    {
     "name": "stdout",
     "output_type": "stream",
     "text": [
      "Fitting 3 folds for each of 12 candidates, totalling 36 fits\n"
     ]
    }
   ],
   "source": [
    "from keras.wrappers.scikit_learn import KerasClassifier\n",
    "from sklearn.model_selection import GridSearchCV\n",
    "from sklearn.metrics import make_scorer\n",
    "\n",
    "f1_score = make_scorer(f1)\n",
    "\n",
    "param_grid = dict(batch_size=[128,256,512], lr=[0.01,0.02],hidden_dims=[20,40])\n",
    "model = KerasClassifier(build_fn=build_model, epochs=40, verbose=4)\n",
    "grid = GridSearchCV(estimator=model, param_grid=param_grid, scoring=f1_score, cv=3, verbose=4, n_jobs=4)\n",
    "grid_result = grid.fit(X_train, y_train)"
   ]
  },
  {
   "cell_type": "code",
   "execution_count": null,
   "metadata": {
    "execution": {
     "iopub.execute_input": "2021-12-31T14:52:08.980970Z",
     "iopub.status.busy": "2021-12-31T14:52:08.980199Z",
     "iopub.status.idle": "2021-12-31T14:52:08.989371Z",
     "shell.execute_reply": "2021-12-31T14:52:08.988432Z",
     "shell.execute_reply.started": "2021-12-31T14:52:08.980918Z"
    },
    "papermill": {
     "duration": null,
     "end_time": null,
     "exception": null,
     "start_time": null,
     "status": "pending"
    },
    "tags": []
   },
   "outputs": [],
   "source": [
    "grid_result"
   ]
  },
  {
   "cell_type": "code",
   "execution_count": null,
   "metadata": {
    "execution": {
     "iopub.execute_input": "2021-12-30T21:31:34.695605Z",
     "iopub.status.busy": "2021-12-30T21:31:34.69514Z",
     "iopub.status.idle": "2021-12-30T21:31:34.927918Z",
     "shell.execute_reply": "2021-12-30T21:31:34.927193Z",
     "shell.execute_reply.started": "2021-12-30T21:31:34.695568Z"
    },
    "jupyter": {
     "source_hidden": true
    },
    "papermill": {
     "duration": null,
     "end_time": null,
     "exception": null,
     "start_time": null,
     "status": "pending"
    },
    "tags": []
   },
   "outputs": [],
   "source": [
    "inp = Input(shape=(maxlen,)) \n",
    "x = Embedding(max_features, embedding_dims, weights=[embedding_matrix],trainable=True)(inp)\n",
    "x = LSTM(hidden_dims, return_sequences=True, dropout=0.2)(x)\n",
    "x = GlobalMaxPool1D()(x)\n",
    "x = Dense(hidden_dims, activation=\"relu\")(x)\n",
    "x = Dropout(0.2)(x)\n",
    "x = Dense(n_labels, activation=\"sigmoid\")(x)\n",
    "model = Model(inputs=inp, outputs=x)\n",
    "\n",
    "opt = Adam(0.01)\n",
    "model.compile(loss='binary_crossentropy', optimizer=opt, metrics=[f1])"
   ]
  },
  {
   "cell_type": "code",
   "execution_count": null,
   "metadata": {
    "execution": {
     "iopub.execute_input": "2021-12-31T14:18:57.050181Z",
     "iopub.status.busy": "2021-12-31T14:18:57.049663Z",
     "iopub.status.idle": "2021-12-31T14:20:23.187364Z",
     "shell.execute_reply": "2021-12-31T14:20:23.186696Z",
     "shell.execute_reply.started": "2021-12-31T14:18:57.050143Z"
    },
    "papermill": {
     "duration": null,
     "end_time": null,
     "exception": null,
     "start_time": null,
     "status": "pending"
    },
    "tags": []
   },
   "outputs": [],
   "source": [
    "batch_size = 512\n",
    "epochs = 50\n",
    "early_stop = EarlyStopping(monitor='val_loss', patience=10, verbose=1)\n",
    "\n",
    "print('Train...')\n",
    "model.fit(X_train, y_train,\n",
    "          batch_size=batch_size,\n",
    "          epochs=epochs,\n",
    "          validation_split=0.15,\n",
    "          callbacks=[early_stop])\n",
    "          #class_weight=class_weights)"
   ]
  },
  {
   "cell_type": "markdown",
   "metadata": {},
   "source": [
    "### Model prediction"
   ]
  },
  {
   "cell_type": "code",
   "execution_count": null,
   "metadata": {
    "execution": {
     "iopub.execute_input": "2021-12-31T14:20:26.453351Z",
     "iopub.status.busy": "2021-12-31T14:20:26.452477Z",
     "iopub.status.idle": "2021-12-31T14:20:28.003396Z",
     "shell.execute_reply": "2021-12-31T14:20:28.002704Z",
     "shell.execute_reply.started": "2021-12-31T14:20:26.453287Z"
    },
    "papermill": {
     "duration": null,
     "end_time": null,
     "exception": null,
     "start_time": null,
     "status": "pending"
    },
    "tags": []
   },
   "outputs": [],
   "source": [
    "y_pred = model.predict([X_test], verbose=1)"
   ]
  },
  {
   "cell_type": "code",
   "execution_count": null,
   "metadata": {
    "execution": {
     "iopub.execute_input": "2021-12-31T14:20:29.219847Z",
     "iopub.status.busy": "2021-12-31T14:20:29.219590Z",
     "iopub.status.idle": "2021-12-31T14:20:29.232153Z",
     "shell.execute_reply": "2021-12-31T14:20:29.231118Z",
     "shell.execute_reply.started": "2021-12-31T14:20:29.219818Z"
    },
    "papermill": {
     "duration": null,
     "end_time": null,
     "exception": null,
     "start_time": null,
     "status": "pending"
    },
    "tags": []
   },
   "outputs": [],
   "source": [
    "f1(y_test.astype(np.float32),y_pred).numpy()"
   ]
  },
  {
   "cell_type": "code",
   "execution_count": null,
   "metadata": {
    "execution": {
     "iopub.execute_input": "2021-12-31T14:20:31.880732Z",
     "iopub.status.busy": "2021-12-31T14:20:31.880479Z",
     "iopub.status.idle": "2021-12-31T14:20:31.899137Z",
     "shell.execute_reply": "2021-12-31T14:20:31.898494Z",
     "shell.execute_reply.started": "2021-12-31T14:20:31.880703Z"
    },
    "papermill": {
     "duration": null,
     "end_time": null,
     "exception": null,
     "start_time": null,
     "status": "pending"
    },
    "tags": []
   },
   "outputs": [],
   "source": [
    "from sklearn.metrics import multilabel_confusion_matrix\n",
    "\n",
    "multilabel_confusion_matrix(y_test, y_pred.round())\n",
    "#tn/fn,fp/tp"
   ]
  },
  {
   "cell_type": "code",
   "execution_count": null,
   "metadata": {
    "papermill": {
     "duration": null,
     "end_time": null,
     "exception": null,
     "start_time": null,
     "status": "pending"
    },
    "tags": []
   },
   "outputs": [],
   "source": []
  }
 ],
 "metadata": {
  "kernelspec": {
   "display_name": "Python 3",
   "language": "python",
   "name": "python3"
  },
  "language_info": {
   "codemirror_mode": {
    "name": "ipython",
    "version": 3
   },
   "file_extension": ".py",
   "mimetype": "text/x-python",
   "name": "python",
   "nbconvert_exporter": "python",
   "pygments_lexer": "ipython3",
   "version": "3.8.3"
  },
  "papermill": {
   "default_parameters": {},
   "duration": 19.336072,
   "end_time": "2021-12-31T15:07:28.442054",
   "environment_variables": {},
   "exception": true,
   "input_path": "__notebook__.ipynb",
   "output_path": "__notebook__.ipynb",
   "parameters": {},
   "start_time": "2021-12-31T15:07:09.105982",
   "version": "2.3.3"
  }
 },
 "nbformat": 4,
 "nbformat_minor": 5
}
