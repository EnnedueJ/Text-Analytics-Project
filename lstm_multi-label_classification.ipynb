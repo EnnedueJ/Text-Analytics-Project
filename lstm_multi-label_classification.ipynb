{
 "cells": [
  {
   "cell_type": "code",
   "execution_count": 1,
   "id": "7e725dba",
   "metadata": {
    "_cell_guid": "b1076dfc-b9ad-4769-8c92-a6c4dae69d19",
    "_uuid": "8f2839f25d086af736a60e9eeb907d3b93b6e0e5",
    "execution": {
     "iopub.execute_input": "2022-01-08T13:05:55.866877Z",
     "iopub.status.busy": "2022-01-08T13:05:55.865366Z",
     "iopub.status.idle": "2022-01-08T13:06:01.620444Z",
     "shell.execute_reply": "2022-01-08T13:06:01.619919Z",
     "shell.execute_reply.started": "2022-01-08T12:56:16.480326Z"
    },
    "papermill": {
     "duration": 5.78439,
     "end_time": "2022-01-08T13:06:01.620586",
     "exception": false,
     "start_time": "2022-01-08T13:05:55.836196",
     "status": "completed"
    },
    "tags": []
   },
   "outputs": [
    {
     "name": "stdout",
     "output_type": "stream",
     "text": [
      "1 Physical GPUs, 1 Logical GPU\n"
     ]
    },
    {
     "name": "stderr",
     "output_type": "stream",
     "text": [
      "2022-01-08 13:05:59.784434: I tensorflow/stream_executor/cuda/cuda_gpu_executor.cc:937] successful NUMA node read from SysFS had negative value (-1), but there must be at least one NUMA node, so returning NUMA node zero\n",
      "2022-01-08 13:05:59.880821: I tensorflow/stream_executor/cuda/cuda_gpu_executor.cc:937] successful NUMA node read from SysFS had negative value (-1), but there must be at least one NUMA node, so returning NUMA node zero\n",
      "2022-01-08 13:05:59.881696: I tensorflow/stream_executor/cuda/cuda_gpu_executor.cc:937] successful NUMA node read from SysFS had negative value (-1), but there must be at least one NUMA node, so returning NUMA node zero\n",
      "2022-01-08 13:05:59.884179: I tensorflow/core/platform/cpu_feature_guard.cc:142] This TensorFlow binary is optimized with oneAPI Deep Neural Network Library (oneDNN) to use the following CPU instructions in performance-critical operations:  AVX2 AVX512F FMA\n",
      "To enable them in other operations, rebuild TensorFlow with the appropriate compiler flags.\n",
      "2022-01-08 13:05:59.885338: I tensorflow/stream_executor/cuda/cuda_gpu_executor.cc:937] successful NUMA node read from SysFS had negative value (-1), but there must be at least one NUMA node, so returning NUMA node zero\n",
      "2022-01-08 13:05:59.886099: I tensorflow/stream_executor/cuda/cuda_gpu_executor.cc:937] successful NUMA node read from SysFS had negative value (-1), but there must be at least one NUMA node, so returning NUMA node zero\n",
      "2022-01-08 13:05:59.886826: I tensorflow/stream_executor/cuda/cuda_gpu_executor.cc:937] successful NUMA node read from SysFS had negative value (-1), but there must be at least one NUMA node, so returning NUMA node zero\n",
      "2022-01-08 13:06:01.603964: I tensorflow/stream_executor/cuda/cuda_gpu_executor.cc:937] successful NUMA node read from SysFS had negative value (-1), but there must be at least one NUMA node, so returning NUMA node zero\n",
      "2022-01-08 13:06:01.604698: I tensorflow/stream_executor/cuda/cuda_gpu_executor.cc:937] successful NUMA node read from SysFS had negative value (-1), but there must be at least one NUMA node, so returning NUMA node zero\n",
      "2022-01-08 13:06:01.605378: I tensorflow/stream_executor/cuda/cuda_gpu_executor.cc:937] successful NUMA node read from SysFS had negative value (-1), but there must be at least one NUMA node, so returning NUMA node zero\n",
      "2022-01-08 13:06:01.605973: I tensorflow/core/common_runtime/gpu/gpu_device.cc:1510] Created device /job:localhost/replica:0/task:0/device:GPU:0 with 15403 MB memory:  -> device: 0, name: Tesla P100-PCIE-16GB, pci bus id: 0000:00:04.0, compute capability: 6.0\n"
     ]
    }
   ],
   "source": [
    "import numpy as np\n",
    "import tensorflow as tf\n",
    "\n",
    "from tensorflow.python.client import device_lib\n",
    "\n",
    "gpus = tf.config.list_physical_devices('GPU')\n",
    "if gpus:\n",
    "  try:\n",
    "    tf.config.set_visible_devices(gpus[0], 'GPU')\n",
    "    logical_gpus = tf.config.list_logical_devices('GPU')\n",
    "    print(len(gpus), \"Physical GPUs,\", len(logical_gpus), \"Logical GPU\")\n",
    "  except RuntimeError as e:\n",
    "    print(e)"
   ]
  },
  {
   "cell_type": "code",
   "execution_count": 2,
   "id": "fa81d940",
   "metadata": {
    "execution": {
     "iopub.execute_input": "2022-01-08T13:06:01.675288Z",
     "iopub.status.busy": "2022-01-08T13:06:01.674647Z",
     "iopub.status.idle": "2022-01-08T13:06:02.215718Z",
     "shell.execute_reply": "2022-01-08T13:06:02.216155Z",
     "shell.execute_reply.started": "2022-01-08T12:56:16.907907Z"
    },
    "papermill": {
     "duration": 0.570629,
     "end_time": "2022-01-08T13:06:02.216307",
     "exception": false,
     "start_time": "2022-01-08T13:06:01.645678",
     "status": "completed"
    },
    "tags": []
   },
   "outputs": [
    {
     "data": {
      "text/plain": [
       "(33812, 3)"
      ]
     },
     "execution_count": 2,
     "metadata": {},
     "output_type": "execute_result"
    }
   ],
   "source": [
    "import pandas as pd\n",
    "\n",
    "df = pd.read_csv('movie_plots_yts.csv',index_col=0)\n",
    "df.shape"
   ]
  },
  {
   "cell_type": "code",
   "execution_count": 3,
   "id": "e266413f",
   "metadata": {
    "execution": {
     "iopub.execute_input": "2022-01-08T13:06:02.269666Z",
     "iopub.status.busy": "2022-01-08T13:06:02.268856Z",
     "iopub.status.idle": "2022-01-08T13:06:02.282560Z",
     "shell.execute_reply": "2022-01-08T13:06:02.283057Z",
     "shell.execute_reply.started": "2022-01-08T12:56:17.198051Z"
    },
    "papermill": {
     "duration": 0.041748,
     "end_time": "2022-01-08T13:06:02.283202",
     "exception": false,
     "start_time": "2022-01-08T13:06:02.241454",
     "status": "completed"
    },
    "tags": []
   },
   "outputs": [
    {
     "data": {
      "text/html": [
       "<div>\n",
       "<style scoped>\n",
       "    .dataframe tbody tr th:only-of-type {\n",
       "        vertical-align: middle;\n",
       "    }\n",
       "\n",
       "    .dataframe tbody tr th {\n",
       "        vertical-align: top;\n",
       "    }\n",
       "\n",
       "    .dataframe thead th {\n",
       "        text-align: right;\n",
       "    }\n",
       "</style>\n",
       "<table border=\"1\" class=\"dataframe\">\n",
       "  <thead>\n",
       "    <tr style=\"text-align: right;\">\n",
       "      <th></th>\n",
       "      <th>Title</th>\n",
       "      <th>Plot</th>\n",
       "      <th>Genres</th>\n",
       "    </tr>\n",
       "  </thead>\n",
       "  <tbody>\n",
       "    <tr>\n",
       "      <th>0</th>\n",
       "      <td>Who is Amos Otis?</td>\n",
       "      <td>After assassinating the President, Amos Otis p...</td>\n",
       "      <td>Drama</td>\n",
       "    </tr>\n",
       "    <tr>\n",
       "      <th>1</th>\n",
       "      <td>Wheel of Time</td>\n",
       "      <td>Wheel of Time is Werner Herzog's photographed ...</td>\n",
       "      <td>Documentary</td>\n",
       "    </tr>\n",
       "    <tr>\n",
       "      <th>3</th>\n",
       "      <td>'B' Girl Rhapsody</td>\n",
       "      <td>Burlesque beauties performing their signature ...</td>\n",
       "      <td>Drama</td>\n",
       "    </tr>\n",
       "    <tr>\n",
       "      <th>5</th>\n",
       "      <td>The Brass Bottle</td>\n",
       "      <td>After being released from his bottle by Harold...</td>\n",
       "      <td>Comedy, Fantasy</td>\n",
       "    </tr>\n",
       "    <tr>\n",
       "      <th>6</th>\n",
       "      <td>The Morning After</td>\n",
       "      <td>The Morning After is a feature film that consi...</td>\n",
       "      <td>Comedy, Drama</td>\n",
       "    </tr>\n",
       "    <tr>\n",
       "      <th>...</th>\n",
       "      <td>...</td>\n",
       "      <td>...</td>\n",
       "      <td>...</td>\n",
       "    </tr>\n",
       "    <tr>\n",
       "      <th>38044</th>\n",
       "      <td>100 Bloody Acres</td>\n",
       "      <td>The use of dead car crash victims in the Morga...</td>\n",
       "      <td>Action, Comedy, Horror</td>\n",
       "    </tr>\n",
       "    <tr>\n",
       "      <th>38045</th>\n",
       "      <td>10 Years</td>\n",
       "      <td>The night of their high school reunion, a grou...</td>\n",
       "      <td>Action, Comedy, Drama, Romance</td>\n",
       "    </tr>\n",
       "    <tr>\n",
       "      <th>38046</th>\n",
       "      <td>10 Things I Hate About You</td>\n",
       "      <td>Adapted from William Shakespeare's play \"The T...</td>\n",
       "      <td>Action, Comedy, Drama, Romance</td>\n",
       "    </tr>\n",
       "    <tr>\n",
       "      <th>38047</th>\n",
       "      <td>+1</td>\n",
       "      <td>Three college friends hit the biggest party of...</td>\n",
       "      <td>Action, Horror, Romance, Sci-Fi, Thriller</td>\n",
       "    </tr>\n",
       "    <tr>\n",
       "      <th>38048</th>\n",
       "      <td>Bikini Model Academy</td>\n",
       "      <td>When T. J. and Benji, two California twenty-so...</td>\n",
       "      <td>Action, Comedy</td>\n",
       "    </tr>\n",
       "  </tbody>\n",
       "</table>\n",
       "<p>33812 rows × 3 columns</p>\n",
       "</div>"
      ],
      "text/plain": [
       "                            Title  \\\n",
       "0               Who is Amos Otis?   \n",
       "1                   Wheel of Time   \n",
       "3               'B' Girl Rhapsody   \n",
       "5                The Brass Bottle   \n",
       "6               The Morning After   \n",
       "...                           ...   \n",
       "38044            100 Bloody Acres   \n",
       "38045                    10 Years   \n",
       "38046  10 Things I Hate About You   \n",
       "38047                          +1   \n",
       "38048        Bikini Model Academy   \n",
       "\n",
       "                                                    Plot  \\\n",
       "0      After assassinating the President, Amos Otis p...   \n",
       "1      Wheel of Time is Werner Herzog's photographed ...   \n",
       "3      Burlesque beauties performing their signature ...   \n",
       "5      After being released from his bottle by Harold...   \n",
       "6      The Morning After is a feature film that consi...   \n",
       "...                                                  ...   \n",
       "38044  The use of dead car crash victims in the Morga...   \n",
       "38045  The night of their high school reunion, a grou...   \n",
       "38046  Adapted from William Shakespeare's play \"The T...   \n",
       "38047  Three college friends hit the biggest party of...   \n",
       "38048  When T. J. and Benji, two California twenty-so...   \n",
       "\n",
       "                                          Genres  \n",
       "0                                          Drama  \n",
       "1                                    Documentary  \n",
       "3                                          Drama  \n",
       "5                                Comedy, Fantasy  \n",
       "6                                  Comedy, Drama  \n",
       "...                                          ...  \n",
       "38044                     Action, Comedy, Horror  \n",
       "38045             Action, Comedy, Drama, Romance  \n",
       "38046             Action, Comedy, Drama, Romance  \n",
       "38047  Action, Horror, Romance, Sci-Fi, Thriller  \n",
       "38048                             Action, Comedy  \n",
       "\n",
       "[33812 rows x 3 columns]"
      ]
     },
     "execution_count": 3,
     "metadata": {},
     "output_type": "execute_result"
    }
   ],
   "source": [
    "df"
   ]
  },
  {
   "cell_type": "code",
   "execution_count": 4,
   "id": "8925425d",
   "metadata": {
    "execution": {
     "iopub.execute_input": "2022-01-08T13:06:02.363799Z",
     "iopub.status.busy": "2022-01-08T13:06:02.353423Z",
     "iopub.status.idle": "2022-01-08T13:06:02.380014Z",
     "shell.execute_reply": "2022-01-08T13:06:02.379519Z",
     "shell.execute_reply.started": "2022-01-08T12:56:17.903465Z"
    },
    "papermill": {
     "duration": 0.071438,
     "end_time": "2022-01-08T13:06:02.380157",
     "exception": false,
     "start_time": "2022-01-08T13:06:02.308719",
     "status": "completed"
    },
    "tags": []
   },
   "outputs": [
    {
     "data": {
      "text/plain": [
       "{'Action',\n",
       " 'Adventure',\n",
       " 'Animation',\n",
       " 'Biography',\n",
       " 'Comedy',\n",
       " 'Crime',\n",
       " 'Documentary',\n",
       " 'Drama',\n",
       " 'Family',\n",
       " 'Fantasy',\n",
       " 'Film-Noir',\n",
       " 'History',\n",
       " 'Horror',\n",
       " 'Music',\n",
       " 'Musical',\n",
       " 'Romance',\n",
       " 'Sci-Fi',\n",
       " 'Sport',\n",
       " 'Thriller',\n",
       " 'War',\n",
       " 'Western'}"
      ]
     },
     "execution_count": 4,
     "metadata": {},
     "output_type": "execute_result"
    }
   ],
   "source": [
    "#unique labels\n",
    "set([g.strip() for row in df.Genres for g in row.split(\",\")])"
   ]
  },
  {
   "cell_type": "code",
   "execution_count": 5,
   "id": "33d15531",
   "metadata": {
    "execution": {
     "iopub.execute_input": "2022-01-08T13:06:02.441399Z",
     "iopub.status.busy": "2022-01-08T13:06:02.440525Z",
     "iopub.status.idle": "2022-01-08T13:06:02.442350Z",
     "shell.execute_reply": "2022-01-08T13:06:02.442781Z",
     "shell.execute_reply.started": "2022-01-08T12:56:18.068322Z"
    },
    "papermill": {
     "duration": 0.035176,
     "end_time": "2022-01-08T13:06:02.442915",
     "exception": false,
     "start_time": "2022-01-08T13:06:02.407739",
     "status": "completed"
    },
    "tags": []
   },
   "outputs": [],
   "source": [
    "def prep_genre(genre):\n",
    "    \n",
    "    dict_genres = {\n",
    "        \"Musical\":\"Music\",\n",
    "        \"Crime\":\"Thriller\",\n",
    "        \"Film-Noir\":\"Thriller\",\n",
    "        \"Biography\":\"Documentary\",\n",
    "        \"Sci-Fi\":\"Sci-Fi & Fantasy\",\n",
    "        \"Fantasy\":\"Sci-Fi & Fantasy\",\n",
    "        \"Action\":\"Action & Adventure\",\n",
    "        \"Adventure\":\"Action & Adventure\"\n",
    "    }\n",
    "        \n",
    "    genre = genre.replace(\" \",\"\")\n",
    "    \n",
    "    if len(genre.split(\",\")) > 0:\n",
    "        genres = genre.split(\",\")\n",
    "        genres = \",\".join(list(set([ dict_genres[genre] if genre in dict_genres.keys() else genre for genre in genres ])))\n",
    "        \n",
    "    return genres\n",
    "    "
   ]
  },
  {
   "cell_type": "code",
   "execution_count": 6,
   "id": "0bf1f018",
   "metadata": {
    "execution": {
     "iopub.execute_input": "2022-01-08T13:06:02.500966Z",
     "iopub.status.busy": "2022-01-08T13:06:02.500297Z",
     "iopub.status.idle": "2022-01-08T13:06:02.502964Z",
     "shell.execute_reply": "2022-01-08T13:06:02.503357Z",
     "shell.execute_reply.started": "2022-01-08T12:56:18.218506Z"
    },
    "papermill": {
     "duration": 0.033136,
     "end_time": "2022-01-08T13:06:02.503485",
     "exception": false,
     "start_time": "2022-01-08T13:06:02.470349",
     "status": "completed"
    },
    "tags": []
   },
   "outputs": [
    {
     "data": {
      "text/plain": [
       "'Comedy,Thriller,Action & Adventure'"
      ]
     },
     "execution_count": 6,
     "metadata": {},
     "output_type": "execute_result"
    }
   ],
   "source": [
    "prep_genre(\"Action, Comedy, Thriller, Film-Noir\")"
   ]
  },
  {
   "cell_type": "code",
   "execution_count": 8,
   "id": "1384298b",
   "metadata": {
    "execution": {
     "iopub.execute_input": "2022-01-08T13:06:02.667198Z",
     "iopub.status.busy": "2022-01-08T13:06:02.657819Z",
     "iopub.status.idle": "2022-01-08T13:06:02.734824Z",
     "shell.execute_reply": "2022-01-08T13:06:02.734312Z",
     "shell.execute_reply.started": "2022-01-08T12:56:18.512243Z"
    },
    "papermill": {
     "duration": 0.139417,
     "end_time": "2022-01-08T13:06:02.734958",
     "exception": false,
     "start_time": "2022-01-08T13:06:02.595541",
     "status": "completed"
    },
    "tags": []
   },
   "outputs": [],
   "source": [
    "df['Genres'] = df['Genres'].apply(prep_genre)"
   ]
  },
  {
   "cell_type": "code",
   "execution_count": 9,
   "id": "18ea482f",
   "metadata": {
    "execution": {
     "iopub.execute_input": "2022-01-08T13:06:02.823329Z",
     "iopub.status.busy": "2022-01-08T13:06:02.810698Z",
     "iopub.status.idle": "2022-01-08T13:06:02.826904Z",
     "shell.execute_reply": "2022-01-08T13:06:02.826458Z",
     "shell.execute_reply.started": "2022-01-08T12:56:18.701528Z"
    },
    "papermill": {
     "duration": 0.06555,
     "end_time": "2022-01-08T13:06:02.827073",
     "exception": false,
     "start_time": "2022-01-08T13:06:02.761523",
     "status": "completed"
    },
    "tags": []
   },
   "outputs": [
    {
     "data": {
      "text/plain": [
       "{'Action & Adventure',\n",
       " 'Animation',\n",
       " 'Comedy',\n",
       " 'Documentary',\n",
       " 'Drama',\n",
       " 'Family',\n",
       " 'History',\n",
       " 'Horror',\n",
       " 'Music',\n",
       " 'Romance',\n",
       " 'Sci-Fi & Fantasy',\n",
       " 'Sport',\n",
       " 'Thriller',\n",
       " 'War',\n",
       " 'Western'}"
      ]
     },
     "execution_count": 9,
     "metadata": {},
     "output_type": "execute_result"
    }
   ],
   "source": [
    "#new unique labels\n",
    "set([g.strip() for row in df.Genres for g in row.split(\",\")])"
   ]
  },
  {
   "cell_type": "code",
   "execution_count": 10,
   "id": "9711f912",
   "metadata": {
    "execution": {
     "iopub.execute_input": "2022-01-08T13:06:02.889239Z",
     "iopub.status.busy": "2022-01-08T13:06:02.888372Z",
     "iopub.status.idle": "2022-01-08T13:06:03.392520Z",
     "shell.execute_reply": "2022-01-08T13:06:03.393290Z",
     "shell.execute_reply.started": "2022-01-08T12:56:18.839861Z"
    },
    "papermill": {
     "duration": 0.539505,
     "end_time": "2022-01-08T13:06:03.393501",
     "exception": false,
     "start_time": "2022-01-08T13:06:02.853996",
     "status": "completed"
    },
    "tags": []
   },
   "outputs": [],
   "source": [
    "dummy_genres = df['Genres'].str.join(sep='').str.get_dummies(sep=',')\n",
    "df = df.join(dummy_genres)"
   ]
  },
  {
   "cell_type": "code",
   "execution_count": 11,
   "id": "1da27e5d",
   "metadata": {
    "execution": {
     "iopub.execute_input": "2022-01-08T13:06:03.501231Z",
     "iopub.status.busy": "2022-01-08T13:06:03.500349Z",
     "iopub.status.idle": "2022-01-08T13:06:03.505234Z",
     "shell.execute_reply": "2022-01-08T13:06:03.505871Z",
     "shell.execute_reply.started": "2022-01-08T12:56:19.062543Z"
    },
    "papermill": {
     "duration": 0.072303,
     "end_time": "2022-01-08T13:06:03.506073",
     "exception": false,
     "start_time": "2022-01-08T13:06:03.433770",
     "status": "completed"
    },
    "tags": []
   },
   "outputs": [
    {
     "data": {
      "text/html": [
       "<div>\n",
       "<style scoped>\n",
       "    .dataframe tbody tr th:only-of-type {\n",
       "        vertical-align: middle;\n",
       "    }\n",
       "\n",
       "    .dataframe tbody tr th {\n",
       "        vertical-align: top;\n",
       "    }\n",
       "\n",
       "    .dataframe thead th {\n",
       "        text-align: right;\n",
       "    }\n",
       "</style>\n",
       "<table border=\"1\" class=\"dataframe\">\n",
       "  <thead>\n",
       "    <tr style=\"text-align: right;\">\n",
       "      <th></th>\n",
       "      <th>Action &amp; Adventure</th>\n",
       "      <th>Animation</th>\n",
       "      <th>Comedy</th>\n",
       "      <th>Documentary</th>\n",
       "      <th>Drama</th>\n",
       "      <th>Family</th>\n",
       "      <th>History</th>\n",
       "      <th>Horror</th>\n",
       "      <th>Music</th>\n",
       "      <th>Romance</th>\n",
       "      <th>Sci-Fi &amp; Fantasy</th>\n",
       "      <th>Sport</th>\n",
       "      <th>Thriller</th>\n",
       "      <th>War</th>\n",
       "      <th>Western</th>\n",
       "    </tr>\n",
       "  </thead>\n",
       "  <tbody>\n",
       "    <tr>\n",
       "      <th>0</th>\n",
       "      <td>0</td>\n",
       "      <td>0</td>\n",
       "      <td>0</td>\n",
       "      <td>0</td>\n",
       "      <td>1</td>\n",
       "      <td>0</td>\n",
       "      <td>0</td>\n",
       "      <td>0</td>\n",
       "      <td>0</td>\n",
       "      <td>0</td>\n",
       "      <td>0</td>\n",
       "      <td>0</td>\n",
       "      <td>0</td>\n",
       "      <td>0</td>\n",
       "      <td>0</td>\n",
       "    </tr>\n",
       "    <tr>\n",
       "      <th>1</th>\n",
       "      <td>0</td>\n",
       "      <td>0</td>\n",
       "      <td>0</td>\n",
       "      <td>1</td>\n",
       "      <td>0</td>\n",
       "      <td>0</td>\n",
       "      <td>0</td>\n",
       "      <td>0</td>\n",
       "      <td>0</td>\n",
       "      <td>0</td>\n",
       "      <td>0</td>\n",
       "      <td>0</td>\n",
       "      <td>0</td>\n",
       "      <td>0</td>\n",
       "      <td>0</td>\n",
       "    </tr>\n",
       "    <tr>\n",
       "      <th>3</th>\n",
       "      <td>0</td>\n",
       "      <td>0</td>\n",
       "      <td>0</td>\n",
       "      <td>0</td>\n",
       "      <td>1</td>\n",
       "      <td>0</td>\n",
       "      <td>0</td>\n",
       "      <td>0</td>\n",
       "      <td>0</td>\n",
       "      <td>0</td>\n",
       "      <td>0</td>\n",
       "      <td>0</td>\n",
       "      <td>0</td>\n",
       "      <td>0</td>\n",
       "      <td>0</td>\n",
       "    </tr>\n",
       "    <tr>\n",
       "      <th>5</th>\n",
       "      <td>0</td>\n",
       "      <td>0</td>\n",
       "      <td>1</td>\n",
       "      <td>0</td>\n",
       "      <td>0</td>\n",
       "      <td>0</td>\n",
       "      <td>0</td>\n",
       "      <td>0</td>\n",
       "      <td>0</td>\n",
       "      <td>0</td>\n",
       "      <td>1</td>\n",
       "      <td>0</td>\n",
       "      <td>0</td>\n",
       "      <td>0</td>\n",
       "      <td>0</td>\n",
       "    </tr>\n",
       "    <tr>\n",
       "      <th>6</th>\n",
       "      <td>0</td>\n",
       "      <td>0</td>\n",
       "      <td>1</td>\n",
       "      <td>0</td>\n",
       "      <td>1</td>\n",
       "      <td>0</td>\n",
       "      <td>0</td>\n",
       "      <td>0</td>\n",
       "      <td>0</td>\n",
       "      <td>0</td>\n",
       "      <td>0</td>\n",
       "      <td>0</td>\n",
       "      <td>0</td>\n",
       "      <td>0</td>\n",
       "      <td>0</td>\n",
       "    </tr>\n",
       "    <tr>\n",
       "      <th>...</th>\n",
       "      <td>...</td>\n",
       "      <td>...</td>\n",
       "      <td>...</td>\n",
       "      <td>...</td>\n",
       "      <td>...</td>\n",
       "      <td>...</td>\n",
       "      <td>...</td>\n",
       "      <td>...</td>\n",
       "      <td>...</td>\n",
       "      <td>...</td>\n",
       "      <td>...</td>\n",
       "      <td>...</td>\n",
       "      <td>...</td>\n",
       "      <td>...</td>\n",
       "      <td>...</td>\n",
       "    </tr>\n",
       "    <tr>\n",
       "      <th>38044</th>\n",
       "      <td>1</td>\n",
       "      <td>0</td>\n",
       "      <td>1</td>\n",
       "      <td>0</td>\n",
       "      <td>0</td>\n",
       "      <td>0</td>\n",
       "      <td>0</td>\n",
       "      <td>1</td>\n",
       "      <td>0</td>\n",
       "      <td>0</td>\n",
       "      <td>0</td>\n",
       "      <td>0</td>\n",
       "      <td>0</td>\n",
       "      <td>0</td>\n",
       "      <td>0</td>\n",
       "    </tr>\n",
       "    <tr>\n",
       "      <th>38045</th>\n",
       "      <td>1</td>\n",
       "      <td>0</td>\n",
       "      <td>1</td>\n",
       "      <td>0</td>\n",
       "      <td>1</td>\n",
       "      <td>0</td>\n",
       "      <td>0</td>\n",
       "      <td>0</td>\n",
       "      <td>0</td>\n",
       "      <td>1</td>\n",
       "      <td>0</td>\n",
       "      <td>0</td>\n",
       "      <td>0</td>\n",
       "      <td>0</td>\n",
       "      <td>0</td>\n",
       "    </tr>\n",
       "    <tr>\n",
       "      <th>38046</th>\n",
       "      <td>1</td>\n",
       "      <td>0</td>\n",
       "      <td>1</td>\n",
       "      <td>0</td>\n",
       "      <td>1</td>\n",
       "      <td>0</td>\n",
       "      <td>0</td>\n",
       "      <td>0</td>\n",
       "      <td>0</td>\n",
       "      <td>1</td>\n",
       "      <td>0</td>\n",
       "      <td>0</td>\n",
       "      <td>0</td>\n",
       "      <td>0</td>\n",
       "      <td>0</td>\n",
       "    </tr>\n",
       "    <tr>\n",
       "      <th>38047</th>\n",
       "      <td>1</td>\n",
       "      <td>0</td>\n",
       "      <td>0</td>\n",
       "      <td>0</td>\n",
       "      <td>0</td>\n",
       "      <td>0</td>\n",
       "      <td>0</td>\n",
       "      <td>1</td>\n",
       "      <td>0</td>\n",
       "      <td>1</td>\n",
       "      <td>1</td>\n",
       "      <td>0</td>\n",
       "      <td>1</td>\n",
       "      <td>0</td>\n",
       "      <td>0</td>\n",
       "    </tr>\n",
       "    <tr>\n",
       "      <th>38048</th>\n",
       "      <td>1</td>\n",
       "      <td>0</td>\n",
       "      <td>1</td>\n",
       "      <td>0</td>\n",
       "      <td>0</td>\n",
       "      <td>0</td>\n",
       "      <td>0</td>\n",
       "      <td>0</td>\n",
       "      <td>0</td>\n",
       "      <td>0</td>\n",
       "      <td>0</td>\n",
       "      <td>0</td>\n",
       "      <td>0</td>\n",
       "      <td>0</td>\n",
       "      <td>0</td>\n",
       "    </tr>\n",
       "  </tbody>\n",
       "</table>\n",
       "<p>33812 rows × 15 columns</p>\n",
       "</div>"
      ],
      "text/plain": [
       "       Action & Adventure  Animation  Comedy  Documentary  Drama  Family  \\\n",
       "0                       0          0       0            0      1       0   \n",
       "1                       0          0       0            1      0       0   \n",
       "3                       0          0       0            0      1       0   \n",
       "5                       0          0       1            0      0       0   \n",
       "6                       0          0       1            0      1       0   \n",
       "...                   ...        ...     ...          ...    ...     ...   \n",
       "38044                   1          0       1            0      0       0   \n",
       "38045                   1          0       1            0      1       0   \n",
       "38046                   1          0       1            0      1       0   \n",
       "38047                   1          0       0            0      0       0   \n",
       "38048                   1          0       1            0      0       0   \n",
       "\n",
       "       History  Horror  Music  Romance  Sci-Fi & Fantasy  Sport  Thriller  \\\n",
       "0            0       0      0        0                 0      0         0   \n",
       "1            0       0      0        0                 0      0         0   \n",
       "3            0       0      0        0                 0      0         0   \n",
       "5            0       0      0        0                 1      0         0   \n",
       "6            0       0      0        0                 0      0         0   \n",
       "...        ...     ...    ...      ...               ...    ...       ...   \n",
       "38044        0       1      0        0                 0      0         0   \n",
       "38045        0       0      0        1                 0      0         0   \n",
       "38046        0       0      0        1                 0      0         0   \n",
       "38047        0       1      0        1                 1      0         1   \n",
       "38048        0       0      0        0                 0      0         0   \n",
       "\n",
       "       War  Western  \n",
       "0        0        0  \n",
       "1        0        0  \n",
       "3        0        0  \n",
       "5        0        0  \n",
       "6        0        0  \n",
       "...    ...      ...  \n",
       "38044    0        0  \n",
       "38045    0        0  \n",
       "38046    0        0  \n",
       "38047    0        0  \n",
       "38048    0        0  \n",
       "\n",
       "[33812 rows x 15 columns]"
      ]
     },
     "execution_count": 11,
     "metadata": {},
     "output_type": "execute_result"
    }
   ],
   "source": [
    "dummy_genres"
   ]
  },
  {
   "cell_type": "code",
   "execution_count": 12,
   "id": "4996dd85",
   "metadata": {
    "execution": {
     "iopub.execute_input": "2022-01-08T13:06:03.603774Z",
     "iopub.status.busy": "2022-01-08T13:06:03.602998Z",
     "iopub.status.idle": "2022-01-08T13:06:03.608590Z",
     "shell.execute_reply": "2022-01-08T13:06:03.607987Z",
     "shell.execute_reply.started": "2022-01-08T12:56:19.158598Z"
    },
    "papermill": {
     "duration": 0.056931,
     "end_time": "2022-01-08T13:06:03.608759",
     "exception": false,
     "start_time": "2022-01-08T13:06:03.551828",
     "status": "completed"
    },
    "tags": []
   },
   "outputs": [
    {
     "data": {
      "text/plain": [
       "Index(['Title', 'Plot', 'Genres', 'Action & Adventure', 'Animation', 'Comedy',\n",
       "       'Documentary', 'Drama', 'Family', 'History', 'Horror', 'Music',\n",
       "       'Romance', 'Sci-Fi & Fantasy', 'Sport', 'Thriller', 'War', 'Western'],\n",
       "      dtype='object')"
      ]
     },
     "execution_count": 12,
     "metadata": {},
     "output_type": "execute_result"
    }
   ],
   "source": [
    "df.columns"
   ]
  },
  {
   "cell_type": "code",
   "execution_count": 13,
   "id": "c2eeedad",
   "metadata": {
    "execution": {
     "iopub.execute_input": "2022-01-08T13:06:03.711089Z",
     "iopub.status.busy": "2022-01-08T13:06:03.710303Z",
     "iopub.status.idle": "2022-01-08T13:06:03.842169Z",
     "shell.execute_reply": "2022-01-08T13:06:03.843178Z",
     "shell.execute_reply.started": "2022-01-08T12:56:19.302374Z"
    },
    "papermill": {
     "duration": 0.18972,
     "end_time": "2022-01-08T13:06:03.843378",
     "exception": false,
     "start_time": "2022-01-08T13:06:03.653658",
     "status": "completed"
    },
    "tags": []
   },
   "outputs": [
    {
     "data": {
      "text/plain": [
       "\"Set in Ireland during the War of Independence, two sisters' lives are changed forever as they care for a wounded soldier in their home. What transpires in this historical period drama, is a tragic love story of an Anglo-Irish household and its inhabitants, caught in the crucible of deep dark secrets. Framed against a backdrop of a turbulent war-torn Ireland in the early1920's, May Collingwood is forced to make critical and difficult decisions when she rescues a British soldier and must now protect herself and sister Tilly. They live in fear of the British Black and Tans, the rising IRA, their own entrapment, and ultimately the dark secrets of un-requited love unfolding from within.\""
      ]
     },
     "execution_count": 13,
     "metadata": {},
     "output_type": "execute_result"
    }
   ],
   "source": [
    "import re\n",
    "\n",
    "#plot cleaning\n",
    "df.Plot = df.Plot.apply(lambda x: re.sub(\"\\\\x97.*\" , \"\", x).rstrip())\n",
    "df.Plot.values[-100]\n"
   ]
  },
  {
   "cell_type": "markdown",
   "id": "fbbe6149",
   "metadata": {
    "papermill": {
     "duration": 0.044782,
     "end_time": "2022-01-08T13:06:03.933437",
     "exception": false,
     "start_time": "2022-01-08T13:06:03.888655",
     "status": "completed"
    },
    "tags": []
   },
   "source": [
    "# Tokenization"
   ]
  },
  {
   "cell_type": "code",
   "execution_count": 14,
   "id": "f0d1ca07",
   "metadata": {
    "execution": {
     "iopub.execute_input": "2022-01-08T13:06:04.032473Z",
     "iopub.status.busy": "2022-01-08T13:06:04.031676Z",
     "iopub.status.idle": "2022-01-08T13:06:04.613728Z",
     "shell.execute_reply": "2022-01-08T13:06:04.613207Z",
     "shell.execute_reply.started": "2022-01-08T12:56:19.579762Z"
    },
    "papermill": {
     "duration": 0.635139,
     "end_time": "2022-01-08T13:06:04.613909",
     "exception": false,
     "start_time": "2022-01-08T13:06:03.978770",
     "status": "completed"
    },
    "tags": []
   },
   "outputs": [],
   "source": [
    "from keras.preprocessing import sequence\n",
    "from keras.models import Sequential\n",
    "from keras.layers import Dense, Embedding, SpatialDropout1D\n",
    "from keras.layers import LSTM\n",
    "from keras.preprocessing.text import Tokenizer\n",
    "from keras.preprocessing.sequence import pad_sequences\n",
    "\n",
    "max_features = 10000\n",
    "maxlen = 300\n",
    "embedding_dims = 300\n",
    "\n",
    "X = df['Plot'].values\n",
    "y = np.array(df.drop(['Title','Plot','Genres'], axis=1))"
   ]
  },
  {
   "cell_type": "code",
   "execution_count": 15,
   "id": "840944d9",
   "metadata": {
    "execution": {
     "iopub.execute_input": "2022-01-08T13:06:04.673300Z",
     "iopub.status.busy": "2022-01-08T13:06:04.672331Z",
     "iopub.status.idle": "2022-01-08T13:06:04.678363Z",
     "shell.execute_reply": "2022-01-08T13:06:04.677927Z",
     "shell.execute_reply.started": "2022-01-08T12:56:19.718115Z"
    },
    "papermill": {
     "duration": 0.036645,
     "end_time": "2022-01-08T13:06:04.678471",
     "exception": false,
     "start_time": "2022-01-08T13:06:04.641826",
     "status": "completed"
    },
    "tags": []
   },
   "outputs": [
    {
     "data": {
      "text/plain": [
       "('The Morning After is a feature film that consists of 8 vignettes that are inter-cut throughout the film. The 8 vignettes are about when you wake up next to someone the next morning...',\n",
       " array([0, 0, 1, 0, 1, 0, 0, 0, 0, 0, 0, 0, 0, 0, 0]))"
      ]
     },
     "execution_count": 15,
     "metadata": {},
     "output_type": "execute_result"
    }
   ],
   "source": [
    "X[4], y[4]"
   ]
  },
  {
   "cell_type": "code",
   "execution_count": 16,
   "id": "83082edd",
   "metadata": {
    "execution": {
     "iopub.execute_input": "2022-01-08T13:06:04.763502Z",
     "iopub.status.busy": "2022-01-08T13:06:04.758403Z",
     "iopub.status.idle": "2022-01-08T13:06:09.864573Z",
     "shell.execute_reply": "2022-01-08T13:06:09.864149Z",
     "shell.execute_reply.started": "2022-01-08T12:56:19.857230Z"
    },
    "papermill": {
     "duration": 5.158293,
     "end_time": "2022-01-08T13:06:09.864692",
     "exception": false,
     "start_time": "2022-01-08T13:06:04.706399",
     "status": "completed"
    },
    "tags": []
   },
   "outputs": [
    {
     "data": {
      "text/plain": [
       "78806"
      ]
     },
     "execution_count": 16,
     "metadata": {},
     "output_type": "execute_result"
    }
   ],
   "source": [
    "tokenizer = Tokenizer(num_words=max_features)\n",
    "tokenizer.fit_on_texts(X)\n",
    "\n",
    "X = tokenizer.texts_to_sequences(X)\n",
    "X = pad_sequences(X, maxlen, truncating='post')\n",
    "\n",
    "len(tokenizer.word_index)"
   ]
  },
  {
   "cell_type": "markdown",
   "id": "46fdbcb1",
   "metadata": {
    "papermill": {
     "duration": 0.028569,
     "end_time": "2022-01-08T13:06:09.921715",
     "exception": false,
     "start_time": "2022-01-08T13:06:09.893146",
     "status": "completed"
    },
    "tags": []
   },
   "source": [
    "# Embedding"
   ]
  },
  {
   "cell_type": "markdown",
   "id": "58ec7a04",
   "metadata": {
    "papermill": {
     "duration": 0.028419,
     "end_time": "2022-01-08T13:06:09.978427",
     "exception": false,
     "start_time": "2022-01-08T13:06:09.950008",
     "status": "completed"
    },
    "tags": []
   },
   "source": [
    "## Glove"
   ]
  },
  {
   "cell_type": "code",
   "execution_count": 17,
   "id": "e0f99d1f",
   "metadata": {
    "execution": {
     "iopub.execute_input": "2022-01-08T13:06:10.040734Z",
     "iopub.status.busy": "2022-01-08T13:06:10.039844Z",
     "iopub.status.idle": "2022-01-08T13:06:10.042265Z",
     "shell.execute_reply": "2022-01-08T13:06:10.041711Z",
     "shell.execute_reply.started": "2022-01-08T12:56:24.936073Z"
    },
    "papermill": {
     "duration": 0.034493,
     "end_time": "2022-01-08T13:06:10.042379",
     "exception": false,
     "start_time": "2022-01-08T13:06:10.007886",
     "status": "completed"
    },
    "tags": []
   },
   "outputs": [],
   "source": [
    "glove_emb_link = \"https://huggingface.co/stanfordnlp/glove/resolve/main/glove.6B.zip\""
   ]
  },
  {
   "cell_type": "code",
   "execution_count": 18,
   "id": "d7f8fadb",
   "metadata": {
    "execution": {
     "iopub.execute_input": "2022-01-08T13:06:10.104672Z",
     "iopub.status.busy": "2022-01-08T13:06:10.103871Z",
     "iopub.status.idle": "2022-01-08T13:06:49.473419Z",
     "shell.execute_reply": "2022-01-08T13:06:49.472330Z",
     "shell.execute_reply.started": "2022-01-08T12:56:24.942973Z"
    },
    "papermill": {
     "duration": 39.402868,
     "end_time": "2022-01-08T13:06:49.473838",
     "exception": false,
     "start_time": "2022-01-08T13:06:10.070970",
     "status": "completed"
    },
    "tags": []
   },
   "outputs": [],
   "source": [
    "from io import BytesIO, TextIOWrapper\n",
    "from zipfile import ZipFile\n",
    "import requests\n",
    "\n",
    "resp = requests.get(glove_emb_link)"
   ]
  },
  {
   "cell_type": "code",
   "execution_count": 19,
   "id": "ef5a87ee",
   "metadata": {
    "execution": {
     "iopub.execute_input": "2022-01-08T13:06:49.536950Z",
     "iopub.status.busy": "2022-01-08T13:06:49.536126Z",
     "iopub.status.idle": "2022-01-08T13:07:40.888489Z",
     "shell.execute_reply": "2022-01-08T13:07:40.889203Z",
     "shell.execute_reply.started": "2022-01-08T12:57:04.624689Z"
    },
    "papermill": {
     "duration": 51.38707,
     "end_time": "2022-01-08T13:07:40.889419",
     "exception": false,
     "start_time": "2022-01-08T13:06:49.502349",
     "status": "completed"
    },
    "tags": []
   },
   "outputs": [
    {
     "name": "stdout",
     "output_type": "stream",
     "text": [
      "Loaded 400001 word vectors.\n"
     ]
    }
   ],
   "source": [
    "embeddings_index = dict()\n",
    "\n",
    "with ZipFile(BytesIO(resp.content),'r') as zipfile:\n",
    "    with TextIOWrapper(zipfile.open(\"glove.6B.300d.txt\"), encoding=\"utf-8\") as file:\n",
    "        for line in file:\n",
    "            values = line.split()\n",
    "            word = values[0]\n",
    "            coefs = np.asarray(values[1:], dtype='float32')\n",
    "            embeddings_index[word] = coefs\n",
    "\n",
    "print('Loaded %s word vectors.' % len(embeddings_index))"
   ]
  },
  {
   "cell_type": "code",
   "execution_count": 20,
   "id": "bb4c01c9",
   "metadata": {
    "execution": {
     "iopub.execute_input": "2022-01-08T13:07:40.993931Z",
     "iopub.status.busy": "2022-01-08T13:07:40.992983Z",
     "iopub.status.idle": "2022-01-08T13:07:41.066811Z",
     "shell.execute_reply": "2022-01-08T13:07:41.067819Z",
     "shell.execute_reply.started": "2022-01-08T12:57:56.371391Z"
    },
    "papermill": {
     "duration": 0.13314,
     "end_time": "2022-01-08T13:07:41.068030",
     "exception": false,
     "start_time": "2022-01-08T13:07:40.934890",
     "status": "completed"
    },
    "tags": []
   },
   "outputs": [
    {
     "name": "stdout",
     "output_type": "stream",
     "text": [
      "10000\n"
     ]
    }
   ],
   "source": [
    "# create a weight matrix for words in training docs\n",
    "embedding_matrix = np.zeros((max_features, embedding_dims))\n",
    "for word, i in list(tokenizer.word_index.items())[:max_features-1]:\n",
    "    embedding_vector = embeddings_index.get(word)\n",
    "    if embedding_vector is not None:\n",
    "        embedding_matrix[i] = embedding_vector\n",
    "\n",
    "print(len(embedding_matrix))"
   ]
  },
  {
   "cell_type": "code",
   "execution_count": 21,
   "id": "c67ff4a8",
   "metadata": {
    "execution": {
     "iopub.execute_input": "2022-01-08T13:07:41.172458Z",
     "iopub.status.busy": "2022-01-08T13:07:41.171575Z",
     "iopub.status.idle": "2022-01-08T13:07:41.173833Z",
     "shell.execute_reply": "2022-01-08T13:07:41.173175Z",
     "shell.execute_reply.started": "2022-01-08T12:57:56.427263Z"
    },
    "papermill": {
     "duration": 0.058587,
     "end_time": "2022-01-08T13:07:41.173987",
     "exception": false,
     "start_time": "2022-01-08T13:07:41.115400",
     "status": "completed"
    },
    "tags": []
   },
   "outputs": [],
   "source": [
    "resp = None"
   ]
  },
  {
   "cell_type": "markdown",
   "id": "2e5d0a19",
   "metadata": {
    "papermill": {
     "duration": 0.046817,
     "end_time": "2022-01-08T13:07:41.267919",
     "exception": false,
     "start_time": "2022-01-08T13:07:41.221102",
     "status": "completed"
    },
    "tags": []
   },
   "source": [
    "## Classification"
   ]
  },
  {
   "cell_type": "code",
   "execution_count": 22,
   "id": "327d570b",
   "metadata": {
    "execution": {
     "iopub.execute_input": "2022-01-08T13:07:41.370266Z",
     "iopub.status.busy": "2022-01-08T13:07:41.368462Z",
     "iopub.status.idle": "2022-01-08T13:07:41.981836Z",
     "shell.execute_reply": "2022-01-08T13:07:41.980885Z",
     "shell.execute_reply.started": "2022-01-08T12:57:56.432541Z"
    },
    "papermill": {
     "duration": 0.667278,
     "end_time": "2022-01-08T13:07:41.981990",
     "exception": false,
     "start_time": "2022-01-08T13:07:41.314712",
     "status": "completed"
    },
    "tags": []
   },
   "outputs": [],
   "source": [
    "from sklearn.preprocessing import LabelEncoder\n",
    "from sklearn.model_selection import train_test_split\n",
    "\n",
    "X_train, X_test, y_train, y_test = train_test_split(X, y, test_size=0.20)"
   ]
  },
  {
   "cell_type": "markdown",
   "id": "9403054f",
   "metadata": {
    "papermill": {
     "duration": 0.031741,
     "end_time": "2022-01-08T13:07:42.042803",
     "exception": false,
     "start_time": "2022-01-08T13:07:42.011062",
     "status": "completed"
    },
    "tags": []
   },
   "source": [
    "## LSTM"
   ]
  },
  {
   "cell_type": "code",
   "execution_count": 23,
   "id": "d0a760ca",
   "metadata": {
    "execution": {
     "iopub.execute_input": "2022-01-08T13:07:42.109285Z",
     "iopub.status.busy": "2022-01-08T13:07:42.108422Z",
     "iopub.status.idle": "2022-01-08T13:07:42.436929Z",
     "shell.execute_reply": "2022-01-08T13:07:42.436446Z",
     "shell.execute_reply.started": "2022-01-08T12:57:56.460878Z"
    },
    "papermill": {
     "duration": 0.363579,
     "end_time": "2022-01-08T13:07:42.437073",
     "exception": false,
     "start_time": "2022-01-08T13:07:42.073494",
     "status": "completed"
    },
    "tags": []
   },
   "outputs": [],
   "source": [
    "from keras.layers import Dropout\n",
    "from keras.models import Model\n",
    "from keras.callbacks import EarlyStopping\n",
    "from tensorflow.keras.optimizers import Adam, schedules\n",
    "from tensorflow.keras.optimizers.schedules import ExponentialDecay\n",
    "\n",
    "n_labels = len(set([g for row in df.Genres for g in row.split(\",\")]))\n",
    "hidden_dims = 40"
   ]
  },
  {
   "cell_type": "code",
   "execution_count": 24,
   "id": "0aa49dc3",
   "metadata": {
    "execution": {
     "iopub.execute_input": "2022-01-08T13:07:42.507431Z",
     "iopub.status.busy": "2022-01-08T13:07:42.506480Z",
     "iopub.status.idle": "2022-01-08T13:07:42.508312Z",
     "shell.execute_reply": "2022-01-08T13:07:42.508726Z",
     "shell.execute_reply.started": "2022-01-08T12:57:56.493545Z"
    },
    "papermill": {
     "duration": 0.042301,
     "end_time": "2022-01-08T13:07:42.508904",
     "exception": false,
     "start_time": "2022-01-08T13:07:42.466603",
     "status": "completed"
    },
    "tags": []
   },
   "outputs": [],
   "source": [
    "from keras import backend as K\n",
    "\n",
    "#keras custom f1_score metric\n",
    "def f1(y_true, y_pred):\n",
    "    def recall(y_true, y_pred):\n",
    "        \"\"\"Recall metric.\"\"\"\n",
    "\n",
    "        true_positives = K.sum(K.round(K.clip(y_true * y_pred, 0, 1)))\n",
    "        possible_positives = K.sum(K.round(K.clip(y_true, 0, 1)))\n",
    "        recall = true_positives / (possible_positives + K.epsilon())\n",
    "        return recall\n",
    "\n",
    "    def precision(y_true, y_pred):\n",
    "        \"\"\"Precision metric.\"\"\"\n",
    "\n",
    "        true_positives = K.sum(K.round(K.clip(y_true * y_pred, 0, 1)))\n",
    "        predicted_positives = K.sum(K.round(K.clip(y_pred, 0, 1)))\n",
    "        precision = true_positives / (predicted_positives + K.epsilon())\n",
    "        return precision\n",
    "        \n",
    "    precision = precision(y_true, y_pred)\n",
    "    recall = recall(y_true, y_pred)\n",
    "    return 2*((precision*recall)/(precision+recall+K.epsilon()))"
   ]
  },
  {
   "cell_type": "markdown",
   "id": "4606063b",
   "metadata": {
    "papermill": {
     "duration": 0.029534,
     "end_time": "2022-01-08T13:07:42.568681",
     "exception": false,
     "start_time": "2022-01-08T13:07:42.539147",
     "status": "completed"
    },
    "tags": []
   },
   "source": [
    "### Training"
   ]
  },
  {
   "cell_type": "code",
   "execution_count": 25,
   "id": "c03e236a",
   "metadata": {
    "execution": {
     "iopub.execute_input": "2022-01-08T13:07:42.632935Z",
     "iopub.status.busy": "2022-01-08T13:07:42.632359Z",
     "iopub.status.idle": "2022-01-08T13:07:43.428985Z",
     "shell.execute_reply": "2022-01-08T13:07:43.428470Z",
     "shell.execute_reply.started": "2022-01-08T12:57:56.506203Z"
    },
    "papermill": {
     "duration": 0.831736,
     "end_time": "2022-01-08T13:07:43.429120",
     "exception": false,
     "start_time": "2022-01-08T13:07:42.597384",
     "status": "completed"
    },
    "tags": []
   },
   "outputs": [],
   "source": [
    "e = Embedding(max_features,\n",
    "              embedding_dims, \n",
    "              weights=[embedding_matrix], \n",
    "              input_length=maxlen, \n",
    "              trainable=False)\n",
    "\n",
    "model = Sequential()\n",
    "model.add(e)\n",
    "#model.add(Dropout(0.1))\n",
    "model.add(LSTM(hidden_dims, dropout=0.4))\n",
    "model.add(Dropout(0.4))\n",
    "model.add(Dense(n_labels, activation='sigmoid'))\n",
    "\n",
    "lr_schedule = ExponentialDecay(0.01, 100, 0.95, staircase=False, name=None)\n",
    "opt = Adam(lr_schedule)\n",
    "\n",
    "model.compile(loss='binary_crossentropy',\n",
    "              optimizer=opt,\n",
    "              metrics=[f1])"
   ]
  },
  {
   "cell_type": "code",
   "execution_count": 26,
   "id": "7e7bdf4e",
   "metadata": {
    "execution": {
     "iopub.execute_input": "2022-01-08T13:07:43.493511Z",
     "iopub.status.busy": "2022-01-08T13:07:43.492711Z",
     "iopub.status.idle": "2022-01-08T13:09:01.375005Z",
     "shell.execute_reply": "2022-01-08T13:09:01.375439Z",
     "shell.execute_reply.started": "2022-01-08T12:57:57.136660Z"
    },
    "papermill": {
     "duration": 77.917643,
     "end_time": "2022-01-08T13:09:01.375601",
     "exception": false,
     "start_time": "2022-01-08T13:07:43.457958",
     "status": "completed"
    },
    "tags": []
   },
   "outputs": [
    {
     "name": "stdout",
     "output_type": "stream",
     "text": [
      "Train...\n",
      "Epoch 1/50\n"
     ]
    },
    {
     "name": "stderr",
     "output_type": "stream",
     "text": [
      "2022-01-08 13:07:43.559034: I tensorflow/compiler/mlir/mlir_graph_optimization_pass.cc:185] None of the MLIR Optimization Passes are enabled (registered 2)\n",
      "2022-01-08 13:07:45.989691: I tensorflow/stream_executor/cuda/cuda_dnn.cc:369] Loaded cuDNN version 8005\n"
     ]
    },
    {
     "name": "stdout",
     "output_type": "stream",
     "text": [
      "43/43 [==============================] - 6s 47ms/step - loss: 0.3980 - f1: 0.4477 - val_loss: 0.3468 - val_f1: 0.4552\n",
      "Epoch 2/50\n",
      "43/43 [==============================] - 2s 37ms/step - loss: 0.3460 - f1: 0.5117 - val_loss: 0.3124 - val_f1: 0.5601\n",
      "Epoch 3/50\n",
      "43/43 [==============================] - 2s 37ms/step - loss: 0.3201 - f1: 0.5805 - val_loss: 0.2956 - val_f1: 0.6064\n",
      "Epoch 4/50\n",
      "43/43 [==============================] - 2s 37ms/step - loss: 0.3085 - f1: 0.6005 - val_loss: 0.2866 - val_f1: 0.6354\n",
      "Epoch 5/50\n",
      "43/43 [==============================] - 2s 37ms/step - loss: 0.3001 - f1: 0.6181 - val_loss: 0.2814 - val_f1: 0.6276\n",
      "Epoch 6/50\n",
      "43/43 [==============================] - 2s 37ms/step - loss: 0.2961 - f1: 0.6228 - val_loss: 0.2772 - val_f1: 0.6574\n",
      "Epoch 7/50\n",
      "43/43 [==============================] - 2s 38ms/step - loss: 0.2916 - f1: 0.6298 - val_loss: 0.2743 - val_f1: 0.6466\n",
      "Epoch 8/50\n",
      "43/43 [==============================] - 2s 37ms/step - loss: 0.2888 - f1: 0.6350 - val_loss: 0.2741 - val_f1: 0.6662\n",
      "Epoch 9/50\n",
      "43/43 [==============================] - 2s 37ms/step - loss: 0.2867 - f1: 0.6380 - val_loss: 0.2710 - val_f1: 0.6583\n",
      "Epoch 10/50\n",
      "43/43 [==============================] - 2s 37ms/step - loss: 0.2846 - f1: 0.6434 - val_loss: 0.2702 - val_f1: 0.6615\n",
      "Epoch 11/50\n",
      "43/43 [==============================] - 2s 37ms/step - loss: 0.2825 - f1: 0.6444 - val_loss: 0.2707 - val_f1: 0.6621\n",
      "Epoch 12/50\n",
      "43/43 [==============================] - 2s 37ms/step - loss: 0.2814 - f1: 0.6471 - val_loss: 0.2684 - val_f1: 0.6636\n",
      "Epoch 13/50\n",
      "43/43 [==============================] - 2s 37ms/step - loss: 0.2797 - f1: 0.6505 - val_loss: 0.2673 - val_f1: 0.6647\n",
      "Epoch 14/50\n",
      "43/43 [==============================] - 2s 38ms/step - loss: 0.2782 - f1: 0.6502 - val_loss: 0.2666 - val_f1: 0.6672\n",
      "Epoch 15/50\n",
      "43/43 [==============================] - 2s 38ms/step - loss: 0.2775 - f1: 0.6529 - val_loss: 0.2652 - val_f1: 0.6655\n",
      "Epoch 16/50\n",
      "43/43 [==============================] - 2s 38ms/step - loss: 0.2759 - f1: 0.6558 - val_loss: 0.2649 - val_f1: 0.6655\n",
      "Epoch 17/50\n",
      "43/43 [==============================] - 2s 39ms/step - loss: 0.2746 - f1: 0.6555 - val_loss: 0.2640 - val_f1: 0.6696\n",
      "Epoch 18/50\n",
      "43/43 [==============================] - 2s 37ms/step - loss: 0.2744 - f1: 0.6555 - val_loss: 0.2652 - val_f1: 0.6644\n",
      "Epoch 19/50\n",
      "43/43 [==============================] - 2s 37ms/step - loss: 0.2724 - f1: 0.6601 - val_loss: 0.2627 - val_f1: 0.6696\n",
      "Epoch 20/50\n",
      "43/43 [==============================] - 2s 37ms/step - loss: 0.2722 - f1: 0.6598 - val_loss: 0.2630 - val_f1: 0.6737\n",
      "Epoch 21/50\n",
      "43/43 [==============================] - 2s 38ms/step - loss: 0.2702 - f1: 0.6606 - val_loss: 0.2616 - val_f1: 0.6774\n",
      "Epoch 22/50\n",
      "43/43 [==============================] - 2s 37ms/step - loss: 0.2698 - f1: 0.6634 - val_loss: 0.2633 - val_f1: 0.6803\n",
      "Epoch 23/50\n",
      "43/43 [==============================] - 2s 37ms/step - loss: 0.2687 - f1: 0.6639 - val_loss: 0.2612 - val_f1: 0.6773\n",
      "Epoch 24/50\n",
      "43/43 [==============================] - 2s 37ms/step - loss: 0.2681 - f1: 0.6658 - val_loss: 0.2616 - val_f1: 0.6750\n",
      "Epoch 25/50\n",
      "43/43 [==============================] - 2s 37ms/step - loss: 0.2684 - f1: 0.6632 - val_loss: 0.2631 - val_f1: 0.6726\n",
      "Epoch 26/50\n",
      "43/43 [==============================] - 2s 37ms/step - loss: 0.2665 - f1: 0.6674 - val_loss: 0.2612 - val_f1: 0.6809\n",
      "Epoch 27/50\n",
      "43/43 [==============================] - 2s 37ms/step - loss: 0.2665 - f1: 0.6682 - val_loss: 0.2617 - val_f1: 0.6788\n",
      "Epoch 28/50\n",
      "43/43 [==============================] - 2s 37ms/step - loss: 0.2657 - f1: 0.6716 - val_loss: 0.2608 - val_f1: 0.6808\n",
      "Epoch 29/50\n",
      "43/43 [==============================] - 2s 37ms/step - loss: 0.2646 - f1: 0.6715 - val_loss: 0.2624 - val_f1: 0.6791\n",
      "Epoch 30/50\n",
      "43/43 [==============================] - 2s 37ms/step - loss: 0.2645 - f1: 0.6729 - val_loss: 0.2601 - val_f1: 0.6821\n",
      "Epoch 31/50\n",
      "43/43 [==============================] - 2s 37ms/step - loss: 0.2640 - f1: 0.6711 - val_loss: 0.2604 - val_f1: 0.6778\n",
      "Epoch 32/50\n",
      "43/43 [==============================] - 2s 38ms/step - loss: 0.2640 - f1: 0.6728 - val_loss: 0.2606 - val_f1: 0.6774\n",
      "Epoch 33/50\n",
      "43/43 [==============================] - 2s 37ms/step - loss: 0.2633 - f1: 0.6714 - val_loss: 0.2605 - val_f1: 0.6842\n",
      "Epoch 34/50\n",
      "43/43 [==============================] - 2s 37ms/step - loss: 0.2627 - f1: 0.6742 - val_loss: 0.2614 - val_f1: 0.6813\n",
      "Epoch 35/50\n",
      "43/43 [==============================] - 2s 38ms/step - loss: 0.2627 - f1: 0.6735 - val_loss: 0.2613 - val_f1: 0.6769\n",
      "Epoch 36/50\n",
      "43/43 [==============================] - 2s 38ms/step - loss: 0.2615 - f1: 0.6762 - val_loss: 0.2595 - val_f1: 0.6836\n",
      "Epoch 37/50\n",
      "43/43 [==============================] - 2s 38ms/step - loss: 0.2611 - f1: 0.6745 - val_loss: 0.2602 - val_f1: 0.6785\n",
      "Epoch 38/50\n",
      "43/43 [==============================] - 2s 37ms/step - loss: 0.2605 - f1: 0.6771 - val_loss: 0.2597 - val_f1: 0.6843\n",
      "Epoch 39/50\n",
      "43/43 [==============================] - 2s 37ms/step - loss: 0.2597 - f1: 0.6789 - val_loss: 0.2616 - val_f1: 0.6796\n",
      "Epoch 40/50\n",
      "43/43 [==============================] - 2s 37ms/step - loss: 0.2603 - f1: 0.6779 - val_loss: 0.2595 - val_f1: 0.6845\n",
      "Epoch 41/50\n",
      "43/43 [==============================] - 2s 37ms/step - loss: 0.2597 - f1: 0.6776 - val_loss: 0.2597 - val_f1: 0.6849\n",
      "Epoch 42/50\n",
      "43/43 [==============================] - 2s 38ms/step - loss: 0.2595 - f1: 0.6775 - val_loss: 0.2605 - val_f1: 0.6843\n",
      "Epoch 43/50\n",
      "43/43 [==============================] - 2s 38ms/step - loss: 0.2595 - f1: 0.6783 - val_loss: 0.2602 - val_f1: 0.6847\n",
      "Epoch 44/50\n",
      "43/43 [==============================] - 2s 37ms/step - loss: 0.2591 - f1: 0.6780 - val_loss: 0.2607 - val_f1: 0.6828\n",
      "Epoch 45/50\n",
      "43/43 [==============================] - 2s 37ms/step - loss: 0.2585 - f1: 0.6800 - val_loss: 0.2600 - val_f1: 0.6830\n",
      "Epoch 46/50\n",
      "43/43 [==============================] - 2s 37ms/step - loss: 0.2574 - f1: 0.6821 - val_loss: 0.2604 - val_f1: 0.6856\n",
      "Epoch 00046: early stopping\n"
     ]
    },
    {
     "data": {
      "text/plain": [
       "<keras.callbacks.History at 0x7feec75c27d0>"
      ]
     },
     "execution_count": 26,
     "metadata": {},
     "output_type": "execute_result"
    }
   ],
   "source": [
    "batch_size = 512\n",
    "epochs = 50\n",
    "es = EarlyStopping(monitor='val_loss', patience=10, verbose=1)\n",
    "\n",
    "\n",
    "print('Train...')\n",
    "model.fit(X_train, y_train,\n",
    "          batch_size=batch_size,\n",
    "          epochs=epochs,\n",
    "          validation_split=0.2,\n",
    "          callbacks=[es])"
   ]
  },
  {
   "cell_type": "markdown",
   "id": "ecdb8473",
   "metadata": {
    "papermill": {
     "duration": 0.311396,
     "end_time": "2022-01-08T13:09:01.989281",
     "exception": false,
     "start_time": "2022-01-08T13:09:01.677885",
     "status": "completed"
    },
    "tags": []
   },
   "source": [
    "#### Training visualization"
   ]
  },
  {
   "cell_type": "code",
   "execution_count": 27,
   "id": "24a8bc60",
   "metadata": {
    "execution": {
     "iopub.execute_input": "2022-01-08T13:09:02.617533Z",
     "iopub.status.busy": "2022-01-08T13:09:02.616959Z",
     "iopub.status.idle": "2022-01-08T13:09:02.620797Z",
     "shell.execute_reply": "2022-01-08T13:09:02.620352Z",
     "shell.execute_reply.started": "2022-01-08T12:59:20.455723Z"
    },
    "papermill": {
     "duration": 0.313045,
     "end_time": "2022-01-08T13:09:02.620918",
     "exception": false,
     "start_time": "2022-01-08T13:09:02.307873",
     "status": "completed"
    },
    "tags": []
   },
   "outputs": [],
   "source": [
    "train_loss = model.history.history['loss']\n",
    "train_f1 = model.history.history['f1']\n",
    "\n",
    "val_loss = model.history.history['val_loss']\n",
    "val_f1 = model.history.history['val_f1']"
   ]
  },
  {
   "cell_type": "code",
   "execution_count": 28,
   "id": "cd27d69d",
   "metadata": {
    "execution": {
     "iopub.execute_input": "2022-01-08T13:09:03.233879Z",
     "iopub.status.busy": "2022-01-08T13:09:03.233219Z",
     "iopub.status.idle": "2022-01-08T13:09:07.495742Z",
     "shell.execute_reply": "2022-01-08T13:09:07.496178Z",
     "shell.execute_reply.started": "2022-01-08T12:59:20.462509Z"
    },
    "papermill": {
     "duration": 4.569674,
     "end_time": "2022-01-08T13:09:07.496340",
     "exception": false,
     "start_time": "2022-01-08T13:09:02.926666",
     "status": "completed"
    },
    "tags": []
   },
   "outputs": [
    {
     "data": {
      "image/png": "[encoded data removed]",
      "text/plain": [
       "<Figure size 1080x432 with 2 Axes>"
      ]
     },
     "metadata": {
      "needs_background": "light"
     },
     "output_type": "display_data"
    }
   ],
   "source": [
    "import matplotlib.pyplot as plt\n",
    "\n",
    "fig, (ax1, ax2) = plt.subplots(1,2,figsize=(15,6))\n",
    "ax1.plot(train_loss, color='tab:red',label='train', linestyle='dashed')\n",
    "ax1.plot(val_loss, color='tab:blue', label='validation')\n",
    "ax1.set_title(\"Loss\")\n",
    "ax1.legend()\n",
    "ax2.plot(train_f1, color='tab:red',label='train',linestyle='dashed')\n",
    "ax2.plot(val_f1, color='tab:blue', label='validation')\n",
    "ax2.set_title(\"F1_score\")\n",
    "ax2.legend()\n",
    "plt.show()"
   ]
  },
  {
   "cell_type": "markdown",
   "id": "d97ba274",
   "metadata": {
    "papermill": {
     "duration": 0.30901,
     "end_time": "2022-01-08T13:09:08.109303",
     "exception": false,
     "start_time": "2022-01-08T13:09:07.800293",
     "status": "completed"
    },
    "tags": []
   },
   "source": [
    "### Prediction"
   ]
  },
  {
   "cell_type": "code",
   "execution_count": 29,
   "id": "eecc59d0",
   "metadata": {
    "execution": {
     "iopub.execute_input": "2022-01-08T13:09:08.720648Z",
     "iopub.status.busy": "2022-01-08T13:09:08.719633Z",
     "iopub.status.idle": "2022-01-08T13:09:10.167711Z",
     "shell.execute_reply": "2022-01-08T13:09:10.168144Z",
     "shell.execute_reply.started": "2022-01-08T13:04:44.179185Z"
    },
    "papermill": {
     "duration": 1.754646,
     "end_time": "2022-01-08T13:09:10.168301",
     "exception": false,
     "start_time": "2022-01-08T13:09:08.413655",
     "status": "completed"
    },
    "tags": []
   },
   "outputs": [
    {
     "name": "stdout",
     "output_type": "stream",
     "text": [
      "Keras custom f1: 0.6863842\n",
      "Sklearn f1_micro: 0.686384210970227\n"
     ]
    }
   ],
   "source": [
    "from sklearn.metrics import f1_score\n",
    "\n",
    "y_pred = model.predict([X_test], verbose=3)\n",
    "print(\"Keras custom f1:\",f1(y_test.astype(np.float32),y_pred).numpy())\n",
    "print(\"Sklearn f1_micro:\",f1_score(y_test,y_pred.round(), average='micro'))"
   ]
  },
  {
   "cell_type": "code",
   "execution_count": 31,
   "id": "e3a23cf3",
   "metadata": {
    "execution": {
     "iopub.execute_input": "2022-01-08T13:09:11.410416Z",
     "iopub.status.busy": "2022-01-08T13:09:11.409543Z",
     "iopub.status.idle": "2022-01-08T13:09:11.423897Z",
     "shell.execute_reply": "2022-01-08T13:09:11.423456Z",
     "shell.execute_reply.started": "2022-01-08T12:59:22.146725Z"
    },
    "papermill": {
     "duration": 0.323663,
     "end_time": "2022-01-08T13:09:11.424026",
     "exception": false,
     "start_time": "2022-01-08T13:09:11.100363",
     "status": "completed"
    },
    "tags": []
   },
   "outputs": [
    {
     "data": {
      "text/plain": [
       "array([[[   0, 1645],\n",
       "        [   0, 5118]],\n",
       "\n",
       "       [[6402,   48],\n",
       "        [ 243,   70]],\n",
       "\n",
       "       [[4000,  627],\n",
       "        [ 968, 1168]],\n",
       "\n",
       "       [[5681,  156],\n",
       "        [ 370,  556]],\n",
       "\n",
       "       [[2506,  926],\n",
       "        [ 996, 2335]],\n",
       "\n",
       "       [[6098,   91],\n",
       "        [ 412,  162]],\n",
       "\n",
       "       [[6421,   13],\n",
       "        [ 309,   20]],\n",
       "\n",
       "       [[5708,  185],\n",
       "        [ 330,  540]],\n",
       "\n",
       "       [[6300,   55],\n",
       "        [ 300,  108]],\n",
       "\n",
       "       [[5282,  250],\n",
       "        [ 785,  446]],\n",
       "\n",
       "       [[5633,  182],\n",
       "        [ 547,  401]],\n",
       "\n",
       "       [[6527,   34],\n",
       "        [ 141,   61]],\n",
       "\n",
       "       [[4532,  442],\n",
       "        [ 788, 1001]],\n",
       "\n",
       "       [[6438,   51],\n",
       "        [ 139,  135]],\n",
       "\n",
       "       [[6555,   12],\n",
       "        [ 110,   86]]])"
      ]
     },
     "execution_count": 31,
     "metadata": {},
     "output_type": "execute_result"
    }
   ],
   "source": [
    "from sklearn.metrics import multilabel_confusion_matrix\n",
    "\n",
    "multilabel_confusion_matrix(y_test, y_pred.round())"
   ]
  }
 ],
 "metadata": {
  "kernelspec": {
   "display_name": "Python 3",
   "language": "python",
   "name": "python3"
  },
  "language_info": {
   "codemirror_mode": {
    "name": "ipython",
    "version": 3
   },
   "file_extension": ".py",
   "mimetype": "text/x-python",
   "name": "python",
   "nbconvert_exporter": "python",
   "pygments_lexer": "ipython3",
   "version": "3.7.12"
  },
  "papermill": {
   "default_parameters": {},
   "duration": 207.506498,
   "end_time": "2022-01-08T13:09:15.152406",
   "environment_variables": {},
   "exception": null,
   "input_path": "__notebook__.ipynb",
   "output_path": "__notebook__.ipynb",
   "parameters": {},
   "start_time": "2022-01-08T13:05:47.645908",
   "version": "2.3.3"
  }
 },
 "nbformat": 4,
 "nbformat_minor": 5
}
