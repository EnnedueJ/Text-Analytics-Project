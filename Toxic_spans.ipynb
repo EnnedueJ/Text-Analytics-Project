{
 "cells": [
  {
   "cell_type": "code",
   "execution_count": 2,
   "metadata": {},
   "outputs": [],
   "source": [
    "import urllib.request\n",
    "import os\n",
    "\n",
    "def download_file(url,local_file, force=False):\n",
    "    \"\"\"\n",
    "    Helper function to download a file and store it locally\n",
    "    \"\"\"\n",
    "    if not os.path.exists(local_file) or force:\n",
    "        print('Downloading',url,'to',local_file)\n",
    "        with urllib.request.urlopen(url) as opener, \\\n",
    "             open(local_file, mode='w', encoding='utf-8') as outfile:\n",
    "                    outfile.write(opener.read().decode('utf-8'))\n",
    "    else:\n",
    "        print(local_file,'already downloaded')"
   ]
  },
  {
   "cell_type": "code",
   "execution_count": 3,
   "metadata": {},
   "outputs": [
    {
     "ename": "TypeError",
     "evalue": "download_file() missing 1 required positional argument: 'local_file'",
     "output_type": "error",
     "traceback": [
      "\u001b[1;31m---------------------------------------------------------------------------\u001b[0m",
      "\u001b[1;31mTypeError\u001b[0m                                 Traceback (most recent call last)",
      "\u001b[1;32m<ipython-input-3-db7d1bfc293d>\u001b[0m in \u001b[0;36m<module>\u001b[1;34m\u001b[0m\n\u001b[1;32m----> 1\u001b[1;33m \u001b[0mdownload_file\u001b[0m\u001b[1;33m(\u001b[0m\u001b[1;34m'https://raw.githubusercontent.com/ipavlopoulos/toxic_spans/master/data/tsd_train.csv'\u001b[0m\u001b[1;33m)\u001b[0m\u001b[1;33m\u001b[0m\u001b[1;33m\u001b[0m\u001b[0m\n\u001b[0m",
      "\u001b[1;31mTypeError\u001b[0m: download_file() missing 1 required positional argument: 'local_file'"
     ]
    }
   ],
   "source": [
    "train_file = 'toxic.csv'\n",
    "download_file('https://raw.githubusercontent.com/ipavlopoulos/toxic_spans/master/data/tsd_train.csv', train_file)"
   ]
  },
  {
   "cell_type": "code",
   "execution_count": null,
   "metadata": {},
   "outputs": [],
   "source": []
  }
 ],
 "metadata": {
  "kernelspec": {
   "display_name": "Python 3",
   "language": "python",
   "name": "python3"
  },
  "language_info": {
   "codemirror_mode": {
    "name": "ipython",
    "version": 3
   },
   "file_extension": ".py",
   "mimetype": "text/x-python",
   "name": "python",
   "nbconvert_exporter": "python",
   "pygments_lexer": "ipython3",
   "version": "3.8.5"
  }
 },
 "nbformat": 4,
 "nbformat_minor": 4
}
